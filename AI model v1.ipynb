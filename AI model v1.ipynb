{
  "nbformat": 4,
  "nbformat_minor": 0,
  "metadata": {
    "colab": {
      "name": "換向閥 ai model v1.ipynb",
      "provenance": [],
      "collapsed_sections": [
        "NhoMSPEsZkui"
      ],
      "toc_visible": true,
      "authorship_tag": "ABX9TyNgc9Wby9G0+MvlUx3/bPQ/",
      "include_colab_link": true
    },
    "kernelspec": {
      "name": "python3",
      "display_name": "Python 3"
    },
    "language_info": {
      "name": "python"
    },
    "accelerator": "GPU"
  },
  "cells": [
    {
      "cell_type": "markdown",
      "metadata": {
        "id": "view-in-github",
        "colab_type": "text"
      },
      "source": [
        "<a href=\"https://colab.research.google.com/github/overred0704/direction_valve_monitor/blob/main/AI%20model%20v1.ipynb\" target=\"_parent\"><img src=\"https://colab.research.google.com/assets/colab-badge.svg\" alt=\"Open In Colab\"/></a>"
      ]
    },
    {
      "cell_type": "markdown",
      "metadata": {
        "id": "kkeZBCvhJXpN"
      },
      "source": [
        "#load data"
      ]
    },
    {
      "cell_type": "code",
      "metadata": {
        "colab": {
          "base_uri": "https://localhost:8080/"
        },
        "id": "oCxBt093JNAc",
        "outputId": "05b43e69-981f-4cb1-ad27-1d9f7ef8920d"
      },
      "source": [
        "from google.colab import drive\n",
        "drive.mount('/content/drive')"
      ],
      "execution_count": null,
      "outputs": [
        {
          "output_type": "stream",
          "text": [
            "Drive already mounted at /content/drive; to attempt to forcibly remount, call drive.mount(\"/content/drive\", force_remount=True).\n"
          ],
          "name": "stdout"
        }
      ]
    },
    {
      "cell_type": "code",
      "metadata": {
        "id": "EkYbfB3NJbSf"
      },
      "source": [
        "import pandas as pd\n",
        "import numpy as np"
      ],
      "execution_count": null,
      "outputs": []
    },
    {
      "cell_type": "code",
      "metadata": {
        "colab": {
          "base_uri": "https://localhost:8080/"
        },
        "id": "edlkR1alJfb6",
        "outputId": "609c73af-5e09-4d77-a262-1b5c2cd4d21c"
      },
      "source": [
        "d1 = pd.read_csv('/content/drive/MyDrive/金屬中心/能專/資料/rawdata.csv')"
      ],
      "execution_count": null,
      "outputs": [
        {
          "output_type": "stream",
          "text": [
            "/usr/local/lib/python3.7/dist-packages/IPython/core/interactiveshell.py:2718: DtypeWarning: Columns (30,31,32,33,34,35,36,37,38,39,40,41,42,43,44,45,46,47,48) have mixed types.Specify dtype option on import or set low_memory=False.\n",
            "  interactivity=interactivity, compiler=compiler, result=result)\n"
          ],
          "name": "stderr"
        }
      ]
    },
    {
      "cell_type": "code",
      "metadata": {
        "id": "y2O2B3QJJ2zN"
      },
      "source": [
        "d1 = d1.drop('Unnamed: 0', axis=1)"
      ],
      "execution_count": null,
      "outputs": []
    },
    {
      "cell_type": "code",
      "metadata": {
        "colab": {
          "base_uri": "https://localhost:8080/",
          "height": 524
        },
        "id": "knLwbX5NJ-Uq",
        "outputId": "b1162dd1-2afa-4c96-c99d-6b7171f7d26d"
      },
      "source": [
        "d1"
      ],
      "execution_count": null,
      "outputs": [
        {
          "output_type": "execute_result",
          "data": {
            "text/html": [
              "<div>\n",
              "<style scoped>\n",
              "    .dataframe tbody tr th:only-of-type {\n",
              "        vertical-align: middle;\n",
              "    }\n",
              "\n",
              "    .dataframe tbody tr th {\n",
              "        vertical-align: top;\n",
              "    }\n",
              "\n",
              "    .dataframe thead th {\n",
              "        text-align: right;\n",
              "    }\n",
              "</style>\n",
              "<table border=\"1\" class=\"dataframe\">\n",
              "  <thead>\n",
              "    <tr style=\"text-align: right;\">\n",
              "      <th></th>\n",
              "      <th>date</th>\n",
              "      <th>time</th>\n",
              "      <th>掃氣時間(sec)</th>\n",
              "      <th>點火穩定時間(sec)</th>\n",
              "      <th>換向時間(sec)</th>\n",
              "      <th>洩壓閥洩壓壓力(Pa)</th>\n",
              "      <th>目標爐壓(Pa)</th>\n",
              "      <th>停機爐壓(Pa)</th>\n",
              "      <th>目標爐溫(℃)</th>\n",
              "      <th>換向閥溫度(℃)</th>\n",
              "      <th>換向閥停機溫度(℃)</th>\n",
              "      <th>摻冷風溫度(℃)</th>\n",
              "      <th>引風機停機溫度(℃)</th>\n",
              "      <th>FGR溫度(℃)</th>\n",
              "      <th>引風伺服閥開度()</th>\n",
              "      <th>M1伺服閥開度()</th>\n",
              "      <th>M2伺服閥開度()</th>\n",
              "      <th>M3伺服閥開度()</th>\n",
              "      <th>M4伺服閥開度()</th>\n",
              "      <th>持溫時間()</th>\n",
              "      <th>1080烘爐時間()</th>\n",
              "      <th>引風伺服閥開度(%)</th>\n",
              "      <th>M1伺服閥開度(%)</th>\n",
              "      <th>M2伺服閥開度(%)</th>\n",
              "      <th>M3伺服閥開度(%)</th>\n",
              "      <th>M4伺服閥開度(%)</th>\n",
              "      <th>#2爐壓(Pa)</th>\n",
              "      <th>平均爐壓(Pa)</th>\n",
              "      <th>#1爐門開關()</th>\n",
              "      <th>#2爐門開關()</th>\n",
              "      <th>1_air</th>\n",
              "      <th>1_smoke</th>\n",
              "      <th>2_air</th>\n",
              "      <th>2_smoke</th>\n",
              "      <th>3_air</th>\n",
              "      <th>3_smoke</th>\n",
              "      <th>4_air</th>\n",
              "      <th>4_smoke</th>\n",
              "      <th>5_air</th>\n",
              "      <th>5_smoke</th>\n",
              "      <th>6_air</th>\n",
              "      <th>6_smoke</th>\n",
              "      <th>7_air</th>\n",
              "      <th>7_smoke</th>\n",
              "      <th>8_air</th>\n",
              "      <th>8_smoke</th>\n",
              "      <th>9_air</th>\n",
              "      <th>9_smoke</th>\n",
              "    </tr>\n",
              "  </thead>\n",
              "  <tbody>\n",
              "    <tr>\n",
              "      <th>0</th>\n",
              "      <td>2021/04/06</td>\n",
              "      <td>00:00:03</td>\n",
              "      <td>60.0</td>\n",
              "      <td>180.0</td>\n",
              "      <td>30.0</td>\n",
              "      <td>330.0</td>\n",
              "      <td>150.0</td>\n",
              "      <td>250.0</td>\n",
              "      <td>1080.0</td>\n",
              "      <td>200.0</td>\n",
              "      <td>250.0</td>\n",
              "      <td>220.0</td>\n",
              "      <td>250.0</td>\n",
              "      <td>800.0</td>\n",
              "      <td>100.0</td>\n",
              "      <td>100.0</td>\n",
              "      <td>100.0</td>\n",
              "      <td>100.0</td>\n",
              "      <td>100.0</td>\n",
              "      <td>38.0</td>\n",
              "      <td>420.0</td>\n",
              "      <td>70.0</td>\n",
              "      <td>80.0</td>\n",
              "      <td>80.0</td>\n",
              "      <td>80.0</td>\n",
              "      <td>80.0</td>\n",
              "      <td>-450.0</td>\n",
              "      <td>300.0</td>\n",
              "      <td>1.0</td>\n",
              "      <td>0</td>\n",
              "      <td>0.61</td>\n",
              "      <td>0.63</td>\n",
              "      <td>0.85</td>\n",
              "      <td>0.71</td>\n",
              "      <td>0.71</td>\n",
              "      <td>0.64</td>\n",
              "      <td>0.68</td>\n",
              "      <td>0.79</td>\n",
              "      <td>0.59</td>\n",
              "      <td>0.81</td>\n",
              "      <td>0.61</td>\n",
              "      <td>0.75</td>\n",
              "      <td>0.68</td>\n",
              "      <td>0.79</td>\n",
              "      <td>0.69</td>\n",
              "      <td>0.54</td>\n",
              "      <td>0.83</td>\n",
              "      <td>0.87</td>\n",
              "    </tr>\n",
              "    <tr>\n",
              "      <th>1</th>\n",
              "      <td>2021/04/06</td>\n",
              "      <td>00:00:07</td>\n",
              "      <td>60.0</td>\n",
              "      <td>180.0</td>\n",
              "      <td>30.0</td>\n",
              "      <td>330.0</td>\n",
              "      <td>150.0</td>\n",
              "      <td>250.0</td>\n",
              "      <td>1080.0</td>\n",
              "      <td>200.0</td>\n",
              "      <td>250.0</td>\n",
              "      <td>220.0</td>\n",
              "      <td>250.0</td>\n",
              "      <td>800.0</td>\n",
              "      <td>100.0</td>\n",
              "      <td>100.0</td>\n",
              "      <td>100.0</td>\n",
              "      <td>100.0</td>\n",
              "      <td>100.0</td>\n",
              "      <td>38.0</td>\n",
              "      <td>420.0</td>\n",
              "      <td>82.0</td>\n",
              "      <td>80.0</td>\n",
              "      <td>80.0</td>\n",
              "      <td>80.0</td>\n",
              "      <td>80.0</td>\n",
              "      <td>-450.0</td>\n",
              "      <td>300.0</td>\n",
              "      <td>1.0</td>\n",
              "      <td>0</td>\n",
              "      <td>0.61</td>\n",
              "      <td>0.63</td>\n",
              "      <td>0.85</td>\n",
              "      <td>0.71</td>\n",
              "      <td>0.71</td>\n",
              "      <td>0.64</td>\n",
              "      <td>0.68</td>\n",
              "      <td>0.79</td>\n",
              "      <td>0.59</td>\n",
              "      <td>0.78</td>\n",
              "      <td>0.58</td>\n",
              "      <td>0.75</td>\n",
              "      <td>0.68</td>\n",
              "      <td>0.79</td>\n",
              "      <td>0.69</td>\n",
              "      <td>0.54</td>\n",
              "      <td>0.83</td>\n",
              "      <td>0.87</td>\n",
              "    </tr>\n",
              "    <tr>\n",
              "      <th>2</th>\n",
              "      <td>2021/04/06</td>\n",
              "      <td>00:00:11</td>\n",
              "      <td>60.0</td>\n",
              "      <td>180.0</td>\n",
              "      <td>30.0</td>\n",
              "      <td>330.0</td>\n",
              "      <td>150.0</td>\n",
              "      <td>250.0</td>\n",
              "      <td>1080.0</td>\n",
              "      <td>200.0</td>\n",
              "      <td>250.0</td>\n",
              "      <td>220.0</td>\n",
              "      <td>250.0</td>\n",
              "      <td>800.0</td>\n",
              "      <td>100.0</td>\n",
              "      <td>100.0</td>\n",
              "      <td>100.0</td>\n",
              "      <td>100.0</td>\n",
              "      <td>100.0</td>\n",
              "      <td>38.0</td>\n",
              "      <td>420.0</td>\n",
              "      <td>90.0</td>\n",
              "      <td>80.0</td>\n",
              "      <td>80.0</td>\n",
              "      <td>80.0</td>\n",
              "      <td>80.0</td>\n",
              "      <td>-450.0</td>\n",
              "      <td>300.0</td>\n",
              "      <td>1.0</td>\n",
              "      <td>0</td>\n",
              "      <td>0.61</td>\n",
              "      <td>0.63</td>\n",
              "      <td>0.85</td>\n",
              "      <td>0.71</td>\n",
              "      <td>0.71</td>\n",
              "      <td>0.64</td>\n",
              "      <td>0.68</td>\n",
              "      <td>0.79</td>\n",
              "      <td>0.59</td>\n",
              "      <td>0.78</td>\n",
              "      <td>0.58</td>\n",
              "      <td>0.75</td>\n",
              "      <td>0.68</td>\n",
              "      <td>0.79</td>\n",
              "      <td>0.69</td>\n",
              "      <td>0.54</td>\n",
              "      <td>0.83</td>\n",
              "      <td>0.87</td>\n",
              "    </tr>\n",
              "    <tr>\n",
              "      <th>3</th>\n",
              "      <td>2021/04/06</td>\n",
              "      <td>00:00:15</td>\n",
              "      <td>60.0</td>\n",
              "      <td>180.0</td>\n",
              "      <td>30.0</td>\n",
              "      <td>330.0</td>\n",
              "      <td>150.0</td>\n",
              "      <td>250.0</td>\n",
              "      <td>1080.0</td>\n",
              "      <td>200.0</td>\n",
              "      <td>250.0</td>\n",
              "      <td>220.0</td>\n",
              "      <td>250.0</td>\n",
              "      <td>800.0</td>\n",
              "      <td>100.0</td>\n",
              "      <td>100.0</td>\n",
              "      <td>100.0</td>\n",
              "      <td>100.0</td>\n",
              "      <td>100.0</td>\n",
              "      <td>38.0</td>\n",
              "      <td>420.0</td>\n",
              "      <td>90.0</td>\n",
              "      <td>80.0</td>\n",
              "      <td>80.0</td>\n",
              "      <td>80.0</td>\n",
              "      <td>80.0</td>\n",
              "      <td>-450.0</td>\n",
              "      <td>300.0</td>\n",
              "      <td>1.0</td>\n",
              "      <td>0</td>\n",
              "      <td>0.61</td>\n",
              "      <td>0.63</td>\n",
              "      <td>0.85</td>\n",
              "      <td>0.71</td>\n",
              "      <td>0.71</td>\n",
              "      <td>0.64</td>\n",
              "      <td>0.68</td>\n",
              "      <td>0.79</td>\n",
              "      <td>0.59</td>\n",
              "      <td>0.78</td>\n",
              "      <td>0.58</td>\n",
              "      <td>0.75</td>\n",
              "      <td>0.68</td>\n",
              "      <td>0.79</td>\n",
              "      <td>0.69</td>\n",
              "      <td>0.54</td>\n",
              "      <td>0.83</td>\n",
              "      <td>0.87</td>\n",
              "    </tr>\n",
              "    <tr>\n",
              "      <th>4</th>\n",
              "      <td>2021/04/06</td>\n",
              "      <td>00:00:19</td>\n",
              "      <td>60.0</td>\n",
              "      <td>180.0</td>\n",
              "      <td>30.0</td>\n",
              "      <td>330.0</td>\n",
              "      <td>150.0</td>\n",
              "      <td>250.0</td>\n",
              "      <td>1080.0</td>\n",
              "      <td>200.0</td>\n",
              "      <td>250.0</td>\n",
              "      <td>220.0</td>\n",
              "      <td>250.0</td>\n",
              "      <td>800.0</td>\n",
              "      <td>100.0</td>\n",
              "      <td>100.0</td>\n",
              "      <td>100.0</td>\n",
              "      <td>100.0</td>\n",
              "      <td>100.0</td>\n",
              "      <td>38.0</td>\n",
              "      <td>420.0</td>\n",
              "      <td>90.0</td>\n",
              "      <td>80.0</td>\n",
              "      <td>80.0</td>\n",
              "      <td>80.0</td>\n",
              "      <td>80.0</td>\n",
              "      <td>-450.0</td>\n",
              "      <td>300.0</td>\n",
              "      <td>1.0</td>\n",
              "      <td>0</td>\n",
              "      <td>0.61</td>\n",
              "      <td>0.63</td>\n",
              "      <td>0.85</td>\n",
              "      <td>0.71</td>\n",
              "      <td>0.68</td>\n",
              "      <td>0.64</td>\n",
              "      <td>0.68</td>\n",
              "      <td>0.78</td>\n",
              "      <td>0.59</td>\n",
              "      <td>0.78</td>\n",
              "      <td>0.58</td>\n",
              "      <td>0.75</td>\n",
              "      <td>0.68</td>\n",
              "      <td>0.79</td>\n",
              "      <td>0.69</td>\n",
              "      <td>0.54</td>\n",
              "      <td>0.83</td>\n",
              "      <td>0.87</td>\n",
              "    </tr>\n",
              "    <tr>\n",
              "      <th>...</th>\n",
              "      <td>...</td>\n",
              "      <td>...</td>\n",
              "      <td>...</td>\n",
              "      <td>...</td>\n",
              "      <td>...</td>\n",
              "      <td>...</td>\n",
              "      <td>...</td>\n",
              "      <td>...</td>\n",
              "      <td>...</td>\n",
              "      <td>...</td>\n",
              "      <td>...</td>\n",
              "      <td>...</td>\n",
              "      <td>...</td>\n",
              "      <td>...</td>\n",
              "      <td>...</td>\n",
              "      <td>...</td>\n",
              "      <td>...</td>\n",
              "      <td>...</td>\n",
              "      <td>...</td>\n",
              "      <td>...</td>\n",
              "      <td>...</td>\n",
              "      <td>...</td>\n",
              "      <td>...</td>\n",
              "      <td>...</td>\n",
              "      <td>...</td>\n",
              "      <td>...</td>\n",
              "      <td>...</td>\n",
              "      <td>...</td>\n",
              "      <td>...</td>\n",
              "      <td>...</td>\n",
              "      <td>...</td>\n",
              "      <td>...</td>\n",
              "      <td>...</td>\n",
              "      <td>...</td>\n",
              "      <td>...</td>\n",
              "      <td>...</td>\n",
              "      <td>...</td>\n",
              "      <td>...</td>\n",
              "      <td>...</td>\n",
              "      <td>...</td>\n",
              "      <td>...</td>\n",
              "      <td>...</td>\n",
              "      <td>...</td>\n",
              "      <td>...</td>\n",
              "      <td>...</td>\n",
              "      <td>...</td>\n",
              "      <td>...</td>\n",
              "      <td>...</td>\n",
              "    </tr>\n",
              "    <tr>\n",
              "      <th>1322320</th>\n",
              "      <td>2021/04/24</td>\n",
              "      <td>01:29:10</td>\n",
              "      <td>60.0</td>\n",
              "      <td>120.0</td>\n",
              "      <td>30.0</td>\n",
              "      <td>330.0</td>\n",
              "      <td>100.0</td>\n",
              "      <td>250.0</td>\n",
              "      <td>1080.0</td>\n",
              "      <td>200.0</td>\n",
              "      <td>250.0</td>\n",
              "      <td>220.0</td>\n",
              "      <td>250.0</td>\n",
              "      <td>800.0</td>\n",
              "      <td>100.0</td>\n",
              "      <td>100.0</td>\n",
              "      <td>100.0</td>\n",
              "      <td>100.0</td>\n",
              "      <td>100.0</td>\n",
              "      <td>12.0</td>\n",
              "      <td>420.0</td>\n",
              "      <td>70.0</td>\n",
              "      <td>80.0</td>\n",
              "      <td>80.0</td>\n",
              "      <td>80.0</td>\n",
              "      <td>80.0</td>\n",
              "      <td>-450.0</td>\n",
              "      <td>1.0</td>\n",
              "      <td>0.0</td>\n",
              "      <td>0</td>\n",
              "      <td>0.56</td>\n",
              "      <td>0.53</td>\n",
              "      <td>0.78</td>\n",
              "      <td>0.7</td>\n",
              "      <td>0.67</td>\n",
              "      <td>0.62</td>\n",
              "      <td>0.66</td>\n",
              "      <td>0.75</td>\n",
              "      <td>0.56</td>\n",
              "      <td>0.79</td>\n",
              "      <td>0.58</td>\n",
              "      <td>0.75</td>\n",
              "      <td>0.77</td>\n",
              "      <td>0.87</td>\n",
              "      <td>0.69</td>\n",
              "      <td>0.53</td>\n",
              "      <td>0.67</td>\n",
              "      <td>0.78</td>\n",
              "    </tr>\n",
              "    <tr>\n",
              "      <th>1322321</th>\n",
              "      <td>2021/04/24</td>\n",
              "      <td>01:29:14</td>\n",
              "      <td>60.0</td>\n",
              "      <td>120.0</td>\n",
              "      <td>30.0</td>\n",
              "      <td>330.0</td>\n",
              "      <td>100.0</td>\n",
              "      <td>250.0</td>\n",
              "      <td>1080.0</td>\n",
              "      <td>200.0</td>\n",
              "      <td>250.0</td>\n",
              "      <td>220.0</td>\n",
              "      <td>250.0</td>\n",
              "      <td>800.0</td>\n",
              "      <td>100.0</td>\n",
              "      <td>100.0</td>\n",
              "      <td>100.0</td>\n",
              "      <td>100.0</td>\n",
              "      <td>100.0</td>\n",
              "      <td>12.0</td>\n",
              "      <td>420.0</td>\n",
              "      <td>70.0</td>\n",
              "      <td>80.0</td>\n",
              "      <td>80.0</td>\n",
              "      <td>80.0</td>\n",
              "      <td>80.0</td>\n",
              "      <td>-450.0</td>\n",
              "      <td>1.0</td>\n",
              "      <td>0.0</td>\n",
              "      <td>0</td>\n",
              "      <td>0.56</td>\n",
              "      <td>0.53</td>\n",
              "      <td>0.78</td>\n",
              "      <td>0.7</td>\n",
              "      <td>0.67</td>\n",
              "      <td>0.62</td>\n",
              "      <td>0.66</td>\n",
              "      <td>0.75</td>\n",
              "      <td>0.56</td>\n",
              "      <td>0.79</td>\n",
              "      <td>0.58</td>\n",
              "      <td>0.75</td>\n",
              "      <td>0.77</td>\n",
              "      <td>0.87</td>\n",
              "      <td>0.69</td>\n",
              "      <td>0.53</td>\n",
              "      <td>0.67</td>\n",
              "      <td>0.78</td>\n",
              "    </tr>\n",
              "    <tr>\n",
              "      <th>1322322</th>\n",
              "      <td>2021/04/24</td>\n",
              "      <td>01:29:18</td>\n",
              "      <td>60.0</td>\n",
              "      <td>120.0</td>\n",
              "      <td>30.0</td>\n",
              "      <td>330.0</td>\n",
              "      <td>100.0</td>\n",
              "      <td>250.0</td>\n",
              "      <td>1080.0</td>\n",
              "      <td>200.0</td>\n",
              "      <td>250.0</td>\n",
              "      <td>220.0</td>\n",
              "      <td>250.0</td>\n",
              "      <td>800.0</td>\n",
              "      <td>100.0</td>\n",
              "      <td>100.0</td>\n",
              "      <td>100.0</td>\n",
              "      <td>100.0</td>\n",
              "      <td>100.0</td>\n",
              "      <td>12.0</td>\n",
              "      <td>420.0</td>\n",
              "      <td>70.0</td>\n",
              "      <td>80.0</td>\n",
              "      <td>80.0</td>\n",
              "      <td>80.0</td>\n",
              "      <td>80.0</td>\n",
              "      <td>-450.0</td>\n",
              "      <td>1.0</td>\n",
              "      <td>0.0</td>\n",
              "      <td>0</td>\n",
              "      <td>0.56</td>\n",
              "      <td>0.53</td>\n",
              "      <td>0.78</td>\n",
              "      <td>0.7</td>\n",
              "      <td>0.67</td>\n",
              "      <td>0.62</td>\n",
              "      <td>0.66</td>\n",
              "      <td>0.75</td>\n",
              "      <td>0.56</td>\n",
              "      <td>0.79</td>\n",
              "      <td>0.58</td>\n",
              "      <td>0.75</td>\n",
              "      <td>0.77</td>\n",
              "      <td>0.87</td>\n",
              "      <td>0.69</td>\n",
              "      <td>0.53</td>\n",
              "      <td>0.67</td>\n",
              "      <td>0.78</td>\n",
              "    </tr>\n",
              "    <tr>\n",
              "      <th>1322323</th>\n",
              "      <td>2021/04/24</td>\n",
              "      <td>01:29:22</td>\n",
              "      <td>60.0</td>\n",
              "      <td>120.0</td>\n",
              "      <td>30.0</td>\n",
              "      <td>330.0</td>\n",
              "      <td>100.0</td>\n",
              "      <td>250.0</td>\n",
              "      <td>1080.0</td>\n",
              "      <td>200.0</td>\n",
              "      <td>250.0</td>\n",
              "      <td>220.0</td>\n",
              "      <td>250.0</td>\n",
              "      <td>800.0</td>\n",
              "      <td>100.0</td>\n",
              "      <td>100.0</td>\n",
              "      <td>100.0</td>\n",
              "      <td>100.0</td>\n",
              "      <td>100.0</td>\n",
              "      <td>12.0</td>\n",
              "      <td>420.0</td>\n",
              "      <td>70.0</td>\n",
              "      <td>80.0</td>\n",
              "      <td>80.0</td>\n",
              "      <td>80.0</td>\n",
              "      <td>80.0</td>\n",
              "      <td>-450.0</td>\n",
              "      <td>2.0</td>\n",
              "      <td>0.0</td>\n",
              "      <td>0</td>\n",
              "      <td>0.56</td>\n",
              "      <td>0.53</td>\n",
              "      <td>0.78</td>\n",
              "      <td>0.7</td>\n",
              "      <td>0.67</td>\n",
              "      <td>0.62</td>\n",
              "      <td>0.66</td>\n",
              "      <td>0.75</td>\n",
              "      <td>0.56</td>\n",
              "      <td>0.79</td>\n",
              "      <td>0.58</td>\n",
              "      <td>0.75</td>\n",
              "      <td>0.77</td>\n",
              "      <td>0.87</td>\n",
              "      <td>0.69</td>\n",
              "      <td>0.53</td>\n",
              "      <td>0.67</td>\n",
              "      <td>0.78</td>\n",
              "    </tr>\n",
              "    <tr>\n",
              "      <th>1322324</th>\n",
              "      <td>2021/04/24</td>\n",
              "      <td>01:29:26</td>\n",
              "      <td>60.0</td>\n",
              "      <td>120.0</td>\n",
              "      <td>30.0</td>\n",
              "      <td>330.0</td>\n",
              "      <td>100.0</td>\n",
              "      <td>250.0</td>\n",
              "      <td>1080.0</td>\n",
              "      <td>200.0</td>\n",
              "      <td>250.0</td>\n",
              "      <td>220.0</td>\n",
              "      <td>250.0</td>\n",
              "      <td>800.0</td>\n",
              "      <td>100.0</td>\n",
              "      <td>100.0</td>\n",
              "      <td>100.0</td>\n",
              "      <td>100.0</td>\n",
              "      <td>100.0</td>\n",
              "      <td>12.0</td>\n",
              "      <td>420.0</td>\n",
              "      <td>70.0</td>\n",
              "      <td>80.0</td>\n",
              "      <td>80.0</td>\n",
              "      <td>80.0</td>\n",
              "      <td>80.0</td>\n",
              "      <td>-450.0</td>\n",
              "      <td>1.0</td>\n",
              "      <td>0.0</td>\n",
              "      <td>0</td>\n",
              "      <td>0.56</td>\n",
              "      <td>0.53</td>\n",
              "      <td>0.78</td>\n",
              "      <td>0.7</td>\n",
              "      <td>0.67</td>\n",
              "      <td>0.62</td>\n",
              "      <td>0.66</td>\n",
              "      <td>0.75</td>\n",
              "      <td>0.56</td>\n",
              "      <td>0.79</td>\n",
              "      <td>0.58</td>\n",
              "      <td>0.75</td>\n",
              "      <td>0.77</td>\n",
              "      <td>0.87</td>\n",
              "      <td>0.69</td>\n",
              "      <td>0.53</td>\n",
              "      <td>0.67</td>\n",
              "      <td>0.78</td>\n",
              "    </tr>\n",
              "  </tbody>\n",
              "</table>\n",
              "<p>1322325 rows × 48 columns</p>\n",
              "</div>"
            ],
            "text/plain": [
              "               date      time  掃氣時間(sec)  ...  8_smoke  9_air  9_smoke\n",
              "0        2021/04/06  00:00:03       60.0  ...     0.54   0.83     0.87\n",
              "1        2021/04/06  00:00:07       60.0  ...     0.54   0.83     0.87\n",
              "2        2021/04/06  00:00:11       60.0  ...     0.54   0.83     0.87\n",
              "3        2021/04/06  00:00:15       60.0  ...     0.54   0.83     0.87\n",
              "4        2021/04/06  00:00:19       60.0  ...     0.54   0.83     0.87\n",
              "...             ...       ...        ...  ...      ...    ...      ...\n",
              "1322320  2021/04/24  01:29:10       60.0  ...     0.53   0.67     0.78\n",
              "1322321  2021/04/24  01:29:14       60.0  ...     0.53   0.67     0.78\n",
              "1322322  2021/04/24  01:29:18       60.0  ...     0.53   0.67     0.78\n",
              "1322323  2021/04/24  01:29:22       60.0  ...     0.53   0.67     0.78\n",
              "1322324  2021/04/24  01:29:26       60.0  ...     0.53   0.67     0.78\n",
              "\n",
              "[1322325 rows x 48 columns]"
            ]
          },
          "metadata": {},
          "execution_count": 5
        }
      ]
    },
    {
      "cell_type": "code",
      "metadata": {
        "colab": {
          "base_uri": "https://localhost:8080/"
        },
        "id": "4SKVOOl2J07c",
        "outputId": "807b2c72-74de-4231-ae8c-fab165b6b99c"
      },
      "source": [
        "print(d1.loc[(d1['1_air'] == '-')].index)"
      ],
      "execution_count": null,
      "outputs": [
        {
          "output_type": "stream",
          "text": [
            "Int64Index([  65535,   65536,   65537,   65538,   65539,   65540,   65541,\n",
            "              65542,   65543,   65544,\n",
            "            ...\n",
            "            1256780, 1256781, 1256782, 1256783, 1256784, 1256785, 1256786,\n",
            "            1256787, 1256788, 1256789],\n",
            "           dtype='int64', length=663645)\n"
          ],
          "name": "stdout"
        }
      ]
    },
    {
      "cell_type": "code",
      "metadata": {
        "id": "TeTxwUVXKOhB"
      },
      "source": [
        "d2 = d1.drop(index=d1.loc[(d1['1_air'] == '-')].index, axis=0)"
      ],
      "execution_count": null,
      "outputs": []
    },
    {
      "cell_type": "code",
      "metadata": {
        "colab": {
          "base_uri": "https://localhost:8080/",
          "height": 524
        },
        "id": "DX2kng8hKVOT",
        "outputId": "8a091f55-4de7-4ba4-b75a-d0f63492900f"
      },
      "source": [
        "d2"
      ],
      "execution_count": null,
      "outputs": [
        {
          "output_type": "execute_result",
          "data": {
            "text/html": [
              "<div>\n",
              "<style scoped>\n",
              "    .dataframe tbody tr th:only-of-type {\n",
              "        vertical-align: middle;\n",
              "    }\n",
              "\n",
              "    .dataframe tbody tr th {\n",
              "        vertical-align: top;\n",
              "    }\n",
              "\n",
              "    .dataframe thead th {\n",
              "        text-align: right;\n",
              "    }\n",
              "</style>\n",
              "<table border=\"1\" class=\"dataframe\">\n",
              "  <thead>\n",
              "    <tr style=\"text-align: right;\">\n",
              "      <th></th>\n",
              "      <th>date</th>\n",
              "      <th>time</th>\n",
              "      <th>掃氣時間(sec)</th>\n",
              "      <th>點火穩定時間(sec)</th>\n",
              "      <th>換向時間(sec)</th>\n",
              "      <th>洩壓閥洩壓壓力(Pa)</th>\n",
              "      <th>目標爐壓(Pa)</th>\n",
              "      <th>停機爐壓(Pa)</th>\n",
              "      <th>目標爐溫(℃)</th>\n",
              "      <th>換向閥溫度(℃)</th>\n",
              "      <th>換向閥停機溫度(℃)</th>\n",
              "      <th>摻冷風溫度(℃)</th>\n",
              "      <th>引風機停機溫度(℃)</th>\n",
              "      <th>FGR溫度(℃)</th>\n",
              "      <th>引風伺服閥開度()</th>\n",
              "      <th>M1伺服閥開度()</th>\n",
              "      <th>M2伺服閥開度()</th>\n",
              "      <th>M3伺服閥開度()</th>\n",
              "      <th>M4伺服閥開度()</th>\n",
              "      <th>持溫時間()</th>\n",
              "      <th>1080烘爐時間()</th>\n",
              "      <th>引風伺服閥開度(%)</th>\n",
              "      <th>M1伺服閥開度(%)</th>\n",
              "      <th>M2伺服閥開度(%)</th>\n",
              "      <th>M3伺服閥開度(%)</th>\n",
              "      <th>M4伺服閥開度(%)</th>\n",
              "      <th>#2爐壓(Pa)</th>\n",
              "      <th>平均爐壓(Pa)</th>\n",
              "      <th>#1爐門開關()</th>\n",
              "      <th>#2爐門開關()</th>\n",
              "      <th>1_air</th>\n",
              "      <th>1_smoke</th>\n",
              "      <th>2_air</th>\n",
              "      <th>2_smoke</th>\n",
              "      <th>3_air</th>\n",
              "      <th>3_smoke</th>\n",
              "      <th>4_air</th>\n",
              "      <th>4_smoke</th>\n",
              "      <th>5_air</th>\n",
              "      <th>5_smoke</th>\n",
              "      <th>6_air</th>\n",
              "      <th>6_smoke</th>\n",
              "      <th>7_air</th>\n",
              "      <th>7_smoke</th>\n",
              "      <th>8_air</th>\n",
              "      <th>8_smoke</th>\n",
              "      <th>9_air</th>\n",
              "      <th>9_smoke</th>\n",
              "    </tr>\n",
              "  </thead>\n",
              "  <tbody>\n",
              "    <tr>\n",
              "      <th>0</th>\n",
              "      <td>2021/04/06</td>\n",
              "      <td>00:00:03</td>\n",
              "      <td>60.0</td>\n",
              "      <td>180.0</td>\n",
              "      <td>30.0</td>\n",
              "      <td>330.0</td>\n",
              "      <td>150.0</td>\n",
              "      <td>250.0</td>\n",
              "      <td>1080.0</td>\n",
              "      <td>200.0</td>\n",
              "      <td>250.0</td>\n",
              "      <td>220.0</td>\n",
              "      <td>250.0</td>\n",
              "      <td>800.0</td>\n",
              "      <td>100.0</td>\n",
              "      <td>100.0</td>\n",
              "      <td>100.0</td>\n",
              "      <td>100.0</td>\n",
              "      <td>100.0</td>\n",
              "      <td>38.0</td>\n",
              "      <td>420.0</td>\n",
              "      <td>70.0</td>\n",
              "      <td>80.0</td>\n",
              "      <td>80.0</td>\n",
              "      <td>80.0</td>\n",
              "      <td>80.0</td>\n",
              "      <td>-450.0</td>\n",
              "      <td>300.0</td>\n",
              "      <td>1.0</td>\n",
              "      <td>0</td>\n",
              "      <td>0.61</td>\n",
              "      <td>0.63</td>\n",
              "      <td>0.85</td>\n",
              "      <td>0.71</td>\n",
              "      <td>0.71</td>\n",
              "      <td>0.64</td>\n",
              "      <td>0.68</td>\n",
              "      <td>0.79</td>\n",
              "      <td>0.59</td>\n",
              "      <td>0.81</td>\n",
              "      <td>0.61</td>\n",
              "      <td>0.75</td>\n",
              "      <td>0.68</td>\n",
              "      <td>0.79</td>\n",
              "      <td>0.69</td>\n",
              "      <td>0.54</td>\n",
              "      <td>0.83</td>\n",
              "      <td>0.87</td>\n",
              "    </tr>\n",
              "    <tr>\n",
              "      <th>1</th>\n",
              "      <td>2021/04/06</td>\n",
              "      <td>00:00:07</td>\n",
              "      <td>60.0</td>\n",
              "      <td>180.0</td>\n",
              "      <td>30.0</td>\n",
              "      <td>330.0</td>\n",
              "      <td>150.0</td>\n",
              "      <td>250.0</td>\n",
              "      <td>1080.0</td>\n",
              "      <td>200.0</td>\n",
              "      <td>250.0</td>\n",
              "      <td>220.0</td>\n",
              "      <td>250.0</td>\n",
              "      <td>800.0</td>\n",
              "      <td>100.0</td>\n",
              "      <td>100.0</td>\n",
              "      <td>100.0</td>\n",
              "      <td>100.0</td>\n",
              "      <td>100.0</td>\n",
              "      <td>38.0</td>\n",
              "      <td>420.0</td>\n",
              "      <td>82.0</td>\n",
              "      <td>80.0</td>\n",
              "      <td>80.0</td>\n",
              "      <td>80.0</td>\n",
              "      <td>80.0</td>\n",
              "      <td>-450.0</td>\n",
              "      <td>300.0</td>\n",
              "      <td>1.0</td>\n",
              "      <td>0</td>\n",
              "      <td>0.61</td>\n",
              "      <td>0.63</td>\n",
              "      <td>0.85</td>\n",
              "      <td>0.71</td>\n",
              "      <td>0.71</td>\n",
              "      <td>0.64</td>\n",
              "      <td>0.68</td>\n",
              "      <td>0.79</td>\n",
              "      <td>0.59</td>\n",
              "      <td>0.78</td>\n",
              "      <td>0.58</td>\n",
              "      <td>0.75</td>\n",
              "      <td>0.68</td>\n",
              "      <td>0.79</td>\n",
              "      <td>0.69</td>\n",
              "      <td>0.54</td>\n",
              "      <td>0.83</td>\n",
              "      <td>0.87</td>\n",
              "    </tr>\n",
              "    <tr>\n",
              "      <th>2</th>\n",
              "      <td>2021/04/06</td>\n",
              "      <td>00:00:11</td>\n",
              "      <td>60.0</td>\n",
              "      <td>180.0</td>\n",
              "      <td>30.0</td>\n",
              "      <td>330.0</td>\n",
              "      <td>150.0</td>\n",
              "      <td>250.0</td>\n",
              "      <td>1080.0</td>\n",
              "      <td>200.0</td>\n",
              "      <td>250.0</td>\n",
              "      <td>220.0</td>\n",
              "      <td>250.0</td>\n",
              "      <td>800.0</td>\n",
              "      <td>100.0</td>\n",
              "      <td>100.0</td>\n",
              "      <td>100.0</td>\n",
              "      <td>100.0</td>\n",
              "      <td>100.0</td>\n",
              "      <td>38.0</td>\n",
              "      <td>420.0</td>\n",
              "      <td>90.0</td>\n",
              "      <td>80.0</td>\n",
              "      <td>80.0</td>\n",
              "      <td>80.0</td>\n",
              "      <td>80.0</td>\n",
              "      <td>-450.0</td>\n",
              "      <td>300.0</td>\n",
              "      <td>1.0</td>\n",
              "      <td>0</td>\n",
              "      <td>0.61</td>\n",
              "      <td>0.63</td>\n",
              "      <td>0.85</td>\n",
              "      <td>0.71</td>\n",
              "      <td>0.71</td>\n",
              "      <td>0.64</td>\n",
              "      <td>0.68</td>\n",
              "      <td>0.79</td>\n",
              "      <td>0.59</td>\n",
              "      <td>0.78</td>\n",
              "      <td>0.58</td>\n",
              "      <td>0.75</td>\n",
              "      <td>0.68</td>\n",
              "      <td>0.79</td>\n",
              "      <td>0.69</td>\n",
              "      <td>0.54</td>\n",
              "      <td>0.83</td>\n",
              "      <td>0.87</td>\n",
              "    </tr>\n",
              "    <tr>\n",
              "      <th>3</th>\n",
              "      <td>2021/04/06</td>\n",
              "      <td>00:00:15</td>\n",
              "      <td>60.0</td>\n",
              "      <td>180.0</td>\n",
              "      <td>30.0</td>\n",
              "      <td>330.0</td>\n",
              "      <td>150.0</td>\n",
              "      <td>250.0</td>\n",
              "      <td>1080.0</td>\n",
              "      <td>200.0</td>\n",
              "      <td>250.0</td>\n",
              "      <td>220.0</td>\n",
              "      <td>250.0</td>\n",
              "      <td>800.0</td>\n",
              "      <td>100.0</td>\n",
              "      <td>100.0</td>\n",
              "      <td>100.0</td>\n",
              "      <td>100.0</td>\n",
              "      <td>100.0</td>\n",
              "      <td>38.0</td>\n",
              "      <td>420.0</td>\n",
              "      <td>90.0</td>\n",
              "      <td>80.0</td>\n",
              "      <td>80.0</td>\n",
              "      <td>80.0</td>\n",
              "      <td>80.0</td>\n",
              "      <td>-450.0</td>\n",
              "      <td>300.0</td>\n",
              "      <td>1.0</td>\n",
              "      <td>0</td>\n",
              "      <td>0.61</td>\n",
              "      <td>0.63</td>\n",
              "      <td>0.85</td>\n",
              "      <td>0.71</td>\n",
              "      <td>0.71</td>\n",
              "      <td>0.64</td>\n",
              "      <td>0.68</td>\n",
              "      <td>0.79</td>\n",
              "      <td>0.59</td>\n",
              "      <td>0.78</td>\n",
              "      <td>0.58</td>\n",
              "      <td>0.75</td>\n",
              "      <td>0.68</td>\n",
              "      <td>0.79</td>\n",
              "      <td>0.69</td>\n",
              "      <td>0.54</td>\n",
              "      <td>0.83</td>\n",
              "      <td>0.87</td>\n",
              "    </tr>\n",
              "    <tr>\n",
              "      <th>4</th>\n",
              "      <td>2021/04/06</td>\n",
              "      <td>00:00:19</td>\n",
              "      <td>60.0</td>\n",
              "      <td>180.0</td>\n",
              "      <td>30.0</td>\n",
              "      <td>330.0</td>\n",
              "      <td>150.0</td>\n",
              "      <td>250.0</td>\n",
              "      <td>1080.0</td>\n",
              "      <td>200.0</td>\n",
              "      <td>250.0</td>\n",
              "      <td>220.0</td>\n",
              "      <td>250.0</td>\n",
              "      <td>800.0</td>\n",
              "      <td>100.0</td>\n",
              "      <td>100.0</td>\n",
              "      <td>100.0</td>\n",
              "      <td>100.0</td>\n",
              "      <td>100.0</td>\n",
              "      <td>38.0</td>\n",
              "      <td>420.0</td>\n",
              "      <td>90.0</td>\n",
              "      <td>80.0</td>\n",
              "      <td>80.0</td>\n",
              "      <td>80.0</td>\n",
              "      <td>80.0</td>\n",
              "      <td>-450.0</td>\n",
              "      <td>300.0</td>\n",
              "      <td>1.0</td>\n",
              "      <td>0</td>\n",
              "      <td>0.61</td>\n",
              "      <td>0.63</td>\n",
              "      <td>0.85</td>\n",
              "      <td>0.71</td>\n",
              "      <td>0.68</td>\n",
              "      <td>0.64</td>\n",
              "      <td>0.68</td>\n",
              "      <td>0.78</td>\n",
              "      <td>0.59</td>\n",
              "      <td>0.78</td>\n",
              "      <td>0.58</td>\n",
              "      <td>0.75</td>\n",
              "      <td>0.68</td>\n",
              "      <td>0.79</td>\n",
              "      <td>0.69</td>\n",
              "      <td>0.54</td>\n",
              "      <td>0.83</td>\n",
              "      <td>0.87</td>\n",
              "    </tr>\n",
              "    <tr>\n",
              "      <th>...</th>\n",
              "      <td>...</td>\n",
              "      <td>...</td>\n",
              "      <td>...</td>\n",
              "      <td>...</td>\n",
              "      <td>...</td>\n",
              "      <td>...</td>\n",
              "      <td>...</td>\n",
              "      <td>...</td>\n",
              "      <td>...</td>\n",
              "      <td>...</td>\n",
              "      <td>...</td>\n",
              "      <td>...</td>\n",
              "      <td>...</td>\n",
              "      <td>...</td>\n",
              "      <td>...</td>\n",
              "      <td>...</td>\n",
              "      <td>...</td>\n",
              "      <td>...</td>\n",
              "      <td>...</td>\n",
              "      <td>...</td>\n",
              "      <td>...</td>\n",
              "      <td>...</td>\n",
              "      <td>...</td>\n",
              "      <td>...</td>\n",
              "      <td>...</td>\n",
              "      <td>...</td>\n",
              "      <td>...</td>\n",
              "      <td>...</td>\n",
              "      <td>...</td>\n",
              "      <td>...</td>\n",
              "      <td>...</td>\n",
              "      <td>...</td>\n",
              "      <td>...</td>\n",
              "      <td>...</td>\n",
              "      <td>...</td>\n",
              "      <td>...</td>\n",
              "      <td>...</td>\n",
              "      <td>...</td>\n",
              "      <td>...</td>\n",
              "      <td>...</td>\n",
              "      <td>...</td>\n",
              "      <td>...</td>\n",
              "      <td>...</td>\n",
              "      <td>...</td>\n",
              "      <td>...</td>\n",
              "      <td>...</td>\n",
              "      <td>...</td>\n",
              "      <td>...</td>\n",
              "    </tr>\n",
              "    <tr>\n",
              "      <th>1322320</th>\n",
              "      <td>2021/04/24</td>\n",
              "      <td>01:29:10</td>\n",
              "      <td>60.0</td>\n",
              "      <td>120.0</td>\n",
              "      <td>30.0</td>\n",
              "      <td>330.0</td>\n",
              "      <td>100.0</td>\n",
              "      <td>250.0</td>\n",
              "      <td>1080.0</td>\n",
              "      <td>200.0</td>\n",
              "      <td>250.0</td>\n",
              "      <td>220.0</td>\n",
              "      <td>250.0</td>\n",
              "      <td>800.0</td>\n",
              "      <td>100.0</td>\n",
              "      <td>100.0</td>\n",
              "      <td>100.0</td>\n",
              "      <td>100.0</td>\n",
              "      <td>100.0</td>\n",
              "      <td>12.0</td>\n",
              "      <td>420.0</td>\n",
              "      <td>70.0</td>\n",
              "      <td>80.0</td>\n",
              "      <td>80.0</td>\n",
              "      <td>80.0</td>\n",
              "      <td>80.0</td>\n",
              "      <td>-450.0</td>\n",
              "      <td>1.0</td>\n",
              "      <td>0.0</td>\n",
              "      <td>0</td>\n",
              "      <td>0.56</td>\n",
              "      <td>0.53</td>\n",
              "      <td>0.78</td>\n",
              "      <td>0.7</td>\n",
              "      <td>0.67</td>\n",
              "      <td>0.62</td>\n",
              "      <td>0.66</td>\n",
              "      <td>0.75</td>\n",
              "      <td>0.56</td>\n",
              "      <td>0.79</td>\n",
              "      <td>0.58</td>\n",
              "      <td>0.75</td>\n",
              "      <td>0.77</td>\n",
              "      <td>0.87</td>\n",
              "      <td>0.69</td>\n",
              "      <td>0.53</td>\n",
              "      <td>0.67</td>\n",
              "      <td>0.78</td>\n",
              "    </tr>\n",
              "    <tr>\n",
              "      <th>1322321</th>\n",
              "      <td>2021/04/24</td>\n",
              "      <td>01:29:14</td>\n",
              "      <td>60.0</td>\n",
              "      <td>120.0</td>\n",
              "      <td>30.0</td>\n",
              "      <td>330.0</td>\n",
              "      <td>100.0</td>\n",
              "      <td>250.0</td>\n",
              "      <td>1080.0</td>\n",
              "      <td>200.0</td>\n",
              "      <td>250.0</td>\n",
              "      <td>220.0</td>\n",
              "      <td>250.0</td>\n",
              "      <td>800.0</td>\n",
              "      <td>100.0</td>\n",
              "      <td>100.0</td>\n",
              "      <td>100.0</td>\n",
              "      <td>100.0</td>\n",
              "      <td>100.0</td>\n",
              "      <td>12.0</td>\n",
              "      <td>420.0</td>\n",
              "      <td>70.0</td>\n",
              "      <td>80.0</td>\n",
              "      <td>80.0</td>\n",
              "      <td>80.0</td>\n",
              "      <td>80.0</td>\n",
              "      <td>-450.0</td>\n",
              "      <td>1.0</td>\n",
              "      <td>0.0</td>\n",
              "      <td>0</td>\n",
              "      <td>0.56</td>\n",
              "      <td>0.53</td>\n",
              "      <td>0.78</td>\n",
              "      <td>0.7</td>\n",
              "      <td>0.67</td>\n",
              "      <td>0.62</td>\n",
              "      <td>0.66</td>\n",
              "      <td>0.75</td>\n",
              "      <td>0.56</td>\n",
              "      <td>0.79</td>\n",
              "      <td>0.58</td>\n",
              "      <td>0.75</td>\n",
              "      <td>0.77</td>\n",
              "      <td>0.87</td>\n",
              "      <td>0.69</td>\n",
              "      <td>0.53</td>\n",
              "      <td>0.67</td>\n",
              "      <td>0.78</td>\n",
              "    </tr>\n",
              "    <tr>\n",
              "      <th>1322322</th>\n",
              "      <td>2021/04/24</td>\n",
              "      <td>01:29:18</td>\n",
              "      <td>60.0</td>\n",
              "      <td>120.0</td>\n",
              "      <td>30.0</td>\n",
              "      <td>330.0</td>\n",
              "      <td>100.0</td>\n",
              "      <td>250.0</td>\n",
              "      <td>1080.0</td>\n",
              "      <td>200.0</td>\n",
              "      <td>250.0</td>\n",
              "      <td>220.0</td>\n",
              "      <td>250.0</td>\n",
              "      <td>800.0</td>\n",
              "      <td>100.0</td>\n",
              "      <td>100.0</td>\n",
              "      <td>100.0</td>\n",
              "      <td>100.0</td>\n",
              "      <td>100.0</td>\n",
              "      <td>12.0</td>\n",
              "      <td>420.0</td>\n",
              "      <td>70.0</td>\n",
              "      <td>80.0</td>\n",
              "      <td>80.0</td>\n",
              "      <td>80.0</td>\n",
              "      <td>80.0</td>\n",
              "      <td>-450.0</td>\n",
              "      <td>1.0</td>\n",
              "      <td>0.0</td>\n",
              "      <td>0</td>\n",
              "      <td>0.56</td>\n",
              "      <td>0.53</td>\n",
              "      <td>0.78</td>\n",
              "      <td>0.7</td>\n",
              "      <td>0.67</td>\n",
              "      <td>0.62</td>\n",
              "      <td>0.66</td>\n",
              "      <td>0.75</td>\n",
              "      <td>0.56</td>\n",
              "      <td>0.79</td>\n",
              "      <td>0.58</td>\n",
              "      <td>0.75</td>\n",
              "      <td>0.77</td>\n",
              "      <td>0.87</td>\n",
              "      <td>0.69</td>\n",
              "      <td>0.53</td>\n",
              "      <td>0.67</td>\n",
              "      <td>0.78</td>\n",
              "    </tr>\n",
              "    <tr>\n",
              "      <th>1322323</th>\n",
              "      <td>2021/04/24</td>\n",
              "      <td>01:29:22</td>\n",
              "      <td>60.0</td>\n",
              "      <td>120.0</td>\n",
              "      <td>30.0</td>\n",
              "      <td>330.0</td>\n",
              "      <td>100.0</td>\n",
              "      <td>250.0</td>\n",
              "      <td>1080.0</td>\n",
              "      <td>200.0</td>\n",
              "      <td>250.0</td>\n",
              "      <td>220.0</td>\n",
              "      <td>250.0</td>\n",
              "      <td>800.0</td>\n",
              "      <td>100.0</td>\n",
              "      <td>100.0</td>\n",
              "      <td>100.0</td>\n",
              "      <td>100.0</td>\n",
              "      <td>100.0</td>\n",
              "      <td>12.0</td>\n",
              "      <td>420.0</td>\n",
              "      <td>70.0</td>\n",
              "      <td>80.0</td>\n",
              "      <td>80.0</td>\n",
              "      <td>80.0</td>\n",
              "      <td>80.0</td>\n",
              "      <td>-450.0</td>\n",
              "      <td>2.0</td>\n",
              "      <td>0.0</td>\n",
              "      <td>0</td>\n",
              "      <td>0.56</td>\n",
              "      <td>0.53</td>\n",
              "      <td>0.78</td>\n",
              "      <td>0.7</td>\n",
              "      <td>0.67</td>\n",
              "      <td>0.62</td>\n",
              "      <td>0.66</td>\n",
              "      <td>0.75</td>\n",
              "      <td>0.56</td>\n",
              "      <td>0.79</td>\n",
              "      <td>0.58</td>\n",
              "      <td>0.75</td>\n",
              "      <td>0.77</td>\n",
              "      <td>0.87</td>\n",
              "      <td>0.69</td>\n",
              "      <td>0.53</td>\n",
              "      <td>0.67</td>\n",
              "      <td>0.78</td>\n",
              "    </tr>\n",
              "    <tr>\n",
              "      <th>1322324</th>\n",
              "      <td>2021/04/24</td>\n",
              "      <td>01:29:26</td>\n",
              "      <td>60.0</td>\n",
              "      <td>120.0</td>\n",
              "      <td>30.0</td>\n",
              "      <td>330.0</td>\n",
              "      <td>100.0</td>\n",
              "      <td>250.0</td>\n",
              "      <td>1080.0</td>\n",
              "      <td>200.0</td>\n",
              "      <td>250.0</td>\n",
              "      <td>220.0</td>\n",
              "      <td>250.0</td>\n",
              "      <td>800.0</td>\n",
              "      <td>100.0</td>\n",
              "      <td>100.0</td>\n",
              "      <td>100.0</td>\n",
              "      <td>100.0</td>\n",
              "      <td>100.0</td>\n",
              "      <td>12.0</td>\n",
              "      <td>420.0</td>\n",
              "      <td>70.0</td>\n",
              "      <td>80.0</td>\n",
              "      <td>80.0</td>\n",
              "      <td>80.0</td>\n",
              "      <td>80.0</td>\n",
              "      <td>-450.0</td>\n",
              "      <td>1.0</td>\n",
              "      <td>0.0</td>\n",
              "      <td>0</td>\n",
              "      <td>0.56</td>\n",
              "      <td>0.53</td>\n",
              "      <td>0.78</td>\n",
              "      <td>0.7</td>\n",
              "      <td>0.67</td>\n",
              "      <td>0.62</td>\n",
              "      <td>0.66</td>\n",
              "      <td>0.75</td>\n",
              "      <td>0.56</td>\n",
              "      <td>0.79</td>\n",
              "      <td>0.58</td>\n",
              "      <td>0.75</td>\n",
              "      <td>0.77</td>\n",
              "      <td>0.87</td>\n",
              "      <td>0.69</td>\n",
              "      <td>0.53</td>\n",
              "      <td>0.67</td>\n",
              "      <td>0.78</td>\n",
              "    </tr>\n",
              "  </tbody>\n",
              "</table>\n",
              "<p>658680 rows × 48 columns</p>\n",
              "</div>"
            ],
            "text/plain": [
              "               date      time  掃氣時間(sec)  ...  8_smoke  9_air  9_smoke\n",
              "0        2021/04/06  00:00:03       60.0  ...     0.54   0.83     0.87\n",
              "1        2021/04/06  00:00:07       60.0  ...     0.54   0.83     0.87\n",
              "2        2021/04/06  00:00:11       60.0  ...     0.54   0.83     0.87\n",
              "3        2021/04/06  00:00:15       60.0  ...     0.54   0.83     0.87\n",
              "4        2021/04/06  00:00:19       60.0  ...     0.54   0.83     0.87\n",
              "...             ...       ...        ...  ...      ...    ...      ...\n",
              "1322320  2021/04/24  01:29:10       60.0  ...     0.53   0.67     0.78\n",
              "1322321  2021/04/24  01:29:14       60.0  ...     0.53   0.67     0.78\n",
              "1322322  2021/04/24  01:29:18       60.0  ...     0.53   0.67     0.78\n",
              "1322323  2021/04/24  01:29:22       60.0  ...     0.53   0.67     0.78\n",
              "1322324  2021/04/24  01:29:26       60.0  ...     0.53   0.67     0.78\n",
              "\n",
              "[658680 rows x 48 columns]"
            ]
          },
          "metadata": {},
          "execution_count": 8
        }
      ]
    },
    {
      "cell_type": "markdown",
      "metadata": {
        "id": "NhoMSPEsZkui"
      },
      "source": [
        "#some function"
      ]
    },
    {
      "cell_type": "code",
      "metadata": {
        "id": "Xw_CObrrZoct"
      },
      "source": [
        "import matplotlib.pyplot as plt"
      ],
      "execution_count": null,
      "outputs": []
    },
    {
      "cell_type": "code",
      "metadata": {
        "id": "IwPviJZbZnvm"
      },
      "source": [
        "class Training_plot():\n",
        "  def __init__(self, history):\n",
        "    self.history = history\n",
        "  def acc(self):\n",
        "    plt.plot(self.history.history['accuracy'])\n",
        "    plt.plot(self.history.history['val_accuracy'])\n",
        "    plt.title('model accuracy')\n",
        "    plt.ylabel('accuracy')\n",
        "    plt.xlabel('epoch')\n",
        "    plt.legend(['train', 'val'], loc='upper left')\n",
        "    plt.show()\n",
        "  def loss(self):\n",
        "    plt.plot(self.history.history['loss'])\n",
        "    plt.plot(self.history.history['val_loss'])\n",
        "    plt.title('model loss')\n",
        "    plt.ylabel('loss')\n",
        "    plt.xlabel('epoch')\n",
        "    plt.legend(['train', 'validation'], loc='upper left')\n",
        "    plt.show()"
      ],
      "execution_count": null,
      "outputs": []
    },
    {
      "cell_type": "markdown",
      "metadata": {
        "id": "pubGFCZCKkTe"
      },
      "source": [
        "#data preprocess"
      ]
    },
    {
      "cell_type": "code",
      "metadata": {
        "colab": {
          "base_uri": "https://localhost:8080/"
        },
        "id": "2dbsQoupKhxG",
        "outputId": "1480230a-da60-4b1f-b1ae-8f44a4acac4f"
      },
      "source": [
        "d3 = d2.iloc[:, 2:30]\n",
        "list(d3.columns)"
      ],
      "execution_count": null,
      "outputs": [
        {
          "output_type": "execute_result",
          "data": {
            "text/plain": [
              "['掃氣時間(sec)',\n",
              " '點火穩定時間(sec)',\n",
              " '換向時間(sec)',\n",
              " '洩壓閥洩壓壓力(Pa)',\n",
              " '目標爐壓(Pa)',\n",
              " '停機爐壓(Pa)',\n",
              " '目標爐溫(℃)',\n",
              " '換向閥溫度(℃)',\n",
              " '換向閥停機溫度(℃)',\n",
              " '摻冷風溫度(℃)',\n",
              " '引風機停機溫度(℃)',\n",
              " 'FGR溫度(℃)',\n",
              " '引風伺服閥開度()',\n",
              " 'M1伺服閥開度()',\n",
              " 'M2伺服閥開度()',\n",
              " 'M3伺服閥開度()',\n",
              " 'M4伺服閥開度()',\n",
              " '持溫時間()',\n",
              " '1080烘爐時間()',\n",
              " '引風伺服閥開度(%)',\n",
              " 'M1伺服閥開度(%)',\n",
              " 'M2伺服閥開度(%)',\n",
              " 'M3伺服閥開度(%)',\n",
              " 'M4伺服閥開度(%)',\n",
              " '#2爐壓(Pa)',\n",
              " '平均爐壓(Pa)',\n",
              " '#1爐門開關()',\n",
              " '#2爐門開關()']"
            ]
          },
          "metadata": {},
          "execution_count": 11
        }
      ]
    },
    {
      "cell_type": "code",
      "metadata": {
        "id": "APcvNrR_Kytb"
      },
      "source": [
        "x = d2.iloc[:, 2:30]"
      ],
      "execution_count": null,
      "outputs": []
    },
    {
      "cell_type": "code",
      "metadata": {
        "id": "8XkeOjEDMsTB"
      },
      "source": [
        "x = x.astype(float)"
      ],
      "execution_count": null,
      "outputs": []
    },
    {
      "cell_type": "code",
      "metadata": {
        "id": "T9QVBH1zMkQ5"
      },
      "source": [
        "y = d2.iloc[:, 30:]"
      ],
      "execution_count": null,
      "outputs": []
    },
    {
      "cell_type": "code",
      "metadata": {
        "id": "GL2NoDi1Mvx2"
      },
      "source": [
        "y = y.astype(float)"
      ],
      "execution_count": null,
      "outputs": []
    },
    {
      "cell_type": "markdown",
      "metadata": {
        "id": "ozoELIoQF8DG"
      },
      "source": [
        "###remove outlier"
      ]
    },
    {
      "cell_type": "code",
      "metadata": {
        "id": "Dcgbo4KAiXJr"
      },
      "source": [
        "q3-q1=iqr\n",
        "lower = q1-1.5*iqr\n",
        "upper = q3+1.5*iqr"
      ],
      "execution_count": null,
      "outputs": []
    },
    {
      "cell_type": "code",
      "metadata": {
        "id": "z4aKCnUzkcXQ"
      },
      "source": [
        "# Computing IQR\n",
        "Q1 = y[i].quantile(0.25)\n",
        "Q3 = y[i].quantile(0.75)\n",
        "IQR = Q3 - Q1\n",
        "#upper and power\n",
        "upper = y[i].mean()+ 1.5*Q3\n",
        "lower = y[i].mean()- 1.5*Q1"
      ],
      "execution_count": null,
      "outputs": []
    },
    {
      "cell_type": "code",
      "metadata": {
        "id": "BVgFKWmBkdPv"
      },
      "source": [
        ""
      ],
      "execution_count": null,
      "outputs": []
    },
    {
      "cell_type": "code",
      "metadata": {
        "id": "hc-yRR3FfOS2"
      },
      "source": [
        "for i in y.columns:\n",
        "  # Computing IQR\n",
        "  Q1 = y[i].quantile(0.25)\n",
        "  Q3 = y[i].quantile(0.75)\n",
        "  IQR = Q3 - Q1\n",
        "  #upper and power\n",
        "  upper = y[i].mean()+ 1.5*Q3\n",
        "  lower = y[i].mean()- 1.5*Q1\n",
        "\n",
        "  mask1 = (y[i] > upper)\n",
        "  mask2 = (y[i] < lower)\n",
        "\n",
        "  remove_index = y[(mask1|mask2)].index\n",
        "  \n",
        "  x = x.drop(index=list(remove_index))\n",
        "  y = y.drop(index=list(remove_index))"
      ],
      "execution_count": null,
      "outputs": []
    },
    {
      "cell_type": "markdown",
      "metadata": {
        "id": "25Pizm3xL8Ko"
      },
      "source": [
        "#feature selection"
      ]
    },
    {
      "cell_type": "code",
      "metadata": {
        "id": "g6O_mQWCMypq"
      },
      "source": [
        "from sklearn.tree import DecisionTreeRegressor"
      ],
      "execution_count": null,
      "outputs": []
    },
    {
      "cell_type": "code",
      "metadata": {
        "id": "nN760jVcNle9"
      },
      "source": [
        "model = DecisionTreeRegressor()"
      ],
      "execution_count": null,
      "outputs": []
    },
    {
      "cell_type": "code",
      "metadata": {
        "colab": {
          "base_uri": "https://localhost:8080/"
        },
        "id": "uEHKEDJbMymC",
        "outputId": "953ec3ef-70ed-4352-85da-314d2f5a300c"
      },
      "source": [
        "model.fit(x, y)"
      ],
      "execution_count": null,
      "outputs": [
        {
          "output_type": "execute_result",
          "data": {
            "text/plain": [
              "DecisionTreeRegressor(ccp_alpha=0.0, criterion='mse', max_depth=None,\n",
              "                      max_features=None, max_leaf_nodes=None,\n",
              "                      min_impurity_decrease=0.0, min_impurity_split=None,\n",
              "                      min_samples_leaf=1, min_samples_split=2,\n",
              "                      min_weight_fraction_leaf=0.0, presort='deprecated',\n",
              "                      random_state=None, splitter='best')"
            ]
          },
          "metadata": {},
          "execution_count": 298
        }
      ]
    },
    {
      "cell_type": "code",
      "metadata": {
        "id": "pNCRQSlAO-bo"
      },
      "source": [
        "yhat = model.predict(x)"
      ],
      "execution_count": null,
      "outputs": []
    },
    {
      "cell_type": "code",
      "metadata": {
        "colab": {
          "base_uri": "https://localhost:8080/"
        },
        "id": "Zo_VFZTGPWX4",
        "outputId": "fa02b060-cbd2-4d14-da68-6b3876f06e74"
      },
      "source": [
        "importance = model.feature_importances_\n",
        "importance"
      ],
      "execution_count": null,
      "outputs": [
        {
          "output_type": "execute_result",
          "data": {
            "text/plain": [
              "array([0.    , 0.0106, 0.    , 0.    , 0.0041, 0.    , 0.0141, 0.    ,\n",
              "       0.    , 0.    , 0.    , 0.    , 0.    , 0.    , 0.    , 0.    ,\n",
              "       0.    , 0.429 , 0.    , 0.017 , 0.0085, 0.023 , 0.0043, 0.0027,\n",
              "       0.    , 0.4854, 0.0008, 0.0004])"
            ]
          },
          "metadata": {},
          "execution_count": 300
        }
      ]
    },
    {
      "cell_type": "code",
      "metadata": {
        "colab": {
          "base_uri": "https://localhost:8080/"
        },
        "id": "j2cuhUsVQuVq",
        "outputId": "74f2180c-1131-4823-c0dc-9449977b69aa"
      },
      "source": [
        "importances = model.feature_importances_\n",
        "\n",
        "sorted_indices = np.argsort(importances)[::-1]\n",
        "\n",
        "sorted_indices"
      ],
      "execution_count": null,
      "outputs": [
        {
          "output_type": "execute_result",
          "data": {
            "text/plain": [
              "array([25, 17, 21, 19,  6,  1, 20, 22,  4, 23, 26, 27,  7,  2,  5,  3,  9,\n",
              "        8, 13, 10, 11, 12, 14, 15, 16, 18, 24,  0])"
            ]
          },
          "metadata": {},
          "execution_count": 301
        }
      ]
    },
    {
      "cell_type": "code",
      "metadata": {
        "colab": {
          "base_uri": "https://localhost:8080/"
        },
        "id": "hnAtHECGRFow",
        "outputId": "d58b58bd-2950-41b7-fd86-cbbaa5d49968"
      },
      "source": [
        "for i in sorted_indices:\n",
        "  print(x.columns[i] ,':' ,  importances[i])"
      ],
      "execution_count": null,
      "outputs": [
        {
          "output_type": "stream",
          "text": [
            "平均爐壓(Pa) : 0.4853740565937742\n",
            "持溫時間() : 0.42895758898946984\n",
            "M2伺服閥開度(%) : 0.023046216475836507\n",
            "引風伺服閥開度(%) : 0.016979123477814842\n",
            "目標爐溫(℃) : 0.014131528916182126\n",
            "點火穩定時間(sec) : 0.010636966956976836\n",
            "M1伺服閥開度(%) : 0.008504512453110725\n",
            "M3伺服閥開度(%) : 0.0043303447368179685\n",
            "目標爐壓(Pa) : 0.00409513260516691\n",
            "M4伺服閥開度(%) : 0.0027244551703913423\n",
            "#1爐門開關() : 0.0008261872039893956\n",
            "#2爐門開關() : 0.0003938864204694221\n",
            "換向閥溫度(℃) : 0.0\n",
            "換向時間(sec) : 0.0\n",
            "停機爐壓(Pa) : 0.0\n",
            "洩壓閥洩壓壓力(Pa) : 0.0\n",
            "摻冷風溫度(℃) : 0.0\n",
            "換向閥停機溫度(℃) : 0.0\n",
            "M1伺服閥開度() : 0.0\n",
            "引風機停機溫度(℃) : 0.0\n",
            "FGR溫度(℃) : 0.0\n",
            "引風伺服閥開度() : 0.0\n",
            "M2伺服閥開度() : 0.0\n",
            "M3伺服閥開度() : 0.0\n",
            "M4伺服閥開度() : 0.0\n",
            "1080烘爐時間() : 0.0\n",
            "#2爐壓(Pa) : 0.0\n",
            "掃氣時間(sec) : 0.0\n"
          ],
          "name": "stdout"
        }
      ]
    },
    {
      "cell_type": "markdown",
      "metadata": {
        "id": "BHzkJLruRk29"
      },
      "source": [
        "##final selection"
      ]
    },
    {
      "cell_type": "code",
      "metadata": {
        "id": "Zgr3y1oRG_Lv"
      },
      "source": [
        "select_col = ['平均爐壓(Pa)',\n",
        "              '持溫時間()',\n",
        "              'M2伺服閥開度(%)',\n",
        "              '引風伺服閥開度(%)',\n",
        "              '目標爐溫(℃)',\n",
        "              '點火穩定時間(sec)',\n",
        "              'M1伺服閥開度(%)',\n",
        "              'M3伺服閥開度(%)',\n",
        "              '目標爐壓(Pa)',\n",
        "              'M4伺服閥開度(%)',\n",
        "              '#1爐門開關()',\n",
        "              '#2爐門開關()']"
      ],
      "execution_count": null,
      "outputs": []
    },
    {
      "cell_type": "code",
      "metadata": {
        "id": "sz0nGu_vSRuh"
      },
      "source": [
        "new_x = x[select_col]"
      ],
      "execution_count": null,
      "outputs": []
    },
    {
      "cell_type": "code",
      "metadata": {
        "colab": {
          "base_uri": "https://localhost:8080/",
          "height": 436
        },
        "id": "RBbVw0evSu_l",
        "outputId": "bb5db0c6-6c48-4ccb-845c-e37f25fc5108"
      },
      "source": [
        "new_x"
      ],
      "execution_count": null,
      "outputs": [
        {
          "output_type": "execute_result",
          "data": {
            "text/html": [
              "<div>\n",
              "<style scoped>\n",
              "    .dataframe tbody tr th:only-of-type {\n",
              "        vertical-align: middle;\n",
              "    }\n",
              "\n",
              "    .dataframe tbody tr th {\n",
              "        vertical-align: top;\n",
              "    }\n",
              "\n",
              "    .dataframe thead th {\n",
              "        text-align: right;\n",
              "    }\n",
              "</style>\n",
              "<table border=\"1\" class=\"dataframe\">\n",
              "  <thead>\n",
              "    <tr style=\"text-align: right;\">\n",
              "      <th></th>\n",
              "      <th>平均爐壓(Pa)</th>\n",
              "      <th>持溫時間()</th>\n",
              "      <th>M2伺服閥開度(%)</th>\n",
              "      <th>引風伺服閥開度(%)</th>\n",
              "      <th>目標爐溫(℃)</th>\n",
              "      <th>點火穩定時間(sec)</th>\n",
              "      <th>M1伺服閥開度(%)</th>\n",
              "      <th>M3伺服閥開度(%)</th>\n",
              "      <th>目標爐壓(Pa)</th>\n",
              "      <th>M4伺服閥開度(%)</th>\n",
              "      <th>#1爐門開關()</th>\n",
              "      <th>#2爐門開關()</th>\n",
              "    </tr>\n",
              "  </thead>\n",
              "  <tbody>\n",
              "    <tr>\n",
              "      <th>0</th>\n",
              "      <td>300.0</td>\n",
              "      <td>38.0</td>\n",
              "      <td>80.0</td>\n",
              "      <td>70.0</td>\n",
              "      <td>1080.0</td>\n",
              "      <td>180.0</td>\n",
              "      <td>80.0</td>\n",
              "      <td>80.0</td>\n",
              "      <td>150.0</td>\n",
              "      <td>80.0</td>\n",
              "      <td>1.0</td>\n",
              "      <td>0.0</td>\n",
              "    </tr>\n",
              "    <tr>\n",
              "      <th>1</th>\n",
              "      <td>300.0</td>\n",
              "      <td>38.0</td>\n",
              "      <td>80.0</td>\n",
              "      <td>82.0</td>\n",
              "      <td>1080.0</td>\n",
              "      <td>180.0</td>\n",
              "      <td>80.0</td>\n",
              "      <td>80.0</td>\n",
              "      <td>150.0</td>\n",
              "      <td>80.0</td>\n",
              "      <td>1.0</td>\n",
              "      <td>0.0</td>\n",
              "    </tr>\n",
              "    <tr>\n",
              "      <th>2</th>\n",
              "      <td>300.0</td>\n",
              "      <td>38.0</td>\n",
              "      <td>80.0</td>\n",
              "      <td>90.0</td>\n",
              "      <td>1080.0</td>\n",
              "      <td>180.0</td>\n",
              "      <td>80.0</td>\n",
              "      <td>80.0</td>\n",
              "      <td>150.0</td>\n",
              "      <td>80.0</td>\n",
              "      <td>1.0</td>\n",
              "      <td>0.0</td>\n",
              "    </tr>\n",
              "    <tr>\n",
              "      <th>3</th>\n",
              "      <td>300.0</td>\n",
              "      <td>38.0</td>\n",
              "      <td>80.0</td>\n",
              "      <td>90.0</td>\n",
              "      <td>1080.0</td>\n",
              "      <td>180.0</td>\n",
              "      <td>80.0</td>\n",
              "      <td>80.0</td>\n",
              "      <td>150.0</td>\n",
              "      <td>80.0</td>\n",
              "      <td>1.0</td>\n",
              "      <td>0.0</td>\n",
              "    </tr>\n",
              "    <tr>\n",
              "      <th>4</th>\n",
              "      <td>300.0</td>\n",
              "      <td>38.0</td>\n",
              "      <td>80.0</td>\n",
              "      <td>90.0</td>\n",
              "      <td>1080.0</td>\n",
              "      <td>180.0</td>\n",
              "      <td>80.0</td>\n",
              "      <td>80.0</td>\n",
              "      <td>150.0</td>\n",
              "      <td>80.0</td>\n",
              "      <td>1.0</td>\n",
              "      <td>0.0</td>\n",
              "    </tr>\n",
              "    <tr>\n",
              "      <th>...</th>\n",
              "      <td>...</td>\n",
              "      <td>...</td>\n",
              "      <td>...</td>\n",
              "      <td>...</td>\n",
              "      <td>...</td>\n",
              "      <td>...</td>\n",
              "      <td>...</td>\n",
              "      <td>...</td>\n",
              "      <td>...</td>\n",
              "      <td>...</td>\n",
              "      <td>...</td>\n",
              "      <td>...</td>\n",
              "    </tr>\n",
              "    <tr>\n",
              "      <th>1322320</th>\n",
              "      <td>1.0</td>\n",
              "      <td>12.0</td>\n",
              "      <td>80.0</td>\n",
              "      <td>70.0</td>\n",
              "      <td>1080.0</td>\n",
              "      <td>120.0</td>\n",
              "      <td>80.0</td>\n",
              "      <td>80.0</td>\n",
              "      <td>100.0</td>\n",
              "      <td>80.0</td>\n",
              "      <td>0.0</td>\n",
              "      <td>0.0</td>\n",
              "    </tr>\n",
              "    <tr>\n",
              "      <th>1322321</th>\n",
              "      <td>1.0</td>\n",
              "      <td>12.0</td>\n",
              "      <td>80.0</td>\n",
              "      <td>70.0</td>\n",
              "      <td>1080.0</td>\n",
              "      <td>120.0</td>\n",
              "      <td>80.0</td>\n",
              "      <td>80.0</td>\n",
              "      <td>100.0</td>\n",
              "      <td>80.0</td>\n",
              "      <td>0.0</td>\n",
              "      <td>0.0</td>\n",
              "    </tr>\n",
              "    <tr>\n",
              "      <th>1322322</th>\n",
              "      <td>1.0</td>\n",
              "      <td>12.0</td>\n",
              "      <td>80.0</td>\n",
              "      <td>70.0</td>\n",
              "      <td>1080.0</td>\n",
              "      <td>120.0</td>\n",
              "      <td>80.0</td>\n",
              "      <td>80.0</td>\n",
              "      <td>100.0</td>\n",
              "      <td>80.0</td>\n",
              "      <td>0.0</td>\n",
              "      <td>0.0</td>\n",
              "    </tr>\n",
              "    <tr>\n",
              "      <th>1322323</th>\n",
              "      <td>2.0</td>\n",
              "      <td>12.0</td>\n",
              "      <td>80.0</td>\n",
              "      <td>70.0</td>\n",
              "      <td>1080.0</td>\n",
              "      <td>120.0</td>\n",
              "      <td>80.0</td>\n",
              "      <td>80.0</td>\n",
              "      <td>100.0</td>\n",
              "      <td>80.0</td>\n",
              "      <td>0.0</td>\n",
              "      <td>0.0</td>\n",
              "    </tr>\n",
              "    <tr>\n",
              "      <th>1322324</th>\n",
              "      <td>1.0</td>\n",
              "      <td>12.0</td>\n",
              "      <td>80.0</td>\n",
              "      <td>70.0</td>\n",
              "      <td>1080.0</td>\n",
              "      <td>120.0</td>\n",
              "      <td>80.0</td>\n",
              "      <td>80.0</td>\n",
              "      <td>100.0</td>\n",
              "      <td>80.0</td>\n",
              "      <td>0.0</td>\n",
              "      <td>0.0</td>\n",
              "    </tr>\n",
              "  </tbody>\n",
              "</table>\n",
              "<p>653659 rows × 12 columns</p>\n",
              "</div>"
            ],
            "text/plain": [
              "         平均爐壓(Pa)  持溫時間()  M2伺服閥開度(%)  引風伺服閥開度(%)  目標爐溫(℃)  點火穩定時間(sec)  \\\n",
              "0           300.0    38.0        80.0        70.0   1080.0        180.0   \n",
              "1           300.0    38.0        80.0        82.0   1080.0        180.0   \n",
              "2           300.0    38.0        80.0        90.0   1080.0        180.0   \n",
              "3           300.0    38.0        80.0        90.0   1080.0        180.0   \n",
              "4           300.0    38.0        80.0        90.0   1080.0        180.0   \n",
              "...           ...     ...         ...         ...      ...          ...   \n",
              "1322320       1.0    12.0        80.0        70.0   1080.0        120.0   \n",
              "1322321       1.0    12.0        80.0        70.0   1080.0        120.0   \n",
              "1322322       1.0    12.0        80.0        70.0   1080.0        120.0   \n",
              "1322323       2.0    12.0        80.0        70.0   1080.0        120.0   \n",
              "1322324       1.0    12.0        80.0        70.0   1080.0        120.0   \n",
              "\n",
              "         M1伺服閥開度(%)  M3伺服閥開度(%)  目標爐壓(Pa)  M4伺服閥開度(%)  #1爐門開關()  #2爐門開關()  \n",
              "0              80.0        80.0     150.0        80.0       1.0       0.0  \n",
              "1              80.0        80.0     150.0        80.0       1.0       0.0  \n",
              "2              80.0        80.0     150.0        80.0       1.0       0.0  \n",
              "3              80.0        80.0     150.0        80.0       1.0       0.0  \n",
              "4              80.0        80.0     150.0        80.0       1.0       0.0  \n",
              "...             ...         ...       ...         ...       ...       ...  \n",
              "1322320        80.0        80.0     100.0        80.0       0.0       0.0  \n",
              "1322321        80.0        80.0     100.0        80.0       0.0       0.0  \n",
              "1322322        80.0        80.0     100.0        80.0       0.0       0.0  \n",
              "1322323        80.0        80.0     100.0        80.0       0.0       0.0  \n",
              "1322324        80.0        80.0     100.0        80.0       0.0       0.0  \n",
              "\n",
              "[653659 rows x 12 columns]"
            ]
          },
          "metadata": {},
          "execution_count": 305
        }
      ]
    },
    {
      "cell_type": "markdown",
      "metadata": {
        "id": "WmM-WSaFL_wm"
      },
      "source": [
        "#model"
      ]
    },
    {
      "cell_type": "markdown",
      "metadata": {
        "id": "cD5C4CC5S15n"
      },
      "source": [
        "##data normalize"
      ]
    },
    {
      "cell_type": "code",
      "metadata": {
        "id": "JbhnyGgvS3o9"
      },
      "source": [
        "from sklearn.preprocessing import MinMaxScaler\n",
        "scaler1=MinMaxScaler()"
      ],
      "execution_count": null,
      "outputs": []
    },
    {
      "cell_type": "code",
      "metadata": {
        "id": "zm8Naq0HToP2"
      },
      "source": [
        "nm_x = scaler1.fit_transform(new_x)"
      ],
      "execution_count": null,
      "outputs": []
    },
    {
      "cell_type": "code",
      "metadata": {
        "colab": {
          "base_uri": "https://localhost:8080/"
        },
        "id": "NwhKIaclUBY3",
        "outputId": "06199ba9-3b68-4c1c-c04a-ec819354b6a1"
      },
      "source": [
        "nm_x"
      ],
      "execution_count": null,
      "outputs": [
        {
          "output_type": "execute_result",
          "data": {
            "text/plain": [
              "array([[1.    , 0.0107, 0.8   , ..., 0.8   , 1.    , 0.    ],\n",
              "       [1.    , 0.0107, 0.8   , ..., 0.8   , 1.    , 0.    ],\n",
              "       [1.    , 0.0107, 0.8   , ..., 0.8   , 1.    , 0.    ],\n",
              "       ...,\n",
              "       [0.5138, 0.002 , 0.8   , ..., 0.8   , 0.    , 0.    ],\n",
              "       [0.5154, 0.002 , 0.8   , ..., 0.8   , 0.    , 0.    ],\n",
              "       [0.5138, 0.002 , 0.8   , ..., 0.8   , 0.    , 0.    ]])"
            ]
          },
          "metadata": {},
          "execution_count": 309
        }
      ]
    },
    {
      "cell_type": "code",
      "metadata": {
        "colab": {
          "base_uri": "https://localhost:8080/"
        },
        "id": "DCYsuO7-UGSu",
        "outputId": "36ee4390-4cdb-453b-c0b1-c3f4018123d0"
      },
      "source": [
        "scaler2=MinMaxScaler()\n",
        "nm_y = scaler2.fit_transform(y)\n",
        "nm_y"
      ],
      "execution_count": null,
      "outputs": [
        {
          "output_type": "execute_result",
          "data": {
            "text/plain": [
              "array([[0.8714, 0.7975, 0.8019, ..., 0.6067, 0.0073, 0.8447],\n",
              "       [0.8714, 0.7975, 0.8019, ..., 0.6067, 0.0073, 0.8447],\n",
              "       [0.8714, 0.7975, 0.8019, ..., 0.6067, 0.0073, 0.8447],\n",
              "       ...,\n",
              "       [0.8   , 0.6709, 0.7358, ..., 0.5955, 0.0059, 0.7573],\n",
              "       [0.8   , 0.6709, 0.7358, ..., 0.5955, 0.0059, 0.7573],\n",
              "       [0.8   , 0.6709, 0.7358, ..., 0.5955, 0.0059, 0.7573]])"
            ]
          },
          "metadata": {},
          "execution_count": 310
        }
      ]
    },
    {
      "cell_type": "code",
      "metadata": {
        "colab": {
          "base_uri": "https://localhost:8080/"
        },
        "id": "9VfPgj1MUVeU",
        "outputId": "2d8d7633-2aa6-4cbd-c11a-8cad7f8080b2"
      },
      "source": [
        "qq = scaler2.inverse_transform(nm_y)\n",
        "qq"
      ],
      "execution_count": null,
      "outputs": [
        {
          "output_type": "execute_result",
          "data": {
            "text/plain": [
              "array([[0.61, 0.63, 0.85, ..., 0.54, 0.83, 0.87],\n",
              "       [0.61, 0.63, 0.85, ..., 0.54, 0.83, 0.87],\n",
              "       [0.61, 0.63, 0.85, ..., 0.54, 0.83, 0.87],\n",
              "       ...,\n",
              "       [0.56, 0.53, 0.78, ..., 0.53, 0.67, 0.78],\n",
              "       [0.56, 0.53, 0.78, ..., 0.53, 0.67, 0.78],\n",
              "       [0.56, 0.53, 0.78, ..., 0.53, 0.67, 0.78]])"
            ]
          },
          "metadata": {},
          "execution_count": 311
        }
      ]
    },
    {
      "cell_type": "markdown",
      "metadata": {
        "id": "6kO2JLrgMQ6W"
      },
      "source": [
        "##model building\n"
      ]
    },
    {
      "cell_type": "code",
      "metadata": {
        "id": "6yR8Up0sU16H"
      },
      "source": [
        "from tensorflow.keras import Sequential, utils\n",
        "from tensorflow.keras.layers import Flatten, Dense, Conv1D, MaxPool1D, Dropout, MaxPooling1D, BatchNormalization\n",
        "from keras import backend as K"
      ],
      "execution_count": null,
      "outputs": []
    },
    {
      "cell_type": "code",
      "metadata": {
        "id": "qLUmomSyXfed"
      },
      "source": [
        "def root_mean_squared_error(y_true, y_pred):\n",
        "        return K.sqrt(K.mean(K.square(y_pred - y_true))) "
      ],
      "execution_count": null,
      "outputs": []
    },
    {
      "cell_type": "code",
      "metadata": {
        "id": "IqyTFRLEU6Jc"
      },
      "source": [
        "def create_model():\n",
        "  model = Sequential()\n",
        "  model.add(Dense(50, activation='relu', input_shape=(nm_x.shape[1] , )))\n",
        "\n",
        "  model.add(Dense(30, activation='relu'))\n",
        "\n",
        "  model.add(Dropout(0.25))\n",
        "  #model.add(BatchNormalization())\n",
        "  model.add(Dense(20, activation='relu'))\n",
        "  model.add(Dense(18, activation='linear'))\n",
        "  model.compile(optimizer='adam', loss = root_mean_squared_error)\n",
        "  return model"
      ],
      "execution_count": null,
      "outputs": []
    },
    {
      "cell_type": "code",
      "metadata": {
        "id": "cXXzSICtVCDw"
      },
      "source": [
        "m1 = create_model()"
      ],
      "execution_count": null,
      "outputs": []
    },
    {
      "cell_type": "code",
      "metadata": {
        "colab": {
          "base_uri": "https://localhost:8080/"
        },
        "id": "5LNV0NDkWUuG",
        "outputId": "643a54b1-f5b0-45db-94b2-fd5774527237"
      },
      "source": [
        "m1.summary()"
      ],
      "execution_count": null,
      "outputs": [
        {
          "output_type": "stream",
          "text": [
            "Model: \"sequential_11\"\n",
            "_________________________________________________________________\n",
            "Layer (type)                 Output Shape              Param #   \n",
            "=================================================================\n",
            "dense_44 (Dense)             (None, 50)                650       \n",
            "_________________________________________________________________\n",
            "dense_45 (Dense)             (None, 30)                1530      \n",
            "_________________________________________________________________\n",
            "dropout_11 (Dropout)         (None, 30)                0         \n",
            "_________________________________________________________________\n",
            "dense_46 (Dense)             (None, 20)                620       \n",
            "_________________________________________________________________\n",
            "dense_47 (Dense)             (None, 18)                378       \n",
            "=================================================================\n",
            "Total params: 3,178\n",
            "Trainable params: 3,178\n",
            "Non-trainable params: 0\n",
            "_________________________________________________________________\n"
          ],
          "name": "stdout"
        }
      ]
    },
    {
      "cell_type": "markdown",
      "metadata": {
        "id": "uujIS7UWMSex"
      },
      "source": [
        "##model training"
      ]
    },
    {
      "cell_type": "code",
      "metadata": {
        "colab": {
          "base_uri": "https://localhost:8080/"
        },
        "id": "Cq6qaN7eWc8E",
        "outputId": "fdc9d001-2759-4f8f-a1ce-762bc2722336"
      },
      "source": [
        "history = m1.fit(nm_x, nm_y, epochs=20, batch_size=128, validation_split=0.1)"
      ],
      "execution_count": null,
      "outputs": [
        {
          "output_type": "stream",
          "text": [
            "Epoch 1/20\n",
            "4597/4597 [==============================] - 9s 2ms/step - loss: 0.0720 - val_loss: 0.0228\n",
            "Epoch 2/20\n",
            "4597/4597 [==============================] - 9s 2ms/step - loss: 0.0593 - val_loss: 0.0167\n",
            "Epoch 3/20\n",
            "4597/4597 [==============================] - 9s 2ms/step - loss: 0.0587 - val_loss: 0.0187\n",
            "Epoch 4/20\n",
            "4597/4597 [==============================] - 9s 2ms/step - loss: 0.0587 - val_loss: 0.0201\n",
            "Epoch 5/20\n",
            "4597/4597 [==============================] - 8s 2ms/step - loss: 0.0584 - val_loss: 0.0244\n",
            "Epoch 6/20\n",
            "4597/4597 [==============================] - 9s 2ms/step - loss: 0.0581 - val_loss: 0.0197\n",
            "Epoch 7/20\n",
            "4597/4597 [==============================] - 8s 2ms/step - loss: 0.0581 - val_loss: 0.0232\n",
            "Epoch 8/20\n",
            "4597/4597 [==============================] - 9s 2ms/step - loss: 0.0580 - val_loss: 0.0204\n",
            "Epoch 9/20\n",
            "4597/4597 [==============================] - 9s 2ms/step - loss: 0.0582 - val_loss: 0.0183\n",
            "Epoch 10/20\n",
            "4597/4597 [==============================] - 9s 2ms/step - loss: 0.0580 - val_loss: 0.0188\n",
            "Epoch 11/20\n",
            "4597/4597 [==============================] - 9s 2ms/step - loss: 0.0581 - val_loss: 0.0261\n",
            "Epoch 12/20\n",
            "4597/4597 [==============================] - 9s 2ms/step - loss: 0.0582 - val_loss: 0.0270\n",
            "Epoch 13/20\n",
            "4597/4597 [==============================] - 9s 2ms/step - loss: 0.0580 - val_loss: 0.0184\n",
            "Epoch 14/20\n",
            "4597/4597 [==============================] - 9s 2ms/step - loss: 0.0583 - val_loss: 0.0201\n",
            "Epoch 15/20\n",
            "4597/4597 [==============================] - 9s 2ms/step - loss: 0.0583 - val_loss: 0.0188\n",
            "Epoch 16/20\n",
            "4597/4597 [==============================] - 9s 2ms/step - loss: 0.0581 - val_loss: 0.0194\n",
            "Epoch 17/20\n",
            "4597/4597 [==============================] - 9s 2ms/step - loss: 0.0580 - val_loss: 0.0182\n",
            "Epoch 18/20\n",
            "4597/4597 [==============================] - 9s 2ms/step - loss: 0.0581 - val_loss: 0.0185\n",
            "Epoch 19/20\n",
            "4597/4597 [==============================] - 9s 2ms/step - loss: 0.0582 - val_loss: 0.0198\n",
            "Epoch 20/20\n",
            "4597/4597 [==============================] - 9s 2ms/step - loss: 0.0580 - val_loss: 0.0236\n"
          ],
          "name": "stdout"
        }
      ]
    },
    {
      "cell_type": "code",
      "metadata": {
        "id": "-h-iuhzmWkQW"
      },
      "source": [
        "m1.save('model_0825.h5')"
      ],
      "execution_count": null,
      "outputs": []
    },
    {
      "cell_type": "code",
      "metadata": {
        "colab": {
          "base_uri": "https://localhost:8080/"
        },
        "id": "R5dTPtzMJh5i",
        "outputId": "2f49a7de-500c-481d-ee7e-98542a5e3d85"
      },
      "source": [
        "m1.evaluate(nm_x, nm_y, batch_size=128)"
      ],
      "execution_count": null,
      "outputs": [
        {
          "output_type": "stream",
          "text": [
            "5107/5107 [==============================] - 6s 1ms/step - loss: 0.0302\n"
          ],
          "name": "stdout"
        },
        {
          "output_type": "execute_result",
          "data": {
            "text/plain": [
              "0.030156461521983147"
            ]
          },
          "metadata": {},
          "execution_count": 339
        }
      ]
    },
    {
      "cell_type": "markdown",
      "metadata": {
        "id": "OliO-PyVMU7l"
      },
      "source": [
        "##model inference"
      ]
    },
    {
      "cell_type": "code",
      "metadata": {
        "id": "Usd2rwUubS8a"
      },
      "source": [
        "his = Training_plot(history)"
      ],
      "execution_count": null,
      "outputs": []
    },
    {
      "cell_type": "code",
      "metadata": {
        "colab": {
          "base_uri": "https://localhost:8080/",
          "height": 295
        },
        "id": "IwcjHs9AbYtT",
        "outputId": "63fcf0d1-9409-43c6-9955-d45d30d98f61"
      },
      "source": [
        "his.loss()"
      ],
      "execution_count": null,
      "outputs": [
        {
          "output_type": "display_data",
          "data": {
            "image/png": "[encoded data removed]",
            "text/plain": [
              "<Figure size 432x288 with 1 Axes>"
            ]
          },
          "metadata": {
            "needs_background": "light"
          }
        }
      ]
    },
    {
      "cell_type": "code",
      "metadata": {
        "id": "hecdtj5gb7w-"
      },
      "source": [
        "yhat = m1.predict(nm_x)"
      ],
      "execution_count": null,
      "outputs": []
    },
    {
      "cell_type": "code",
      "metadata": {
        "colab": {
          "base_uri": "https://localhost:8080/"
        },
        "id": "uUkQlmI5cABn",
        "outputId": "a133c6c1-a3f8-49ac-f0e5-cd7add603c71"
      },
      "source": [
        "yhat[0]"
      ],
      "execution_count": null,
      "outputs": [
        {
          "output_type": "execute_result",
          "data": {
            "text/plain": [
              "array([0.8503, 0.8106, 0.7951, 0.8398, 0.6909, 0.7427, 0.9026, 0.9255,\n",
              "       0.8103, 0.8707, 0.665 , 0.7078, 0.7604, 0.8227, 0.6734, 0.6204,\n",
              "       0.0069, 0.8312], dtype=float32)"
            ]
          },
          "metadata": {},
          "execution_count": 343
        }
      ]
    },
    {
      "cell_type": "code",
      "metadata": {
        "colab": {
          "base_uri": "https://localhost:8080/",
          "height": 439
        },
        "id": "psZ7zrFgC5NR",
        "outputId": "0d88d561-353a-4177-e785-50bf24eac9a5"
      },
      "source": [
        "y"
      ],
      "execution_count": null,
      "outputs": [
        {
          "output_type": "execute_result",
          "data": {
            "text/html": [
              "<div>\n",
              "<style scoped>\n",
              "    .dataframe tbody tr th:only-of-type {\n",
              "        vertical-align: middle;\n",
              "    }\n",
              "\n",
              "    .dataframe tbody tr th {\n",
              "        vertical-align: top;\n",
              "    }\n",
              "\n",
              "    .dataframe thead th {\n",
              "        text-align: right;\n",
              "    }\n",
              "</style>\n",
              "<table border=\"1\" class=\"dataframe\">\n",
              "  <thead>\n",
              "    <tr style=\"text-align: right;\">\n",
              "      <th></th>\n",
              "      <th>index</th>\n",
              "      <th>1_air</th>\n",
              "      <th>1_smoke</th>\n",
              "      <th>2_air</th>\n",
              "      <th>2_smoke</th>\n",
              "      <th>3_air</th>\n",
              "      <th>3_smoke</th>\n",
              "      <th>4_air</th>\n",
              "      <th>4_smoke</th>\n",
              "      <th>5_air</th>\n",
              "      <th>5_smoke</th>\n",
              "      <th>6_air</th>\n",
              "      <th>6_smoke</th>\n",
              "      <th>7_air</th>\n",
              "      <th>7_smoke</th>\n",
              "      <th>8_air</th>\n",
              "      <th>8_smoke</th>\n",
              "      <th>9_air</th>\n",
              "      <th>9_smoke</th>\n",
              "    </tr>\n",
              "  </thead>\n",
              "  <tbody>\n",
              "    <tr>\n",
              "      <th>0</th>\n",
              "      <td>0</td>\n",
              "      <td>0.61</td>\n",
              "      <td>0.63</td>\n",
              "      <td>0.85</td>\n",
              "      <td>0.71</td>\n",
              "      <td>0.71</td>\n",
              "      <td>0.64</td>\n",
              "      <td>0.68</td>\n",
              "      <td>0.79</td>\n",
              "      <td>0.59</td>\n",
              "      <td>0.81</td>\n",
              "      <td>0.61</td>\n",
              "      <td>0.75</td>\n",
              "      <td>0.68</td>\n",
              "      <td>0.79</td>\n",
              "      <td>0.69</td>\n",
              "      <td>0.54</td>\n",
              "      <td>0.83</td>\n",
              "      <td>0.87</td>\n",
              "    </tr>\n",
              "    <tr>\n",
              "      <th>1</th>\n",
              "      <td>1</td>\n",
              "      <td>0.61</td>\n",
              "      <td>0.63</td>\n",
              "      <td>0.85</td>\n",
              "      <td>0.71</td>\n",
              "      <td>0.71</td>\n",
              "      <td>0.64</td>\n",
              "      <td>0.68</td>\n",
              "      <td>0.79</td>\n",
              "      <td>0.59</td>\n",
              "      <td>0.78</td>\n",
              "      <td>0.58</td>\n",
              "      <td>0.75</td>\n",
              "      <td>0.68</td>\n",
              "      <td>0.79</td>\n",
              "      <td>0.69</td>\n",
              "      <td>0.54</td>\n",
              "      <td>0.83</td>\n",
              "      <td>0.87</td>\n",
              "    </tr>\n",
              "    <tr>\n",
              "      <th>2</th>\n",
              "      <td>2</td>\n",
              "      <td>0.61</td>\n",
              "      <td>0.63</td>\n",
              "      <td>0.85</td>\n",
              "      <td>0.71</td>\n",
              "      <td>0.71</td>\n",
              "      <td>0.64</td>\n",
              "      <td>0.68</td>\n",
              "      <td>0.79</td>\n",
              "      <td>0.59</td>\n",
              "      <td>0.78</td>\n",
              "      <td>0.58</td>\n",
              "      <td>0.75</td>\n",
              "      <td>0.68</td>\n",
              "      <td>0.79</td>\n",
              "      <td>0.69</td>\n",
              "      <td>0.54</td>\n",
              "      <td>0.83</td>\n",
              "      <td>0.87</td>\n",
              "    </tr>\n",
              "    <tr>\n",
              "      <th>3</th>\n",
              "      <td>3</td>\n",
              "      <td>0.61</td>\n",
              "      <td>0.63</td>\n",
              "      <td>0.85</td>\n",
              "      <td>0.71</td>\n",
              "      <td>0.71</td>\n",
              "      <td>0.64</td>\n",
              "      <td>0.68</td>\n",
              "      <td>0.79</td>\n",
              "      <td>0.59</td>\n",
              "      <td>0.78</td>\n",
              "      <td>0.58</td>\n",
              "      <td>0.75</td>\n",
              "      <td>0.68</td>\n",
              "      <td>0.79</td>\n",
              "      <td>0.69</td>\n",
              "      <td>0.54</td>\n",
              "      <td>0.83</td>\n",
              "      <td>0.87</td>\n",
              "    </tr>\n",
              "    <tr>\n",
              "      <th>4</th>\n",
              "      <td>4</td>\n",
              "      <td>0.61</td>\n",
              "      <td>0.63</td>\n",
              "      <td>0.85</td>\n",
              "      <td>0.71</td>\n",
              "      <td>0.68</td>\n",
              "      <td>0.64</td>\n",
              "      <td>0.68</td>\n",
              "      <td>0.78</td>\n",
              "      <td>0.59</td>\n",
              "      <td>0.78</td>\n",
              "      <td>0.58</td>\n",
              "      <td>0.75</td>\n",
              "      <td>0.68</td>\n",
              "      <td>0.79</td>\n",
              "      <td>0.69</td>\n",
              "      <td>0.54</td>\n",
              "      <td>0.83</td>\n",
              "      <td>0.87</td>\n",
              "    </tr>\n",
              "    <tr>\n",
              "      <th>...</th>\n",
              "      <td>...</td>\n",
              "      <td>...</td>\n",
              "      <td>...</td>\n",
              "      <td>...</td>\n",
              "      <td>...</td>\n",
              "      <td>...</td>\n",
              "      <td>...</td>\n",
              "      <td>...</td>\n",
              "      <td>...</td>\n",
              "      <td>...</td>\n",
              "      <td>...</td>\n",
              "      <td>...</td>\n",
              "      <td>...</td>\n",
              "      <td>...</td>\n",
              "      <td>...</td>\n",
              "      <td>...</td>\n",
              "      <td>...</td>\n",
              "      <td>...</td>\n",
              "      <td>...</td>\n",
              "    </tr>\n",
              "    <tr>\n",
              "      <th>658675</th>\n",
              "      <td>1322320</td>\n",
              "      <td>0.56</td>\n",
              "      <td>0.53</td>\n",
              "      <td>0.78</td>\n",
              "      <td>0.70</td>\n",
              "      <td>0.67</td>\n",
              "      <td>0.62</td>\n",
              "      <td>0.66</td>\n",
              "      <td>0.75</td>\n",
              "      <td>0.56</td>\n",
              "      <td>0.79</td>\n",
              "      <td>0.58</td>\n",
              "      <td>0.75</td>\n",
              "      <td>0.77</td>\n",
              "      <td>0.87</td>\n",
              "      <td>0.69</td>\n",
              "      <td>0.53</td>\n",
              "      <td>0.67</td>\n",
              "      <td>0.78</td>\n",
              "    </tr>\n",
              "    <tr>\n",
              "      <th>658676</th>\n",
              "      <td>1322321</td>\n",
              "      <td>0.56</td>\n",
              "      <td>0.53</td>\n",
              "      <td>0.78</td>\n",
              "      <td>0.70</td>\n",
              "      <td>0.67</td>\n",
              "      <td>0.62</td>\n",
              "      <td>0.66</td>\n",
              "      <td>0.75</td>\n",
              "      <td>0.56</td>\n",
              "      <td>0.79</td>\n",
              "      <td>0.58</td>\n",
              "      <td>0.75</td>\n",
              "      <td>0.77</td>\n",
              "      <td>0.87</td>\n",
              "      <td>0.69</td>\n",
              "      <td>0.53</td>\n",
              "      <td>0.67</td>\n",
              "      <td>0.78</td>\n",
              "    </tr>\n",
              "    <tr>\n",
              "      <th>658677</th>\n",
              "      <td>1322322</td>\n",
              "      <td>0.56</td>\n",
              "      <td>0.53</td>\n",
              "      <td>0.78</td>\n",
              "      <td>0.70</td>\n",
              "      <td>0.67</td>\n",
              "      <td>0.62</td>\n",
              "      <td>0.66</td>\n",
              "      <td>0.75</td>\n",
              "      <td>0.56</td>\n",
              "      <td>0.79</td>\n",
              "      <td>0.58</td>\n",
              "      <td>0.75</td>\n",
              "      <td>0.77</td>\n",
              "      <td>0.87</td>\n",
              "      <td>0.69</td>\n",
              "      <td>0.53</td>\n",
              "      <td>0.67</td>\n",
              "      <td>0.78</td>\n",
              "    </tr>\n",
              "    <tr>\n",
              "      <th>658678</th>\n",
              "      <td>1322323</td>\n",
              "      <td>0.56</td>\n",
              "      <td>0.53</td>\n",
              "      <td>0.78</td>\n",
              "      <td>0.70</td>\n",
              "      <td>0.67</td>\n",
              "      <td>0.62</td>\n",
              "      <td>0.66</td>\n",
              "      <td>0.75</td>\n",
              "      <td>0.56</td>\n",
              "      <td>0.79</td>\n",
              "      <td>0.58</td>\n",
              "      <td>0.75</td>\n",
              "      <td>0.77</td>\n",
              "      <td>0.87</td>\n",
              "      <td>0.69</td>\n",
              "      <td>0.53</td>\n",
              "      <td>0.67</td>\n",
              "      <td>0.78</td>\n",
              "    </tr>\n",
              "    <tr>\n",
              "      <th>658679</th>\n",
              "      <td>1322324</td>\n",
              "      <td>0.56</td>\n",
              "      <td>0.53</td>\n",
              "      <td>0.78</td>\n",
              "      <td>0.70</td>\n",
              "      <td>0.67</td>\n",
              "      <td>0.62</td>\n",
              "      <td>0.66</td>\n",
              "      <td>0.75</td>\n",
              "      <td>0.56</td>\n",
              "      <td>0.79</td>\n",
              "      <td>0.58</td>\n",
              "      <td>0.75</td>\n",
              "      <td>0.77</td>\n",
              "      <td>0.87</td>\n",
              "      <td>0.69</td>\n",
              "      <td>0.53</td>\n",
              "      <td>0.67</td>\n",
              "      <td>0.78</td>\n",
              "    </tr>\n",
              "  </tbody>\n",
              "</table>\n",
              "<p>658680 rows × 19 columns</p>\n",
              "</div>"
            ],
            "text/plain": [
              "          index  1_air  1_smoke  2_air  2_smoke  3_air  3_smoke  4_air  \\\n",
              "0             0   0.61     0.63   0.85     0.71   0.71     0.64   0.68   \n",
              "1             1   0.61     0.63   0.85     0.71   0.71     0.64   0.68   \n",
              "2             2   0.61     0.63   0.85     0.71   0.71     0.64   0.68   \n",
              "3             3   0.61     0.63   0.85     0.71   0.71     0.64   0.68   \n",
              "4             4   0.61     0.63   0.85     0.71   0.68     0.64   0.68   \n",
              "...         ...    ...      ...    ...      ...    ...      ...    ...   \n",
              "658675  1322320   0.56     0.53   0.78     0.70   0.67     0.62   0.66   \n",
              "658676  1322321   0.56     0.53   0.78     0.70   0.67     0.62   0.66   \n",
              "658677  1322322   0.56     0.53   0.78     0.70   0.67     0.62   0.66   \n",
              "658678  1322323   0.56     0.53   0.78     0.70   0.67     0.62   0.66   \n",
              "658679  1322324   0.56     0.53   0.78     0.70   0.67     0.62   0.66   \n",
              "\n",
              "        4_smoke  5_air  5_smoke  6_air  6_smoke  7_air  7_smoke  8_air  \\\n",
              "0          0.79   0.59     0.81   0.61     0.75   0.68     0.79   0.69   \n",
              "1          0.79   0.59     0.78   0.58     0.75   0.68     0.79   0.69   \n",
              "2          0.79   0.59     0.78   0.58     0.75   0.68     0.79   0.69   \n",
              "3          0.79   0.59     0.78   0.58     0.75   0.68     0.79   0.69   \n",
              "4          0.78   0.59     0.78   0.58     0.75   0.68     0.79   0.69   \n",
              "...         ...    ...      ...    ...      ...    ...      ...    ...   \n",
              "658675     0.75   0.56     0.79   0.58     0.75   0.77     0.87   0.69   \n",
              "658676     0.75   0.56     0.79   0.58     0.75   0.77     0.87   0.69   \n",
              "658677     0.75   0.56     0.79   0.58     0.75   0.77     0.87   0.69   \n",
              "658678     0.75   0.56     0.79   0.58     0.75   0.77     0.87   0.69   \n",
              "658679     0.75   0.56     0.79   0.58     0.75   0.77     0.87   0.69   \n",
              "\n",
              "        8_smoke  9_air  9_smoke  \n",
              "0          0.54   0.83     0.87  \n",
              "1          0.54   0.83     0.87  \n",
              "2          0.54   0.83     0.87  \n",
              "3          0.54   0.83     0.87  \n",
              "4          0.54   0.83     0.87  \n",
              "...         ...    ...      ...  \n",
              "658675     0.53   0.67     0.78  \n",
              "658676     0.53   0.67     0.78  \n",
              "658677     0.53   0.67     0.78  \n",
              "658678     0.53   0.67     0.78  \n",
              "658679     0.53   0.67     0.78  \n",
              "\n",
              "[658680 rows x 19 columns]"
            ]
          },
          "metadata": {},
          "execution_count": 260
        }
      ]
    },
    {
      "cell_type": "code",
      "metadata": {
        "colab": {
          "base_uri": "https://localhost:8080/"
        },
        "id": "0Qkd4YVQC2Qs",
        "outputId": "55a321ec-7e81-4954-fda9-f1d16c581469"
      },
      "source": [
        "yhat"
      ],
      "execution_count": null,
      "outputs": [
        {
          "output_type": "execute_result",
          "data": {
            "text/plain": [
              "array([[0.8503, 0.8106, 0.7951, ..., 0.6204, 0.0069, 0.8312],\n",
              "       [0.8526, 0.8077, 0.7989, ..., 0.6208, 0.0069, 0.8308],\n",
              "       [0.853 , 0.8071, 0.7994, ..., 0.6206, 0.0068, 0.8307],\n",
              "       ...,\n",
              "       [0.8123, 0.7149, 0.7423, ..., 0.6125, 0.0072, 0.7707],\n",
              "       [0.8124, 0.715 , 0.7423, ..., 0.6125, 0.0072, 0.7707],\n",
              "       [0.8123, 0.7149, 0.7423, ..., 0.6125, 0.0072, 0.7707]],\n",
              "      dtype=float32)"
            ]
          },
          "metadata": {},
          "execution_count": 344
        }
      ]
    },
    {
      "cell_type": "markdown",
      "metadata": {
        "id": "Bi9pRVPtMBW7"
      },
      "source": [
        "#calculate error"
      ]
    },
    {
      "cell_type": "markdown",
      "metadata": {
        "id": "9FoaRooYVKzI"
      },
      "source": [
        "##yhat-ytrue = error"
      ]
    },
    {
      "cell_type": "code",
      "metadata": {
        "id": "bDF4N7mucL-A"
      },
      "source": [
        "#reverse yhat\n",
        "yhat_rev = scaler2.inverse_transform(yhat)"
      ],
      "execution_count": null,
      "outputs": []
    },
    {
      "cell_type": "code",
      "metadata": {
        "colab": {
          "base_uri": "https://localhost:8080/"
        },
        "id": "auXdYcHrcYYI",
        "outputId": "d80cff9f-700e-4639-c3f3-b8977dc160b2"
      },
      "source": [
        "yhat_rev"
      ],
      "execution_count": null,
      "outputs": [
        {
          "output_type": "execute_result",
          "data": {
            "text/plain": [
              "array([[0.5952, 0.6403, 0.8428, ..., 0.5521, 0.7839, 0.8561],\n",
              "       [0.5968, 0.6381, 0.8468, ..., 0.5525, 0.7817, 0.8557],\n",
              "       [0.5971, 0.6376, 0.8474, ..., 0.5523, 0.7803, 0.8556],\n",
              "       ...,\n",
              "       [0.5686, 0.5648, 0.7868, ..., 0.5451, 0.8153, 0.7938],\n",
              "       [0.5687, 0.5649, 0.7868, ..., 0.5452, 0.8155, 0.7939],\n",
              "       [0.5686, 0.5648, 0.7868, ..., 0.5451, 0.8153, 0.7938]],\n",
              "      dtype=float32)"
            ]
          },
          "metadata": {},
          "execution_count": 346
        }
      ]
    },
    {
      "cell_type": "code",
      "metadata": {
        "id": "SMLkPQsKcfZv"
      },
      "source": [
        "error = abs(yhat_rev - y)"
      ],
      "execution_count": null,
      "outputs": []
    },
    {
      "cell_type": "code",
      "metadata": {
        "colab": {
          "base_uri": "https://localhost:8080/",
          "height": 439
        },
        "id": "OK_Ju3KfcmXU",
        "outputId": "4647acf0-dcfd-4545-9c63-fff074c012a5"
      },
      "source": [
        "error"
      ],
      "execution_count": null,
      "outputs": [
        {
          "output_type": "execute_result",
          "data": {
            "text/html": [
              "<div>\n",
              "<style scoped>\n",
              "    .dataframe tbody tr th:only-of-type {\n",
              "        vertical-align: middle;\n",
              "    }\n",
              "\n",
              "    .dataframe tbody tr th {\n",
              "        vertical-align: top;\n",
              "    }\n",
              "\n",
              "    .dataframe thead th {\n",
              "        text-align: right;\n",
              "    }\n",
              "</style>\n",
              "<table border=\"1\" class=\"dataframe\">\n",
              "  <thead>\n",
              "    <tr style=\"text-align: right;\">\n",
              "      <th></th>\n",
              "      <th>1_air</th>\n",
              "      <th>1_smoke</th>\n",
              "      <th>2_air</th>\n",
              "      <th>2_smoke</th>\n",
              "      <th>3_air</th>\n",
              "      <th>3_smoke</th>\n",
              "      <th>4_air</th>\n",
              "      <th>4_smoke</th>\n",
              "      <th>5_air</th>\n",
              "      <th>5_smoke</th>\n",
              "      <th>6_air</th>\n",
              "      <th>6_smoke</th>\n",
              "      <th>7_air</th>\n",
              "      <th>7_smoke</th>\n",
              "      <th>8_air</th>\n",
              "      <th>8_smoke</th>\n",
              "      <th>9_air</th>\n",
              "      <th>9_smoke</th>\n",
              "    </tr>\n",
              "  </thead>\n",
              "  <tbody>\n",
              "    <tr>\n",
              "      <th>0</th>\n",
              "      <td>0.014812</td>\n",
              "      <td>0.010345</td>\n",
              "      <td>0.007156</td>\n",
              "      <td>0.004562</td>\n",
              "      <td>0.012201</td>\n",
              "      <td>0.001237</td>\n",
              "      <td>0.003037</td>\n",
              "      <td>0.003308</td>\n",
              "      <td>0.022816</td>\n",
              "      <td>0.000262</td>\n",
              "      <td>0.004808</td>\n",
              "      <td>0.006805</td>\n",
              "      <td>0.034805</td>\n",
              "      <td>0.040889</td>\n",
              "      <td>0.023836</td>\n",
              "      <td>0.012134</td>\n",
              "      <td>0.046065</td>\n",
              "      <td>0.013880</td>\n",
              "    </tr>\n",
              "    <tr>\n",
              "      <th>1</th>\n",
              "      <td>0.013200</td>\n",
              "      <td>0.008066</td>\n",
              "      <td>0.003201</td>\n",
              "      <td>0.004117</td>\n",
              "      <td>0.010612</td>\n",
              "      <td>0.000937</td>\n",
              "      <td>0.002639</td>\n",
              "      <td>0.002721</td>\n",
              "      <td>0.023199</td>\n",
              "      <td>0.028103</td>\n",
              "      <td>0.025669</td>\n",
              "      <td>0.007246</td>\n",
              "      <td>0.036050</td>\n",
              "      <td>0.041023</td>\n",
              "      <td>0.025511</td>\n",
              "      <td>0.012482</td>\n",
              "      <td>0.048303</td>\n",
              "      <td>0.014324</td>\n",
              "    </tr>\n",
              "    <tr>\n",
              "      <th>2</th>\n",
              "      <td>0.012924</td>\n",
              "      <td>0.007616</td>\n",
              "      <td>0.002605</td>\n",
              "      <td>0.004021</td>\n",
              "      <td>0.010316</td>\n",
              "      <td>0.000835</td>\n",
              "      <td>0.002511</td>\n",
              "      <td>0.002539</td>\n",
              "      <td>0.023181</td>\n",
              "      <td>0.027790</td>\n",
              "      <td>0.026091</td>\n",
              "      <td>0.007197</td>\n",
              "      <td>0.036084</td>\n",
              "      <td>0.040820</td>\n",
              "      <td>0.025403</td>\n",
              "      <td>0.012316</td>\n",
              "      <td>0.049657</td>\n",
              "      <td>0.014426</td>\n",
              "    </tr>\n",
              "    <tr>\n",
              "      <th>3</th>\n",
              "      <td>0.012924</td>\n",
              "      <td>0.007616</td>\n",
              "      <td>0.002605</td>\n",
              "      <td>0.004021</td>\n",
              "      <td>0.010316</td>\n",
              "      <td>0.000835</td>\n",
              "      <td>0.002511</td>\n",
              "      <td>0.002539</td>\n",
              "      <td>0.023181</td>\n",
              "      <td>0.027790</td>\n",
              "      <td>0.026091</td>\n",
              "      <td>0.007197</td>\n",
              "      <td>0.036084</td>\n",
              "      <td>0.040820</td>\n",
              "      <td>0.025403</td>\n",
              "      <td>0.012316</td>\n",
              "      <td>0.049657</td>\n",
              "      <td>0.014426</td>\n",
              "    </tr>\n",
              "    <tr>\n",
              "      <th>4</th>\n",
              "      <td>0.012924</td>\n",
              "      <td>0.007616</td>\n",
              "      <td>0.002605</td>\n",
              "      <td>0.004021</td>\n",
              "      <td>0.019684</td>\n",
              "      <td>0.000835</td>\n",
              "      <td>0.002511</td>\n",
              "      <td>0.007461</td>\n",
              "      <td>0.023181</td>\n",
              "      <td>0.027790</td>\n",
              "      <td>0.026091</td>\n",
              "      <td>0.007197</td>\n",
              "      <td>0.036084</td>\n",
              "      <td>0.040820</td>\n",
              "      <td>0.025403</td>\n",
              "      <td>0.012316</td>\n",
              "      <td>0.049657</td>\n",
              "      <td>0.014426</td>\n",
              "    </tr>\n",
              "    <tr>\n",
              "      <th>...</th>\n",
              "      <td>...</td>\n",
              "      <td>...</td>\n",
              "      <td>...</td>\n",
              "      <td>...</td>\n",
              "      <td>...</td>\n",
              "      <td>...</td>\n",
              "      <td>...</td>\n",
              "      <td>...</td>\n",
              "      <td>...</td>\n",
              "      <td>...</td>\n",
              "      <td>...</td>\n",
              "      <td>...</td>\n",
              "      <td>...</td>\n",
              "      <td>...</td>\n",
              "      <td>...</td>\n",
              "      <td>...</td>\n",
              "      <td>...</td>\n",
              "      <td>...</td>\n",
              "    </tr>\n",
              "    <tr>\n",
              "      <th>658675</th>\n",
              "      <td>0.008627</td>\n",
              "      <td>0.034810</td>\n",
              "      <td>0.006786</td>\n",
              "      <td>0.015254</td>\n",
              "      <td>0.003658</td>\n",
              "      <td>0.009189</td>\n",
              "      <td>0.021854</td>\n",
              "      <td>0.035329</td>\n",
              "      <td>0.007780</td>\n",
              "      <td>0.006888</td>\n",
              "      <td>0.001308</td>\n",
              "      <td>0.017245</td>\n",
              "      <td>0.011404</td>\n",
              "      <td>0.010004</td>\n",
              "      <td>0.027512</td>\n",
              "      <td>0.015146</td>\n",
              "      <td>0.145295</td>\n",
              "      <td>0.013836</td>\n",
              "    </tr>\n",
              "    <tr>\n",
              "      <th>658676</th>\n",
              "      <td>0.008627</td>\n",
              "      <td>0.034810</td>\n",
              "      <td>0.006786</td>\n",
              "      <td>0.015254</td>\n",
              "      <td>0.003658</td>\n",
              "      <td>0.009189</td>\n",
              "      <td>0.021854</td>\n",
              "      <td>0.035329</td>\n",
              "      <td>0.007780</td>\n",
              "      <td>0.006888</td>\n",
              "      <td>0.001308</td>\n",
              "      <td>0.017245</td>\n",
              "      <td>0.011404</td>\n",
              "      <td>0.010004</td>\n",
              "      <td>0.027512</td>\n",
              "      <td>0.015146</td>\n",
              "      <td>0.145295</td>\n",
              "      <td>0.013836</td>\n",
              "    </tr>\n",
              "    <tr>\n",
              "      <th>658677</th>\n",
              "      <td>0.008627</td>\n",
              "      <td>0.034810</td>\n",
              "      <td>0.006786</td>\n",
              "      <td>0.015254</td>\n",
              "      <td>0.003658</td>\n",
              "      <td>0.009189</td>\n",
              "      <td>0.021854</td>\n",
              "      <td>0.035329</td>\n",
              "      <td>0.007780</td>\n",
              "      <td>0.006888</td>\n",
              "      <td>0.001308</td>\n",
              "      <td>0.017245</td>\n",
              "      <td>0.011404</td>\n",
              "      <td>0.010004</td>\n",
              "      <td>0.027512</td>\n",
              "      <td>0.015146</td>\n",
              "      <td>0.145295</td>\n",
              "      <td>0.013836</td>\n",
              "    </tr>\n",
              "    <tr>\n",
              "      <th>658678</th>\n",
              "      <td>0.008663</td>\n",
              "      <td>0.034877</td>\n",
              "      <td>0.006850</td>\n",
              "      <td>0.015262</td>\n",
              "      <td>0.003694</td>\n",
              "      <td>0.009210</td>\n",
              "      <td>0.021890</td>\n",
              "      <td>0.035387</td>\n",
              "      <td>0.007783</td>\n",
              "      <td>0.006888</td>\n",
              "      <td>0.001338</td>\n",
              "      <td>0.017267</td>\n",
              "      <td>0.011426</td>\n",
              "      <td>0.010033</td>\n",
              "      <td>0.027531</td>\n",
              "      <td>0.015167</td>\n",
              "      <td>0.145542</td>\n",
              "      <td>0.013856</td>\n",
              "    </tr>\n",
              "    <tr>\n",
              "      <th>658679</th>\n",
              "      <td>0.008627</td>\n",
              "      <td>0.034810</td>\n",
              "      <td>0.006786</td>\n",
              "      <td>0.015254</td>\n",
              "      <td>0.003658</td>\n",
              "      <td>0.009189</td>\n",
              "      <td>0.021854</td>\n",
              "      <td>0.035329</td>\n",
              "      <td>0.007780</td>\n",
              "      <td>0.006888</td>\n",
              "      <td>0.001308</td>\n",
              "      <td>0.017245</td>\n",
              "      <td>0.011404</td>\n",
              "      <td>0.010004</td>\n",
              "      <td>0.027512</td>\n",
              "      <td>0.015146</td>\n",
              "      <td>0.145295</td>\n",
              "      <td>0.013836</td>\n",
              "    </tr>\n",
              "  </tbody>\n",
              "</table>\n",
              "<p>653659 rows × 18 columns</p>\n",
              "</div>"
            ],
            "text/plain": [
              "           1_air   1_smoke     2_air   2_smoke     3_air   3_smoke     4_air  \\\n",
              "0       0.014812  0.010345  0.007156  0.004562  0.012201  0.001237  0.003037   \n",
              "1       0.013200  0.008066  0.003201  0.004117  0.010612  0.000937  0.002639   \n",
              "2       0.012924  0.007616  0.002605  0.004021  0.010316  0.000835  0.002511   \n",
              "3       0.012924  0.007616  0.002605  0.004021  0.010316  0.000835  0.002511   \n",
              "4       0.012924  0.007616  0.002605  0.004021  0.019684  0.000835  0.002511   \n",
              "...          ...       ...       ...       ...       ...       ...       ...   \n",
              "658675  0.008627  0.034810  0.006786  0.015254  0.003658  0.009189  0.021854   \n",
              "658676  0.008627  0.034810  0.006786  0.015254  0.003658  0.009189  0.021854   \n",
              "658677  0.008627  0.034810  0.006786  0.015254  0.003658  0.009189  0.021854   \n",
              "658678  0.008663  0.034877  0.006850  0.015262  0.003694  0.009210  0.021890   \n",
              "658679  0.008627  0.034810  0.006786  0.015254  0.003658  0.009189  0.021854   \n",
              "\n",
              "         4_smoke     5_air   5_smoke     6_air   6_smoke     7_air   7_smoke  \\\n",
              "0       0.003308  0.022816  0.000262  0.004808  0.006805  0.034805  0.040889   \n",
              "1       0.002721  0.023199  0.028103  0.025669  0.007246  0.036050  0.041023   \n",
              "2       0.002539  0.023181  0.027790  0.026091  0.007197  0.036084  0.040820   \n",
              "3       0.002539  0.023181  0.027790  0.026091  0.007197  0.036084  0.040820   \n",
              "4       0.007461  0.023181  0.027790  0.026091  0.007197  0.036084  0.040820   \n",
              "...          ...       ...       ...       ...       ...       ...       ...   \n",
              "658675  0.035329  0.007780  0.006888  0.001308  0.017245  0.011404  0.010004   \n",
              "658676  0.035329  0.007780  0.006888  0.001308  0.017245  0.011404  0.010004   \n",
              "658677  0.035329  0.007780  0.006888  0.001308  0.017245  0.011404  0.010004   \n",
              "658678  0.035387  0.007783  0.006888  0.001338  0.017267  0.011426  0.010033   \n",
              "658679  0.035329  0.007780  0.006888  0.001308  0.017245  0.011404  0.010004   \n",
              "\n",
              "           8_air   8_smoke     9_air   9_smoke  \n",
              "0       0.023836  0.012134  0.046065  0.013880  \n",
              "1       0.025511  0.012482  0.048303  0.014324  \n",
              "2       0.025403  0.012316  0.049657  0.014426  \n",
              "3       0.025403  0.012316  0.049657  0.014426  \n",
              "4       0.025403  0.012316  0.049657  0.014426  \n",
              "...          ...       ...       ...       ...  \n",
              "658675  0.027512  0.015146  0.145295  0.013836  \n",
              "658676  0.027512  0.015146  0.145295  0.013836  \n",
              "658677  0.027512  0.015146  0.145295  0.013836  \n",
              "658678  0.027531  0.015167  0.145542  0.013856  \n",
              "658679  0.027512  0.015146  0.145295  0.013836  \n",
              "\n",
              "[653659 rows x 18 columns]"
            ]
          },
          "metadata": {},
          "execution_count": 348
        }
      ]
    },
    {
      "cell_type": "code",
      "metadata": {
        "id": "Ant3oBYzctVq"
      },
      "source": [
        "des = error.describe()"
      ],
      "execution_count": null,
      "outputs": []
    },
    {
      "cell_type": "code",
      "metadata": {
        "colab": {
          "base_uri": "https://localhost:8080/",
          "height": 317
        },
        "id": "HmiP2rwmdJ9D",
        "outputId": "9b71b976-dd9f-4e0d-fdc8-8df8f667bc9d"
      },
      "source": [
        "des"
      ],
      "execution_count": null,
      "outputs": [
        {
          "output_type": "execute_result",
          "data": {
            "text/html": [
              "<div>\n",
              "<style scoped>\n",
              "    .dataframe tbody tr th:only-of-type {\n",
              "        vertical-align: middle;\n",
              "    }\n",
              "\n",
              "    .dataframe tbody tr th {\n",
              "        vertical-align: top;\n",
              "    }\n",
              "\n",
              "    .dataframe thead th {\n",
              "        text-align: right;\n",
              "    }\n",
              "</style>\n",
              "<table border=\"1\" class=\"dataframe\">\n",
              "  <thead>\n",
              "    <tr style=\"text-align: right;\">\n",
              "      <th></th>\n",
              "      <th>1_air</th>\n",
              "      <th>1_smoke</th>\n",
              "      <th>2_air</th>\n",
              "      <th>2_smoke</th>\n",
              "      <th>3_air</th>\n",
              "      <th>3_smoke</th>\n",
              "      <th>4_air</th>\n",
              "      <th>4_smoke</th>\n",
              "      <th>5_air</th>\n",
              "      <th>5_smoke</th>\n",
              "      <th>6_air</th>\n",
              "      <th>6_smoke</th>\n",
              "      <th>7_air</th>\n",
              "      <th>7_smoke</th>\n",
              "      <th>8_air</th>\n",
              "      <th>8_smoke</th>\n",
              "      <th>9_air</th>\n",
              "      <th>9_smoke</th>\n",
              "    </tr>\n",
              "  </thead>\n",
              "  <tbody>\n",
              "    <tr>\n",
              "      <th>count</th>\n",
              "      <td>6.536590e+05</td>\n",
              "      <td>6.536590e+05</td>\n",
              "      <td>6.536590e+05</td>\n",
              "      <td>6.536590e+05</td>\n",
              "      <td>6.536590e+05</td>\n",
              "      <td>6.536590e+05</td>\n",
              "      <td>6.536590e+05</td>\n",
              "      <td>6.536590e+05</td>\n",
              "      <td>6.536590e+05</td>\n",
              "      <td>6.536590e+05</td>\n",
              "      <td>6.536590e+05</td>\n",
              "      <td>6.536590e+05</td>\n",
              "      <td>6.536590e+05</td>\n",
              "      <td>6.536590e+05</td>\n",
              "      <td>6.536590e+05</td>\n",
              "      <td>6.536590e+05</td>\n",
              "      <td>6.536590e+05</td>\n",
              "      <td>6.536590e+05</td>\n",
              "    </tr>\n",
              "    <tr>\n",
              "      <th>mean</th>\n",
              "      <td>2.061269e-02</td>\n",
              "      <td>3.343111e-02</td>\n",
              "      <td>2.255191e-02</td>\n",
              "      <td>1.453580e-02</td>\n",
              "      <td>2.181548e-02</td>\n",
              "      <td>1.618632e-02</td>\n",
              "      <td>1.640679e-02</td>\n",
              "      <td>1.856035e-02</td>\n",
              "      <td>2.069758e-02</td>\n",
              "      <td>2.286811e-02</td>\n",
              "      <td>1.685315e-02</td>\n",
              "      <td>1.848087e-02</td>\n",
              "      <td>2.308356e-02</td>\n",
              "      <td>2.416883e-02</td>\n",
              "      <td>2.641744e-02</td>\n",
              "      <td>2.000082e-02</td>\n",
              "      <td>8.936073e-02</td>\n",
              "      <td>3.595280e-02</td>\n",
              "    </tr>\n",
              "    <tr>\n",
              "      <th>std</th>\n",
              "      <td>4.500298e-02</td>\n",
              "      <td>4.927206e-02</td>\n",
              "      <td>5.647353e-02</td>\n",
              "      <td>4.990837e-02</td>\n",
              "      <td>5.115173e-02</td>\n",
              "      <td>4.699535e-02</td>\n",
              "      <td>5.018977e-02</td>\n",
              "      <td>5.595545e-02</td>\n",
              "      <td>4.473596e-02</td>\n",
              "      <td>6.023157e-02</td>\n",
              "      <td>3.973260e-02</td>\n",
              "      <td>5.572496e-02</td>\n",
              "      <td>5.818694e-02</td>\n",
              "      <td>6.623559e-02</td>\n",
              "      <td>5.397697e-02</td>\n",
              "      <td>4.102939e-02</td>\n",
              "      <td>9.455908e-01</td>\n",
              "      <td>6.280543e-02</td>\n",
              "    </tr>\n",
              "    <tr>\n",
              "      <th>min</th>\n",
              "      <td>5.245209e-08</td>\n",
              "      <td>1.454353e-07</td>\n",
              "      <td>6.675720e-08</td>\n",
              "      <td>8.106232e-08</td>\n",
              "      <td>3.814697e-08</td>\n",
              "      <td>1.430511e-08</td>\n",
              "      <td>7.152557e-09</td>\n",
              "      <td>2.145767e-08</td>\n",
              "      <td>5.102158e-07</td>\n",
              "      <td>1.072884e-07</td>\n",
              "      <td>3.337860e-08</td>\n",
              "      <td>6.914139e-08</td>\n",
              "      <td>2.861023e-08</td>\n",
              "      <td>2.384186e-08</td>\n",
              "      <td>7.152557e-08</td>\n",
              "      <td>7.152557e-08</td>\n",
              "      <td>4.506111e-07</td>\n",
              "      <td>7.390976e-08</td>\n",
              "    </tr>\n",
              "    <tr>\n",
              "      <th>25%</th>\n",
              "      <td>8.583479e-03</td>\n",
              "      <td>1.431383e-02</td>\n",
              "      <td>7.020090e-03</td>\n",
              "      <td>5.181980e-03</td>\n",
              "      <td>6.981821e-03</td>\n",
              "      <td>7.730966e-03</td>\n",
              "      <td>6.232934e-03</td>\n",
              "      <td>7.210534e-03</td>\n",
              "      <td>7.777331e-03</td>\n",
              "      <td>6.887696e-03</td>\n",
              "      <td>1.694245e-03</td>\n",
              "      <td>5.838881e-03</td>\n",
              "      <td>9.816457e-03</td>\n",
              "      <td>8.437724e-03</td>\n",
              "      <td>1.039253e-02</td>\n",
              "      <td>7.370076e-03</td>\n",
              "      <td>2.744384e-02</td>\n",
              "      <td>1.095012e-02</td>\n",
              "    </tr>\n",
              "    <tr>\n",
              "      <th>50%</th>\n",
              "      <td>1.603131e-02</td>\n",
              "      <td>2.573562e-02</td>\n",
              "      <td>1.298425e-02</td>\n",
              "      <td>1.094750e-02</td>\n",
              "      <td>1.552391e-02</td>\n",
              "      <td>1.039776e-02</td>\n",
              "      <td>1.176985e-02</td>\n",
              "      <td>1.103678e-02</td>\n",
              "      <td>1.484725e-02</td>\n",
              "      <td>1.635908e-02</td>\n",
              "      <td>7.173979e-03</td>\n",
              "      <td>1.430186e-02</td>\n",
              "      <td>1.459052e-02</td>\n",
              "      <td>1.431539e-02</td>\n",
              "      <td>1.834202e-02</td>\n",
              "      <td>1.402614e-02</td>\n",
              "      <td>5.268248e-02</td>\n",
              "      <td>1.795105e-02</td>\n",
              "    </tr>\n",
              "    <tr>\n",
              "      <th>75%</th>\n",
              "      <td>2.312822e-02</td>\n",
              "      <td>3.907668e-02</td>\n",
              "      <td>2.673256e-02</td>\n",
              "      <td>1.527007e-02</td>\n",
              "      <td>2.494225e-02</td>\n",
              "      <td>1.728704e-02</td>\n",
              "      <td>1.762236e-02</td>\n",
              "      <td>2.031724e-02</td>\n",
              "      <td>2.313601e-02</td>\n",
              "      <td>2.492049e-02</td>\n",
              "      <td>1.918981e-02</td>\n",
              "      <td>1.888091e-02</td>\n",
              "      <td>2.422837e-02</td>\n",
              "      <td>2.990268e-02</td>\n",
              "      <td>2.991092e-02</td>\n",
              "      <td>2.335718e-02</td>\n",
              "      <td>1.444499e-01</td>\n",
              "      <td>4.233897e-02</td>\n",
              "    </tr>\n",
              "    <tr>\n",
              "      <th>max</th>\n",
              "      <td>5.939687e-01</td>\n",
              "      <td>6.185123e-01</td>\n",
              "      <td>8.321918e-01</td>\n",
              "      <td>7.060547e-01</td>\n",
              "      <td>6.984135e-01</td>\n",
              "      <td>6.412032e-01</td>\n",
              "      <td>6.809931e-01</td>\n",
              "      <td>7.784340e-01</td>\n",
              "      <td>5.728819e-01</td>\n",
              "      <td>8.172543e-01</td>\n",
              "      <td>6.578388e-01</td>\n",
              "      <td>7.453386e-01</td>\n",
              "      <td>7.657716e-01</td>\n",
              "      <td>8.900973e-01</td>\n",
              "      <td>7.074906e-01</td>\n",
              "      <td>5.558845e-01</td>\n",
              "      <td>1.132364e+02</td>\n",
              "      <td>7.924718e-01</td>\n",
              "    </tr>\n",
              "  </tbody>\n",
              "</table>\n",
              "</div>"
            ],
            "text/plain": [
              "              1_air       1_smoke         2_air       2_smoke         3_air  \\\n",
              "count  6.536590e+05  6.536590e+05  6.536590e+05  6.536590e+05  6.536590e+05   \n",
              "mean   2.061269e-02  3.343111e-02  2.255191e-02  1.453580e-02  2.181548e-02   \n",
              "std    4.500298e-02  4.927206e-02  5.647353e-02  4.990837e-02  5.115173e-02   \n",
              "min    5.245209e-08  1.454353e-07  6.675720e-08  8.106232e-08  3.814697e-08   \n",
              "25%    8.583479e-03  1.431383e-02  7.020090e-03  5.181980e-03  6.981821e-03   \n",
              "50%    1.603131e-02  2.573562e-02  1.298425e-02  1.094750e-02  1.552391e-02   \n",
              "75%    2.312822e-02  3.907668e-02  2.673256e-02  1.527007e-02  2.494225e-02   \n",
              "max    5.939687e-01  6.185123e-01  8.321918e-01  7.060547e-01  6.984135e-01   \n",
              "\n",
              "            3_smoke         4_air       4_smoke         5_air       5_smoke  \\\n",
              "count  6.536590e+05  6.536590e+05  6.536590e+05  6.536590e+05  6.536590e+05   \n",
              "mean   1.618632e-02  1.640679e-02  1.856035e-02  2.069758e-02  2.286811e-02   \n",
              "std    4.699535e-02  5.018977e-02  5.595545e-02  4.473596e-02  6.023157e-02   \n",
              "min    1.430511e-08  7.152557e-09  2.145767e-08  5.102158e-07  1.072884e-07   \n",
              "25%    7.730966e-03  6.232934e-03  7.210534e-03  7.777331e-03  6.887696e-03   \n",
              "50%    1.039776e-02  1.176985e-02  1.103678e-02  1.484725e-02  1.635908e-02   \n",
              "75%    1.728704e-02  1.762236e-02  2.031724e-02  2.313601e-02  2.492049e-02   \n",
              "max    6.412032e-01  6.809931e-01  7.784340e-01  5.728819e-01  8.172543e-01   \n",
              "\n",
              "              6_air       6_smoke         7_air       7_smoke         8_air  \\\n",
              "count  6.536590e+05  6.536590e+05  6.536590e+05  6.536590e+05  6.536590e+05   \n",
              "mean   1.685315e-02  1.848087e-02  2.308356e-02  2.416883e-02  2.641744e-02   \n",
              "std    3.973260e-02  5.572496e-02  5.818694e-02  6.623559e-02  5.397697e-02   \n",
              "min    3.337860e-08  6.914139e-08  2.861023e-08  2.384186e-08  7.152557e-08   \n",
              "25%    1.694245e-03  5.838881e-03  9.816457e-03  8.437724e-03  1.039253e-02   \n",
              "50%    7.173979e-03  1.430186e-02  1.459052e-02  1.431539e-02  1.834202e-02   \n",
              "75%    1.918981e-02  1.888091e-02  2.422837e-02  2.990268e-02  2.991092e-02   \n",
              "max    6.578388e-01  7.453386e-01  7.657716e-01  8.900973e-01  7.074906e-01   \n",
              "\n",
              "            8_smoke         9_air       9_smoke  \n",
              "count  6.536590e+05  6.536590e+05  6.536590e+05  \n",
              "mean   2.000082e-02  8.936073e-02  3.595280e-02  \n",
              "std    4.102939e-02  9.455908e-01  6.280543e-02  \n",
              "min    7.152557e-08  4.506111e-07  7.390976e-08  \n",
              "25%    7.370076e-03  2.744384e-02  1.095012e-02  \n",
              "50%    1.402614e-02  5.268248e-02  1.795105e-02  \n",
              "75%    2.335718e-02  1.444499e-01  4.233897e-02  \n",
              "max    5.558845e-01  1.132364e+02  7.924718e-01  "
            ]
          },
          "metadata": {},
          "execution_count": 350
        }
      ]
    },
    {
      "cell_type": "code",
      "metadata": {
        "id": "WwI94jlqtjDi"
      },
      "source": [
        "error1 = error.copy()"
      ],
      "execution_count": null,
      "outputs": []
    },
    {
      "cell_type": "code",
      "metadata": {
        "id": "7r8nDqK3c7Du"
      },
      "source": [
        "error1 = error1.reset_index()"
      ],
      "execution_count": null,
      "outputs": []
    },
    {
      "cell_type": "code",
      "metadata": {
        "id": "PCnDf35m9edg"
      },
      "source": [
        "error1 = error1.drop('index', axis=1)"
      ],
      "execution_count": null,
      "outputs": []
    },
    {
      "cell_type": "markdown",
      "metadata": {
        "id": "eG6-Mq09ME5v"
      },
      "source": [
        "##remove outlier"
      ]
    },
    {
      "cell_type": "code",
      "metadata": {
        "id": "ZtM0D5RO8SJa"
      },
      "source": [
        "l1 = []"
      ],
      "execution_count": null,
      "outputs": []
    },
    {
      "cell_type": "code",
      "metadata": {
        "colab": {
          "base_uri": "https://localhost:8080/"
        },
        "id": "AVQy24BQwctd",
        "outputId": "637f26ac-9084-461a-eafa-7b163f5e7cdb"
      },
      "source": [
        "for i in error1.columns:\n",
        "  down = des[i][1] - (des[i][2] * 3)\n",
        "  up = des[i][1] + (des[i][2] * 3)\n",
        "\n",
        "  f1 = (error1[i] > up)\n",
        "  f2 = (error1[i] < down)\n",
        "\n",
        "  error1.drop(error1[f1|f2].index, inplace=True)\n",
        "  for j in list(error1[f1|f2].index.values):\n",
        "    l1.append(j)\n",
        "    \n",
        "  print(i, 'is done!')"
      ],
      "execution_count": null,
      "outputs": [
        {
          "output_type": "stream",
          "text": [
            "/usr/local/lib/python3.7/dist-packages/ipykernel_launcher.py:9: UserWarning: Boolean Series key will be reindexed to match DataFrame index.\n",
            "  if __name__ == '__main__':\n",
            "/usr/local/lib/python3.7/dist-packages/ipykernel_launcher.py:9: UserWarning: Boolean Series key will be reindexed to match DataFrame index.\n",
            "  if __name__ == '__main__':\n",
            "/usr/local/lib/python3.7/dist-packages/ipykernel_launcher.py:9: UserWarning: Boolean Series key will be reindexed to match DataFrame index.\n",
            "  if __name__ == '__main__':\n"
          ],
          "name": "stderr"
        },
        {
          "output_type": "stream",
          "text": [
            "1_air is done!\n",
            "1_smoke is done!\n",
            "2_air is done!\n",
            "2_smoke is done!\n"
          ],
          "name": "stdout"
        },
        {
          "output_type": "stream",
          "text": [
            "/usr/local/lib/python3.7/dist-packages/ipykernel_launcher.py:9: UserWarning: Boolean Series key will be reindexed to match DataFrame index.\n",
            "  if __name__ == '__main__':\n",
            "/usr/local/lib/python3.7/dist-packages/ipykernel_launcher.py:9: UserWarning: Boolean Series key will be reindexed to match DataFrame index.\n",
            "  if __name__ == '__main__':\n",
            "/usr/local/lib/python3.7/dist-packages/ipykernel_launcher.py:9: UserWarning: Boolean Series key will be reindexed to match DataFrame index.\n",
            "  if __name__ == '__main__':\n"
          ],
          "name": "stderr"
        },
        {
          "output_type": "stream",
          "text": [
            "3_air is done!\n",
            "3_smoke is done!\n",
            "4_air is done!\n"
          ],
          "name": "stdout"
        },
        {
          "output_type": "stream",
          "text": [
            "/usr/local/lib/python3.7/dist-packages/ipykernel_launcher.py:9: UserWarning: Boolean Series key will be reindexed to match DataFrame index.\n",
            "  if __name__ == '__main__':\n",
            "/usr/local/lib/python3.7/dist-packages/ipykernel_launcher.py:9: UserWarning: Boolean Series key will be reindexed to match DataFrame index.\n",
            "  if __name__ == '__main__':\n",
            "/usr/local/lib/python3.7/dist-packages/ipykernel_launcher.py:9: UserWarning: Boolean Series key will be reindexed to match DataFrame index.\n",
            "  if __name__ == '__main__':\n"
          ],
          "name": "stderr"
        },
        {
          "output_type": "stream",
          "text": [
            "4_smoke is done!\n",
            "5_air is done!\n",
            "5_smoke is done!\n",
            "6_air is done!\n",
            "6_smoke is done!\n"
          ],
          "name": "stdout"
        },
        {
          "output_type": "stream",
          "text": [
            "/usr/local/lib/python3.7/dist-packages/ipykernel_launcher.py:9: UserWarning: Boolean Series key will be reindexed to match DataFrame index.\n",
            "  if __name__ == '__main__':\n",
            "/usr/local/lib/python3.7/dist-packages/ipykernel_launcher.py:9: UserWarning: Boolean Series key will be reindexed to match DataFrame index.\n",
            "  if __name__ == '__main__':\n",
            "/usr/local/lib/python3.7/dist-packages/ipykernel_launcher.py:9: UserWarning: Boolean Series key will be reindexed to match DataFrame index.\n",
            "  if __name__ == '__main__':\n"
          ],
          "name": "stderr"
        },
        {
          "output_type": "stream",
          "text": [
            "7_air is done!\n",
            "7_smoke is done!\n",
            "8_air is done!\n",
            "8_smoke is done!\n",
            "9_air is done!\n",
            "9_smoke is done!\n"
          ],
          "name": "stdout"
        },
        {
          "output_type": "stream",
          "text": [
            "/usr/local/lib/python3.7/dist-packages/ipykernel_launcher.py:9: UserWarning: Boolean Series key will be reindexed to match DataFrame index.\n",
            "  if __name__ == '__main__':\n",
            "/usr/local/lib/python3.7/dist-packages/ipykernel_launcher.py:9: UserWarning: Boolean Series key will be reindexed to match DataFrame index.\n",
            "  if __name__ == '__main__':\n"
          ],
          "name": "stderr"
        }
      ]
    },
    {
      "cell_type": "code",
      "metadata": {
        "colab": {
          "base_uri": "https://localhost:8080/",
          "height": 439
        },
        "id": "HAc7R70ew1qJ",
        "outputId": "9ccb1c54-2304-4045-8a2f-30ff9db813e9"
      },
      "source": [
        "error1"
      ],
      "execution_count": null,
      "outputs": [
        {
          "output_type": "execute_result",
          "data": {
            "text/html": [
              "<div>\n",
              "<style scoped>\n",
              "    .dataframe tbody tr th:only-of-type {\n",
              "        vertical-align: middle;\n",
              "    }\n",
              "\n",
              "    .dataframe tbody tr th {\n",
              "        vertical-align: top;\n",
              "    }\n",
              "\n",
              "    .dataframe thead th {\n",
              "        text-align: right;\n",
              "    }\n",
              "</style>\n",
              "<table border=\"1\" class=\"dataframe\">\n",
              "  <thead>\n",
              "    <tr style=\"text-align: right;\">\n",
              "      <th></th>\n",
              "      <th>1_air</th>\n",
              "      <th>1_smoke</th>\n",
              "      <th>2_air</th>\n",
              "      <th>2_smoke</th>\n",
              "      <th>3_air</th>\n",
              "      <th>3_smoke</th>\n",
              "      <th>4_air</th>\n",
              "      <th>4_smoke</th>\n",
              "      <th>5_air</th>\n",
              "      <th>5_smoke</th>\n",
              "      <th>6_air</th>\n",
              "      <th>6_smoke</th>\n",
              "      <th>7_air</th>\n",
              "      <th>7_smoke</th>\n",
              "      <th>8_air</th>\n",
              "      <th>8_smoke</th>\n",
              "      <th>9_air</th>\n",
              "      <th>9_smoke</th>\n",
              "    </tr>\n",
              "  </thead>\n",
              "  <tbody>\n",
              "    <tr>\n",
              "      <th>0</th>\n",
              "      <td>0.014812</td>\n",
              "      <td>0.010345</td>\n",
              "      <td>0.007156</td>\n",
              "      <td>0.004562</td>\n",
              "      <td>0.012201</td>\n",
              "      <td>0.001237</td>\n",
              "      <td>0.003037</td>\n",
              "      <td>0.003308</td>\n",
              "      <td>0.022816</td>\n",
              "      <td>0.000262</td>\n",
              "      <td>0.004808</td>\n",
              "      <td>0.006805</td>\n",
              "      <td>0.034805</td>\n",
              "      <td>0.040889</td>\n",
              "      <td>0.023836</td>\n",
              "      <td>0.012134</td>\n",
              "      <td>0.046065</td>\n",
              "      <td>0.013880</td>\n",
              "    </tr>\n",
              "    <tr>\n",
              "      <th>1</th>\n",
              "      <td>0.013200</td>\n",
              "      <td>0.008066</td>\n",
              "      <td>0.003201</td>\n",
              "      <td>0.004117</td>\n",
              "      <td>0.010612</td>\n",
              "      <td>0.000937</td>\n",
              "      <td>0.002639</td>\n",
              "      <td>0.002721</td>\n",
              "      <td>0.023199</td>\n",
              "      <td>0.028103</td>\n",
              "      <td>0.025669</td>\n",
              "      <td>0.007246</td>\n",
              "      <td>0.036050</td>\n",
              "      <td>0.041023</td>\n",
              "      <td>0.025511</td>\n",
              "      <td>0.012482</td>\n",
              "      <td>0.048303</td>\n",
              "      <td>0.014324</td>\n",
              "    </tr>\n",
              "    <tr>\n",
              "      <th>2</th>\n",
              "      <td>0.012924</td>\n",
              "      <td>0.007616</td>\n",
              "      <td>0.002605</td>\n",
              "      <td>0.004021</td>\n",
              "      <td>0.010316</td>\n",
              "      <td>0.000835</td>\n",
              "      <td>0.002511</td>\n",
              "      <td>0.002539</td>\n",
              "      <td>0.023181</td>\n",
              "      <td>0.027790</td>\n",
              "      <td>0.026091</td>\n",
              "      <td>0.007197</td>\n",
              "      <td>0.036084</td>\n",
              "      <td>0.040820</td>\n",
              "      <td>0.025403</td>\n",
              "      <td>0.012316</td>\n",
              "      <td>0.049657</td>\n",
              "      <td>0.014426</td>\n",
              "    </tr>\n",
              "    <tr>\n",
              "      <th>3</th>\n",
              "      <td>0.012924</td>\n",
              "      <td>0.007616</td>\n",
              "      <td>0.002605</td>\n",
              "      <td>0.004021</td>\n",
              "      <td>0.010316</td>\n",
              "      <td>0.000835</td>\n",
              "      <td>0.002511</td>\n",
              "      <td>0.002539</td>\n",
              "      <td>0.023181</td>\n",
              "      <td>0.027790</td>\n",
              "      <td>0.026091</td>\n",
              "      <td>0.007197</td>\n",
              "      <td>0.036084</td>\n",
              "      <td>0.040820</td>\n",
              "      <td>0.025403</td>\n",
              "      <td>0.012316</td>\n",
              "      <td>0.049657</td>\n",
              "      <td>0.014426</td>\n",
              "    </tr>\n",
              "    <tr>\n",
              "      <th>4</th>\n",
              "      <td>0.012924</td>\n",
              "      <td>0.007616</td>\n",
              "      <td>0.002605</td>\n",
              "      <td>0.004021</td>\n",
              "      <td>0.019684</td>\n",
              "      <td>0.000835</td>\n",
              "      <td>0.002511</td>\n",
              "      <td>0.007461</td>\n",
              "      <td>0.023181</td>\n",
              "      <td>0.027790</td>\n",
              "      <td>0.026091</td>\n",
              "      <td>0.007197</td>\n",
              "      <td>0.036084</td>\n",
              "      <td>0.040820</td>\n",
              "      <td>0.025403</td>\n",
              "      <td>0.012316</td>\n",
              "      <td>0.049657</td>\n",
              "      <td>0.014426</td>\n",
              "    </tr>\n",
              "    <tr>\n",
              "      <th>...</th>\n",
              "      <td>...</td>\n",
              "      <td>...</td>\n",
              "      <td>...</td>\n",
              "      <td>...</td>\n",
              "      <td>...</td>\n",
              "      <td>...</td>\n",
              "      <td>...</td>\n",
              "      <td>...</td>\n",
              "      <td>...</td>\n",
              "      <td>...</td>\n",
              "      <td>...</td>\n",
              "      <td>...</td>\n",
              "      <td>...</td>\n",
              "      <td>...</td>\n",
              "      <td>...</td>\n",
              "      <td>...</td>\n",
              "      <td>...</td>\n",
              "      <td>...</td>\n",
              "    </tr>\n",
              "    <tr>\n",
              "      <th>653654</th>\n",
              "      <td>0.008627</td>\n",
              "      <td>0.034810</td>\n",
              "      <td>0.006786</td>\n",
              "      <td>0.015254</td>\n",
              "      <td>0.003658</td>\n",
              "      <td>0.009189</td>\n",
              "      <td>0.021854</td>\n",
              "      <td>0.035329</td>\n",
              "      <td>0.007780</td>\n",
              "      <td>0.006888</td>\n",
              "      <td>0.001308</td>\n",
              "      <td>0.017245</td>\n",
              "      <td>0.011404</td>\n",
              "      <td>0.010004</td>\n",
              "      <td>0.027512</td>\n",
              "      <td>0.015146</td>\n",
              "      <td>0.145295</td>\n",
              "      <td>0.013836</td>\n",
              "    </tr>\n",
              "    <tr>\n",
              "      <th>653655</th>\n",
              "      <td>0.008627</td>\n",
              "      <td>0.034810</td>\n",
              "      <td>0.006786</td>\n",
              "      <td>0.015254</td>\n",
              "      <td>0.003658</td>\n",
              "      <td>0.009189</td>\n",
              "      <td>0.021854</td>\n",
              "      <td>0.035329</td>\n",
              "      <td>0.007780</td>\n",
              "      <td>0.006888</td>\n",
              "      <td>0.001308</td>\n",
              "      <td>0.017245</td>\n",
              "      <td>0.011404</td>\n",
              "      <td>0.010004</td>\n",
              "      <td>0.027512</td>\n",
              "      <td>0.015146</td>\n",
              "      <td>0.145295</td>\n",
              "      <td>0.013836</td>\n",
              "    </tr>\n",
              "    <tr>\n",
              "      <th>653656</th>\n",
              "      <td>0.008627</td>\n",
              "      <td>0.034810</td>\n",
              "      <td>0.006786</td>\n",
              "      <td>0.015254</td>\n",
              "      <td>0.003658</td>\n",
              "      <td>0.009189</td>\n",
              "      <td>0.021854</td>\n",
              "      <td>0.035329</td>\n",
              "      <td>0.007780</td>\n",
              "      <td>0.006888</td>\n",
              "      <td>0.001308</td>\n",
              "      <td>0.017245</td>\n",
              "      <td>0.011404</td>\n",
              "      <td>0.010004</td>\n",
              "      <td>0.027512</td>\n",
              "      <td>0.015146</td>\n",
              "      <td>0.145295</td>\n",
              "      <td>0.013836</td>\n",
              "    </tr>\n",
              "    <tr>\n",
              "      <th>653657</th>\n",
              "      <td>0.008663</td>\n",
              "      <td>0.034877</td>\n",
              "      <td>0.006850</td>\n",
              "      <td>0.015262</td>\n",
              "      <td>0.003694</td>\n",
              "      <td>0.009210</td>\n",
              "      <td>0.021890</td>\n",
              "      <td>0.035387</td>\n",
              "      <td>0.007783</td>\n",
              "      <td>0.006888</td>\n",
              "      <td>0.001338</td>\n",
              "      <td>0.017267</td>\n",
              "      <td>0.011426</td>\n",
              "      <td>0.010033</td>\n",
              "      <td>0.027531</td>\n",
              "      <td>0.015167</td>\n",
              "      <td>0.145542</td>\n",
              "      <td>0.013856</td>\n",
              "    </tr>\n",
              "    <tr>\n",
              "      <th>653658</th>\n",
              "      <td>0.008627</td>\n",
              "      <td>0.034810</td>\n",
              "      <td>0.006786</td>\n",
              "      <td>0.015254</td>\n",
              "      <td>0.003658</td>\n",
              "      <td>0.009189</td>\n",
              "      <td>0.021854</td>\n",
              "      <td>0.035329</td>\n",
              "      <td>0.007780</td>\n",
              "      <td>0.006888</td>\n",
              "      <td>0.001308</td>\n",
              "      <td>0.017245</td>\n",
              "      <td>0.011404</td>\n",
              "      <td>0.010004</td>\n",
              "      <td>0.027512</td>\n",
              "      <td>0.015146</td>\n",
              "      <td>0.145295</td>\n",
              "      <td>0.013836</td>\n",
              "    </tr>\n",
              "  </tbody>\n",
              "</table>\n",
              "<p>645961 rows × 18 columns</p>\n",
              "</div>"
            ],
            "text/plain": [
              "           1_air   1_smoke     2_air   2_smoke     3_air   3_smoke     4_air  \\\n",
              "0       0.014812  0.010345  0.007156  0.004562  0.012201  0.001237  0.003037   \n",
              "1       0.013200  0.008066  0.003201  0.004117  0.010612  0.000937  0.002639   \n",
              "2       0.012924  0.007616  0.002605  0.004021  0.010316  0.000835  0.002511   \n",
              "3       0.012924  0.007616  0.002605  0.004021  0.010316  0.000835  0.002511   \n",
              "4       0.012924  0.007616  0.002605  0.004021  0.019684  0.000835  0.002511   \n",
              "...          ...       ...       ...       ...       ...       ...       ...   \n",
              "653654  0.008627  0.034810  0.006786  0.015254  0.003658  0.009189  0.021854   \n",
              "653655  0.008627  0.034810  0.006786  0.015254  0.003658  0.009189  0.021854   \n",
              "653656  0.008627  0.034810  0.006786  0.015254  0.003658  0.009189  0.021854   \n",
              "653657  0.008663  0.034877  0.006850  0.015262  0.003694  0.009210  0.021890   \n",
              "653658  0.008627  0.034810  0.006786  0.015254  0.003658  0.009189  0.021854   \n",
              "\n",
              "         4_smoke     5_air   5_smoke     6_air   6_smoke     7_air   7_smoke  \\\n",
              "0       0.003308  0.022816  0.000262  0.004808  0.006805  0.034805  0.040889   \n",
              "1       0.002721  0.023199  0.028103  0.025669  0.007246  0.036050  0.041023   \n",
              "2       0.002539  0.023181  0.027790  0.026091  0.007197  0.036084  0.040820   \n",
              "3       0.002539  0.023181  0.027790  0.026091  0.007197  0.036084  0.040820   \n",
              "4       0.007461  0.023181  0.027790  0.026091  0.007197  0.036084  0.040820   \n",
              "...          ...       ...       ...       ...       ...       ...       ...   \n",
              "653654  0.035329  0.007780  0.006888  0.001308  0.017245  0.011404  0.010004   \n",
              "653655  0.035329  0.007780  0.006888  0.001308  0.017245  0.011404  0.010004   \n",
              "653656  0.035329  0.007780  0.006888  0.001308  0.017245  0.011404  0.010004   \n",
              "653657  0.035387  0.007783  0.006888  0.001338  0.017267  0.011426  0.010033   \n",
              "653658  0.035329  0.007780  0.006888  0.001308  0.017245  0.011404  0.010004   \n",
              "\n",
              "           8_air   8_smoke     9_air   9_smoke  \n",
              "0       0.023836  0.012134  0.046065  0.013880  \n",
              "1       0.025511  0.012482  0.048303  0.014324  \n",
              "2       0.025403  0.012316  0.049657  0.014426  \n",
              "3       0.025403  0.012316  0.049657  0.014426  \n",
              "4       0.025403  0.012316  0.049657  0.014426  \n",
              "...          ...       ...       ...       ...  \n",
              "653654  0.027512  0.015146  0.145295  0.013836  \n",
              "653655  0.027512  0.015146  0.145295  0.013836  \n",
              "653656  0.027512  0.015146  0.145295  0.013836  \n",
              "653657  0.027531  0.015167  0.145542  0.013856  \n",
              "653658  0.027512  0.015146  0.145295  0.013836  \n",
              "\n",
              "[645961 rows x 18 columns]"
            ]
          },
          "metadata": {},
          "execution_count": 356
        }
      ]
    },
    {
      "cell_type": "code",
      "metadata": {
        "id": "FYvJQIguxYRF"
      },
      "source": [
        "error1.to_csv('/content/drive/MyDrive/金屬中心/能專/資料/0825/error_0825.csv')"
      ],
      "execution_count": null,
      "outputs": []
    },
    {
      "cell_type": "markdown",
      "metadata": {
        "id": "_E4L9A2AMJoy"
      },
      "source": [
        "##plot error curve"
      ]
    },
    {
      "cell_type": "code",
      "metadata": {
        "id": "JiCmWsvxw4sY"
      },
      "source": [
        "import matplotlib.pyplot as plt\n",
        "import seaborn as sns"
      ],
      "execution_count": null,
      "outputs": []
    },
    {
      "cell_type": "code",
      "metadata": {
        "colab": {
          "base_uri": "https://localhost:8080/",
          "height": 282
        },
        "id": "So6MVgA4z5LT",
        "outputId": "66d0df50-ce48-451e-d52c-647c389acfc0"
      },
      "source": [
        "sns.lineplot(data=error1.iloc[:, 0:1], x=error1.index, y=\"1_air\")"
      ],
      "execution_count": null,
      "outputs": [
        {
          "output_type": "execute_result",
          "data": {
            "text/plain": [
              "<matplotlib.axes._subplots.AxesSubplot at 0x7f895a2aea10>"
            ]
          },
          "metadata": {},
          "execution_count": 360
        },
        {
          "output_type": "display_data",
          "data": {
            "image/png": "[encoded data removed]",
            "text/plain": [
              "<Figure size 432x288 with 1 Axes>"
            ]
          },
          "metadata": {
            "needs_background": "light"
          }
        }
      ]
    },
    {
      "cell_type": "code",
      "metadata": {
        "colab": {
          "base_uri": "https://localhost:8080/",
          "height": 282
        },
        "id": "a4Gr9IkixV8R",
        "outputId": "dc79f10e-eb7a-40ac-d819-c166a7a3518b"
      },
      "source": [
        "error1['1_air'].plot()"
      ],
      "execution_count": null,
      "outputs": [
        {
          "output_type": "execute_result",
          "data": {
            "text/plain": [
              "<matplotlib.axes._subplots.AxesSubplot at 0x7f895a582b90>"
            ]
          },
          "metadata": {},
          "execution_count": 361
        },
        {
          "output_type": "display_data",
          "data": {
            "image/png": "[encoded data removed]",
            "text/plain": [
              "<Figure size 432x288 with 1 Axes>"
            ]
          },
          "metadata": {
            "needs_background": "light"
          }
        }
      ]
    },
    {
      "cell_type": "code",
      "metadata": {
        "colab": {
          "base_uri": "https://localhost:8080/",
          "height": 282
        },
        "id": "TYfL49uLzVhO",
        "outputId": "47ccb60e-a520-427d-efa1-3f8e3ae25cf9"
      },
      "source": [
        "error1['2_air'].plot()"
      ],
      "execution_count": null,
      "outputs": [
        {
          "output_type": "execute_result",
          "data": {
            "text/plain": [
              "<matplotlib.axes._subplots.AxesSubplot at 0x7f895a61aa90>"
            ]
          },
          "metadata": {},
          "execution_count": 362
        },
        {
          "output_type": "display_data",
          "data": {
            "image/png": "[encoded data removed]",
            "text/plain": [
              "<Figure size 432x288 with 1 Axes>"
            ]
          },
          "metadata": {
            "needs_background": "light"
          }
        }
      ]
    },
    {
      "cell_type": "code",
      "metadata": {
        "colab": {
          "base_uri": "https://localhost:8080/",
          "height": 282
        },
        "id": "4fvgV8TFzHx9",
        "outputId": "eb7a2751-edb5-41c3-88f8-5be6478a8dcd"
      },
      "source": [
        "error1['1_smoke'].plot()"
      ],
      "execution_count": null,
      "outputs": [
        {
          "output_type": "execute_result",
          "data": {
            "text/plain": [
              "<matplotlib.axes._subplots.AxesSubplot at 0x7f896609a390>"
            ]
          },
          "metadata": {},
          "execution_count": 363
        },
        {
          "output_type": "display_data",
          "data": {
            "image/png": "[encoded data removed]",
            "text/plain": [
              "<Figure size 432x288 with 1 Axes>"
            ]
          },
          "metadata": {
            "needs_background": "light"
          }
        }
      ]
    },
    {
      "cell_type": "code",
      "metadata": {
        "colab": {
          "base_uri": "https://localhost:8080/",
          "height": 282
        },
        "id": "7odTOU1-NpxS",
        "outputId": "d6601135-6ada-44f4-d58a-4e6111956a3a"
      },
      "source": [
        "error1['9_smoke'].plot()"
      ],
      "execution_count": null,
      "outputs": [
        {
          "output_type": "execute_result",
          "data": {
            "text/plain": [
              "<matplotlib.axes._subplots.AxesSubplot at 0x7f895a7e6ad0>"
            ]
          },
          "metadata": {},
          "execution_count": 364
        },
        {
          "output_type": "display_data",
          "data": {
            "image/png": "[encoded data removed]",
            "text/plain": [
              "<Figure size 432x288 with 1 Axes>"
            ]
          },
          "metadata": {
            "needs_background": "light"
          }
        }
      ]
    },
    {
      "cell_type": "markdown",
      "metadata": {
        "id": "wErs0Vh446Rc"
      },
      "source": [
        "###plot real and prediction"
      ]
    },
    {
      "cell_type": "code",
      "metadata": {
        "id": "Vsu2HwuN4-eY"
      },
      "source": [
        "error = abs(yhat_rev - y)"
      ],
      "execution_count": null,
      "outputs": []
    },
    {
      "cell_type": "code",
      "metadata": {
        "colab": {
          "base_uri": "https://localhost:8080/",
          "height": 282
        },
        "id": "YlUzNTlV5C4u",
        "outputId": "c7fcb190-c7e8-4884-ec1a-34b4a3d59c82"
      },
      "source": [
        "y['1_air'].plot()"
      ],
      "execution_count": null,
      "outputs": [
        {
          "output_type": "execute_result",
          "data": {
            "text/plain": [
              "<matplotlib.axes._subplots.AxesSubplot at 0x7f89801bad10>"
            ]
          },
          "metadata": {},
          "execution_count": 365
        },
        {
          "output_type": "display_data",
          "data": {
            "image/png": "[encoded data removed]",
            "text/plain": [
              "<Figure size 432x288 with 1 Axes>"
            ]
          },
          "metadata": {
            "needs_background": "light"
          }
        }
      ]
    },
    {
      "cell_type": "code",
      "metadata": {
        "id": "6z144UcjOnbs"
      },
      "source": [
        "y.to_csv('/content/drive/MyDrive/金屬中心/能專/資料/0825/real_0825.csv')"
      ],
      "execution_count": null,
      "outputs": []
    },
    {
      "cell_type": "code",
      "metadata": {
        "id": "NyCukq595j_J"
      },
      "source": [
        "y_df = pd.DataFrame(data=yhat_rev, columns=y.columns)"
      ],
      "execution_count": null,
      "outputs": []
    },
    {
      "cell_type": "code",
      "metadata": {
        "id": "OOXGwcj_OjcM"
      },
      "source": [
        "y_df.to_csv('/content/drive/MyDrive/金屬中心/能專/資料/0825/predict_0825.csv')"
      ],
      "execution_count": null,
      "outputs": []
    },
    {
      "cell_type": "code",
      "metadata": {
        "colab": {
          "base_uri": "https://localhost:8080/",
          "height": 282
        },
        "id": "rwGWPdg65GfG",
        "outputId": "0f132d55-4fab-47fe-8c72-071b4295206c"
      },
      "source": [
        "y_df['1_air'].plot()"
      ],
      "execution_count": null,
      "outputs": [
        {
          "output_type": "execute_result",
          "data": {
            "text/plain": [
              "<matplotlib.axes._subplots.AxesSubplot at 0x7f89803438d0>"
            ]
          },
          "metadata": {},
          "execution_count": 367
        },
        {
          "output_type": "display_data",
          "data": {
            "image/png": "[encoded data removed]",
            "text/plain": [
              "<Figure size 432x288 with 1 Axes>"
            ]
          },
          "metadata": {
            "needs_background": "light"
          }
        }
      ]
    },
    {
      "cell_type": "code",
      "metadata": {
        "colab": {
          "base_uri": "https://localhost:8080/",
          "height": 439
        },
        "id": "9Fwpiobb7q0v",
        "outputId": "d7a61941-a379-4d46-c9d4-c8f37193f742"
      },
      "source": [
        "y"
      ],
      "execution_count": null,
      "outputs": [
        {
          "output_type": "execute_result",
          "data": {
            "text/html": [
              "<div>\n",
              "<style scoped>\n",
              "    .dataframe tbody tr th:only-of-type {\n",
              "        vertical-align: middle;\n",
              "    }\n",
              "\n",
              "    .dataframe tbody tr th {\n",
              "        vertical-align: top;\n",
              "    }\n",
              "\n",
              "    .dataframe thead th {\n",
              "        text-align: right;\n",
              "    }\n",
              "</style>\n",
              "<table border=\"1\" class=\"dataframe\">\n",
              "  <thead>\n",
              "    <tr style=\"text-align: right;\">\n",
              "      <th></th>\n",
              "      <th>index</th>\n",
              "      <th>1_air</th>\n",
              "      <th>1_smoke</th>\n",
              "      <th>2_air</th>\n",
              "      <th>2_smoke</th>\n",
              "      <th>3_air</th>\n",
              "      <th>3_smoke</th>\n",
              "      <th>4_air</th>\n",
              "      <th>4_smoke</th>\n",
              "      <th>5_air</th>\n",
              "      <th>5_smoke</th>\n",
              "      <th>6_air</th>\n",
              "      <th>6_smoke</th>\n",
              "      <th>7_air</th>\n",
              "      <th>7_smoke</th>\n",
              "      <th>8_air</th>\n",
              "      <th>8_smoke</th>\n",
              "      <th>9_air</th>\n",
              "      <th>9_smoke</th>\n",
              "    </tr>\n",
              "  </thead>\n",
              "  <tbody>\n",
              "    <tr>\n",
              "      <th>0</th>\n",
              "      <td>0</td>\n",
              "      <td>0.61</td>\n",
              "      <td>0.63</td>\n",
              "      <td>0.85</td>\n",
              "      <td>0.71</td>\n",
              "      <td>0.71</td>\n",
              "      <td>0.64</td>\n",
              "      <td>0.68</td>\n",
              "      <td>0.79</td>\n",
              "      <td>0.59</td>\n",
              "      <td>0.81</td>\n",
              "      <td>0.61</td>\n",
              "      <td>0.75</td>\n",
              "      <td>0.68</td>\n",
              "      <td>0.79</td>\n",
              "      <td>0.69</td>\n",
              "      <td>0.54</td>\n",
              "      <td>0.83</td>\n",
              "      <td>0.87</td>\n",
              "    </tr>\n",
              "    <tr>\n",
              "      <th>1</th>\n",
              "      <td>1</td>\n",
              "      <td>0.61</td>\n",
              "      <td>0.63</td>\n",
              "      <td>0.85</td>\n",
              "      <td>0.71</td>\n",
              "      <td>0.71</td>\n",
              "      <td>0.64</td>\n",
              "      <td>0.68</td>\n",
              "      <td>0.79</td>\n",
              "      <td>0.59</td>\n",
              "      <td>0.78</td>\n",
              "      <td>0.58</td>\n",
              "      <td>0.75</td>\n",
              "      <td>0.68</td>\n",
              "      <td>0.79</td>\n",
              "      <td>0.69</td>\n",
              "      <td>0.54</td>\n",
              "      <td>0.83</td>\n",
              "      <td>0.87</td>\n",
              "    </tr>\n",
              "    <tr>\n",
              "      <th>2</th>\n",
              "      <td>2</td>\n",
              "      <td>0.61</td>\n",
              "      <td>0.63</td>\n",
              "      <td>0.85</td>\n",
              "      <td>0.71</td>\n",
              "      <td>0.71</td>\n",
              "      <td>0.64</td>\n",
              "      <td>0.68</td>\n",
              "      <td>0.79</td>\n",
              "      <td>0.59</td>\n",
              "      <td>0.78</td>\n",
              "      <td>0.58</td>\n",
              "      <td>0.75</td>\n",
              "      <td>0.68</td>\n",
              "      <td>0.79</td>\n",
              "      <td>0.69</td>\n",
              "      <td>0.54</td>\n",
              "      <td>0.83</td>\n",
              "      <td>0.87</td>\n",
              "    </tr>\n",
              "    <tr>\n",
              "      <th>3</th>\n",
              "      <td>3</td>\n",
              "      <td>0.61</td>\n",
              "      <td>0.63</td>\n",
              "      <td>0.85</td>\n",
              "      <td>0.71</td>\n",
              "      <td>0.71</td>\n",
              "      <td>0.64</td>\n",
              "      <td>0.68</td>\n",
              "      <td>0.79</td>\n",
              "      <td>0.59</td>\n",
              "      <td>0.78</td>\n",
              "      <td>0.58</td>\n",
              "      <td>0.75</td>\n",
              "      <td>0.68</td>\n",
              "      <td>0.79</td>\n",
              "      <td>0.69</td>\n",
              "      <td>0.54</td>\n",
              "      <td>0.83</td>\n",
              "      <td>0.87</td>\n",
              "    </tr>\n",
              "    <tr>\n",
              "      <th>4</th>\n",
              "      <td>4</td>\n",
              "      <td>0.61</td>\n",
              "      <td>0.63</td>\n",
              "      <td>0.85</td>\n",
              "      <td>0.71</td>\n",
              "      <td>0.68</td>\n",
              "      <td>0.64</td>\n",
              "      <td>0.68</td>\n",
              "      <td>0.78</td>\n",
              "      <td>0.59</td>\n",
              "      <td>0.78</td>\n",
              "      <td>0.58</td>\n",
              "      <td>0.75</td>\n",
              "      <td>0.68</td>\n",
              "      <td>0.79</td>\n",
              "      <td>0.69</td>\n",
              "      <td>0.54</td>\n",
              "      <td>0.83</td>\n",
              "      <td>0.87</td>\n",
              "    </tr>\n",
              "    <tr>\n",
              "      <th>...</th>\n",
              "      <td>...</td>\n",
              "      <td>...</td>\n",
              "      <td>...</td>\n",
              "      <td>...</td>\n",
              "      <td>...</td>\n",
              "      <td>...</td>\n",
              "      <td>...</td>\n",
              "      <td>...</td>\n",
              "      <td>...</td>\n",
              "      <td>...</td>\n",
              "      <td>...</td>\n",
              "      <td>...</td>\n",
              "      <td>...</td>\n",
              "      <td>...</td>\n",
              "      <td>...</td>\n",
              "      <td>...</td>\n",
              "      <td>...</td>\n",
              "      <td>...</td>\n",
              "      <td>...</td>\n",
              "    </tr>\n",
              "    <tr>\n",
              "      <th>658675</th>\n",
              "      <td>1322320</td>\n",
              "      <td>0.56</td>\n",
              "      <td>0.53</td>\n",
              "      <td>0.78</td>\n",
              "      <td>0.70</td>\n",
              "      <td>0.67</td>\n",
              "      <td>0.62</td>\n",
              "      <td>0.66</td>\n",
              "      <td>0.75</td>\n",
              "      <td>0.56</td>\n",
              "      <td>0.79</td>\n",
              "      <td>0.58</td>\n",
              "      <td>0.75</td>\n",
              "      <td>0.77</td>\n",
              "      <td>0.87</td>\n",
              "      <td>0.69</td>\n",
              "      <td>0.53</td>\n",
              "      <td>0.67</td>\n",
              "      <td>0.78</td>\n",
              "    </tr>\n",
              "    <tr>\n",
              "      <th>658676</th>\n",
              "      <td>1322321</td>\n",
              "      <td>0.56</td>\n",
              "      <td>0.53</td>\n",
              "      <td>0.78</td>\n",
              "      <td>0.70</td>\n",
              "      <td>0.67</td>\n",
              "      <td>0.62</td>\n",
              "      <td>0.66</td>\n",
              "      <td>0.75</td>\n",
              "      <td>0.56</td>\n",
              "      <td>0.79</td>\n",
              "      <td>0.58</td>\n",
              "      <td>0.75</td>\n",
              "      <td>0.77</td>\n",
              "      <td>0.87</td>\n",
              "      <td>0.69</td>\n",
              "      <td>0.53</td>\n",
              "      <td>0.67</td>\n",
              "      <td>0.78</td>\n",
              "    </tr>\n",
              "    <tr>\n",
              "      <th>658677</th>\n",
              "      <td>1322322</td>\n",
              "      <td>0.56</td>\n",
              "      <td>0.53</td>\n",
              "      <td>0.78</td>\n",
              "      <td>0.70</td>\n",
              "      <td>0.67</td>\n",
              "      <td>0.62</td>\n",
              "      <td>0.66</td>\n",
              "      <td>0.75</td>\n",
              "      <td>0.56</td>\n",
              "      <td>0.79</td>\n",
              "      <td>0.58</td>\n",
              "      <td>0.75</td>\n",
              "      <td>0.77</td>\n",
              "      <td>0.87</td>\n",
              "      <td>0.69</td>\n",
              "      <td>0.53</td>\n",
              "      <td>0.67</td>\n",
              "      <td>0.78</td>\n",
              "    </tr>\n",
              "    <tr>\n",
              "      <th>658678</th>\n",
              "      <td>1322323</td>\n",
              "      <td>0.56</td>\n",
              "      <td>0.53</td>\n",
              "      <td>0.78</td>\n",
              "      <td>0.70</td>\n",
              "      <td>0.67</td>\n",
              "      <td>0.62</td>\n",
              "      <td>0.66</td>\n",
              "      <td>0.75</td>\n",
              "      <td>0.56</td>\n",
              "      <td>0.79</td>\n",
              "      <td>0.58</td>\n",
              "      <td>0.75</td>\n",
              "      <td>0.77</td>\n",
              "      <td>0.87</td>\n",
              "      <td>0.69</td>\n",
              "      <td>0.53</td>\n",
              "      <td>0.67</td>\n",
              "      <td>0.78</td>\n",
              "    </tr>\n",
              "    <tr>\n",
              "      <th>658679</th>\n",
              "      <td>1322324</td>\n",
              "      <td>0.56</td>\n",
              "      <td>0.53</td>\n",
              "      <td>0.78</td>\n",
              "      <td>0.70</td>\n",
              "      <td>0.67</td>\n",
              "      <td>0.62</td>\n",
              "      <td>0.66</td>\n",
              "      <td>0.75</td>\n",
              "      <td>0.56</td>\n",
              "      <td>0.79</td>\n",
              "      <td>0.58</td>\n",
              "      <td>0.75</td>\n",
              "      <td>0.77</td>\n",
              "      <td>0.87</td>\n",
              "      <td>0.69</td>\n",
              "      <td>0.53</td>\n",
              "      <td>0.67</td>\n",
              "      <td>0.78</td>\n",
              "    </tr>\n",
              "  </tbody>\n",
              "</table>\n",
              "<p>658680 rows × 19 columns</p>\n",
              "</div>"
            ],
            "text/plain": [
              "          index  1_air  1_smoke  2_air  2_smoke  3_air  3_smoke  4_air  \\\n",
              "0             0   0.61     0.63   0.85     0.71   0.71     0.64   0.68   \n",
              "1             1   0.61     0.63   0.85     0.71   0.71     0.64   0.68   \n",
              "2             2   0.61     0.63   0.85     0.71   0.71     0.64   0.68   \n",
              "3             3   0.61     0.63   0.85     0.71   0.71     0.64   0.68   \n",
              "4             4   0.61     0.63   0.85     0.71   0.68     0.64   0.68   \n",
              "...         ...    ...      ...    ...      ...    ...      ...    ...   \n",
              "658675  1322320   0.56     0.53   0.78     0.70   0.67     0.62   0.66   \n",
              "658676  1322321   0.56     0.53   0.78     0.70   0.67     0.62   0.66   \n",
              "658677  1322322   0.56     0.53   0.78     0.70   0.67     0.62   0.66   \n",
              "658678  1322323   0.56     0.53   0.78     0.70   0.67     0.62   0.66   \n",
              "658679  1322324   0.56     0.53   0.78     0.70   0.67     0.62   0.66   \n",
              "\n",
              "        4_smoke  5_air  5_smoke  6_air  6_smoke  7_air  7_smoke  8_air  \\\n",
              "0          0.79   0.59     0.81   0.61     0.75   0.68     0.79   0.69   \n",
              "1          0.79   0.59     0.78   0.58     0.75   0.68     0.79   0.69   \n",
              "2          0.79   0.59     0.78   0.58     0.75   0.68     0.79   0.69   \n",
              "3          0.79   0.59     0.78   0.58     0.75   0.68     0.79   0.69   \n",
              "4          0.78   0.59     0.78   0.58     0.75   0.68     0.79   0.69   \n",
              "...         ...    ...      ...    ...      ...    ...      ...    ...   \n",
              "658675     0.75   0.56     0.79   0.58     0.75   0.77     0.87   0.69   \n",
              "658676     0.75   0.56     0.79   0.58     0.75   0.77     0.87   0.69   \n",
              "658677     0.75   0.56     0.79   0.58     0.75   0.77     0.87   0.69   \n",
              "658678     0.75   0.56     0.79   0.58     0.75   0.77     0.87   0.69   \n",
              "658679     0.75   0.56     0.79   0.58     0.75   0.77     0.87   0.69   \n",
              "\n",
              "        8_smoke  9_air  9_smoke  \n",
              "0          0.54   0.83     0.87  \n",
              "1          0.54   0.83     0.87  \n",
              "2          0.54   0.83     0.87  \n",
              "3          0.54   0.83     0.87  \n",
              "4          0.54   0.83     0.87  \n",
              "...         ...    ...      ...  \n",
              "658675     0.53   0.67     0.78  \n",
              "658676     0.53   0.67     0.78  \n",
              "658677     0.53   0.67     0.78  \n",
              "658678     0.53   0.67     0.78  \n",
              "658679     0.53   0.67     0.78  \n",
              "\n",
              "[658680 rows x 19 columns]"
            ]
          },
          "metadata": {},
          "execution_count": 211
        }
      ]
    },
    {
      "cell_type": "code",
      "metadata": {
        "colab": {
          "base_uri": "https://localhost:8080/",
          "height": 439
        },
        "id": "_OVNeZnc6MpB",
        "outputId": "79ae587d-580a-40ed-f43d-cbb108f5993c"
      },
      "source": [
        "y_df"
      ],
      "execution_count": null,
      "outputs": [
        {
          "output_type": "execute_result",
          "data": {
            "text/html": [
              "<div>\n",
              "<style scoped>\n",
              "    .dataframe tbody tr th:only-of-type {\n",
              "        vertical-align: middle;\n",
              "    }\n",
              "\n",
              "    .dataframe tbody tr th {\n",
              "        vertical-align: top;\n",
              "    }\n",
              "\n",
              "    .dataframe thead th {\n",
              "        text-align: right;\n",
              "    }\n",
              "</style>\n",
              "<table border=\"1\" class=\"dataframe\">\n",
              "  <thead>\n",
              "    <tr style=\"text-align: right;\">\n",
              "      <th></th>\n",
              "      <th>1_air</th>\n",
              "      <th>1_smoke</th>\n",
              "      <th>2_air</th>\n",
              "      <th>2_smoke</th>\n",
              "      <th>3_air</th>\n",
              "      <th>3_smoke</th>\n",
              "      <th>4_air</th>\n",
              "      <th>4_smoke</th>\n",
              "      <th>5_air</th>\n",
              "      <th>5_smoke</th>\n",
              "      <th>6_air</th>\n",
              "      <th>6_smoke</th>\n",
              "      <th>7_air</th>\n",
              "      <th>7_smoke</th>\n",
              "      <th>8_air</th>\n",
              "      <th>8_smoke</th>\n",
              "      <th>9_air</th>\n",
              "      <th>9_smoke</th>\n",
              "    </tr>\n",
              "  </thead>\n",
              "  <tbody>\n",
              "    <tr>\n",
              "      <th>0</th>\n",
              "      <td>0.569122</td>\n",
              "      <td>0.609471</td>\n",
              "      <td>0.800395</td>\n",
              "      <td>0.699188</td>\n",
              "      <td>0.684279</td>\n",
              "      <td>0.630038</td>\n",
              "      <td>0.669922</td>\n",
              "      <td>0.775570</td>\n",
              "      <td>0.564083</td>\n",
              "      <td>0.802996</td>\n",
              "      <td>0.606824</td>\n",
              "      <td>0.749697</td>\n",
              "      <td>0.718758</td>\n",
              "      <td>0.828618</td>\n",
              "      <td>0.695705</td>\n",
              "      <td>0.539366</td>\n",
              "      <td>0.728448</td>\n",
              "      <td>2.345747</td>\n",
              "    </tr>\n",
              "    <tr>\n",
              "      <th>1</th>\n",
              "      <td>0.569857</td>\n",
              "      <td>0.611158</td>\n",
              "      <td>0.801574</td>\n",
              "      <td>0.699388</td>\n",
              "      <td>0.684936</td>\n",
              "      <td>0.630350</td>\n",
              "      <td>0.670254</td>\n",
              "      <td>0.775937</td>\n",
              "      <td>0.564037</td>\n",
              "      <td>0.803243</td>\n",
              "      <td>0.606819</td>\n",
              "      <td>0.749328</td>\n",
              "      <td>0.718645</td>\n",
              "      <td>0.828588</td>\n",
              "      <td>0.696371</td>\n",
              "      <td>0.539730</td>\n",
              "      <td>0.731261</td>\n",
              "      <td>2.384383</td>\n",
              "    </tr>\n",
              "    <tr>\n",
              "      <th>2</th>\n",
              "      <td>0.570954</td>\n",
              "      <td>0.613711</td>\n",
              "      <td>0.803463</td>\n",
              "      <td>0.699730</td>\n",
              "      <td>0.685857</td>\n",
              "      <td>0.630799</td>\n",
              "      <td>0.670678</td>\n",
              "      <td>0.776403</td>\n",
              "      <td>0.563919</td>\n",
              "      <td>0.803630</td>\n",
              "      <td>0.606599</td>\n",
              "      <td>0.748725</td>\n",
              "      <td>0.718595</td>\n",
              "      <td>0.828686</td>\n",
              "      <td>0.697665</td>\n",
              "      <td>0.540400</td>\n",
              "      <td>0.735398</td>\n",
              "      <td>2.447307</td>\n",
              "    </tr>\n",
              "    <tr>\n",
              "      <th>3</th>\n",
              "      <td>0.570954</td>\n",
              "      <td>0.613711</td>\n",
              "      <td>0.803463</td>\n",
              "      <td>0.699730</td>\n",
              "      <td>0.685857</td>\n",
              "      <td>0.630799</td>\n",
              "      <td>0.670678</td>\n",
              "      <td>0.776403</td>\n",
              "      <td>0.563919</td>\n",
              "      <td>0.803630</td>\n",
              "      <td>0.606599</td>\n",
              "      <td>0.748725</td>\n",
              "      <td>0.718595</td>\n",
              "      <td>0.828686</td>\n",
              "      <td>0.697665</td>\n",
              "      <td>0.540400</td>\n",
              "      <td>0.735398</td>\n",
              "      <td>2.447307</td>\n",
              "    </tr>\n",
              "    <tr>\n",
              "      <th>4</th>\n",
              "      <td>0.570954</td>\n",
              "      <td>0.613711</td>\n",
              "      <td>0.803463</td>\n",
              "      <td>0.699730</td>\n",
              "      <td>0.685857</td>\n",
              "      <td>0.630799</td>\n",
              "      <td>0.670678</td>\n",
              "      <td>0.776403</td>\n",
              "      <td>0.563919</td>\n",
              "      <td>0.803630</td>\n",
              "      <td>0.606599</td>\n",
              "      <td>0.748725</td>\n",
              "      <td>0.718595</td>\n",
              "      <td>0.828686</td>\n",
              "      <td>0.697665</td>\n",
              "      <td>0.540400</td>\n",
              "      <td>0.735398</td>\n",
              "      <td>2.447307</td>\n",
              "    </tr>\n",
              "    <tr>\n",
              "      <th>...</th>\n",
              "      <td>...</td>\n",
              "      <td>...</td>\n",
              "      <td>...</td>\n",
              "      <td>...</td>\n",
              "      <td>...</td>\n",
              "      <td>...</td>\n",
              "      <td>...</td>\n",
              "      <td>...</td>\n",
              "      <td>...</td>\n",
              "      <td>...</td>\n",
              "      <td>...</td>\n",
              "      <td>...</td>\n",
              "      <td>...</td>\n",
              "      <td>...</td>\n",
              "      <td>...</td>\n",
              "      <td>...</td>\n",
              "      <td>...</td>\n",
              "      <td>...</td>\n",
              "    </tr>\n",
              "    <tr>\n",
              "      <th>658675</th>\n",
              "      <td>0.566478</td>\n",
              "      <td>0.533799</td>\n",
              "      <td>0.791947</td>\n",
              "      <td>0.693973</td>\n",
              "      <td>0.680574</td>\n",
              "      <td>0.624596</td>\n",
              "      <td>0.671485</td>\n",
              "      <td>0.767868</td>\n",
              "      <td>0.552424</td>\n",
              "      <td>0.784340</td>\n",
              "      <td>0.591582</td>\n",
              "      <td>0.750502</td>\n",
              "      <td>0.749110</td>\n",
              "      <td>0.847278</td>\n",
              "      <td>0.669565</td>\n",
              "      <td>0.533946</td>\n",
              "      <td>0.685462</td>\n",
              "      <td>9.940082</td>\n",
              "    </tr>\n",
              "    <tr>\n",
              "      <th>658676</th>\n",
              "      <td>0.566478</td>\n",
              "      <td>0.533799</td>\n",
              "      <td>0.791947</td>\n",
              "      <td>0.693973</td>\n",
              "      <td>0.680574</td>\n",
              "      <td>0.624596</td>\n",
              "      <td>0.671485</td>\n",
              "      <td>0.767868</td>\n",
              "      <td>0.552424</td>\n",
              "      <td>0.784340</td>\n",
              "      <td>0.591582</td>\n",
              "      <td>0.750502</td>\n",
              "      <td>0.749110</td>\n",
              "      <td>0.847278</td>\n",
              "      <td>0.669565</td>\n",
              "      <td>0.533946</td>\n",
              "      <td>0.685462</td>\n",
              "      <td>9.940082</td>\n",
              "    </tr>\n",
              "    <tr>\n",
              "      <th>658677</th>\n",
              "      <td>0.566478</td>\n",
              "      <td>0.533799</td>\n",
              "      <td>0.791947</td>\n",
              "      <td>0.693973</td>\n",
              "      <td>0.680574</td>\n",
              "      <td>0.624596</td>\n",
              "      <td>0.671485</td>\n",
              "      <td>0.767868</td>\n",
              "      <td>0.552424</td>\n",
              "      <td>0.784340</td>\n",
              "      <td>0.591582</td>\n",
              "      <td>0.750502</td>\n",
              "      <td>0.749110</td>\n",
              "      <td>0.847278</td>\n",
              "      <td>0.669565</td>\n",
              "      <td>0.533946</td>\n",
              "      <td>0.685462</td>\n",
              "      <td>9.940082</td>\n",
              "    </tr>\n",
              "    <tr>\n",
              "      <th>658678</th>\n",
              "      <td>0.566589</td>\n",
              "      <td>0.534115</td>\n",
              "      <td>0.792122</td>\n",
              "      <td>0.694028</td>\n",
              "      <td>0.680669</td>\n",
              "      <td>0.624645</td>\n",
              "      <td>0.671519</td>\n",
              "      <td>0.767955</td>\n",
              "      <td>0.552467</td>\n",
              "      <td>0.784396</td>\n",
              "      <td>0.591717</td>\n",
              "      <td>0.750532</td>\n",
              "      <td>0.748928</td>\n",
              "      <td>0.847127</td>\n",
              "      <td>0.669488</td>\n",
              "      <td>0.533974</td>\n",
              "      <td>0.685958</td>\n",
              "      <td>9.980490</td>\n",
              "    </tr>\n",
              "    <tr>\n",
              "      <th>658679</th>\n",
              "      <td>0.566478</td>\n",
              "      <td>0.533799</td>\n",
              "      <td>0.791947</td>\n",
              "      <td>0.693973</td>\n",
              "      <td>0.680574</td>\n",
              "      <td>0.624596</td>\n",
              "      <td>0.671485</td>\n",
              "      <td>0.767868</td>\n",
              "      <td>0.552424</td>\n",
              "      <td>0.784340</td>\n",
              "      <td>0.591582</td>\n",
              "      <td>0.750502</td>\n",
              "      <td>0.749110</td>\n",
              "      <td>0.847278</td>\n",
              "      <td>0.669565</td>\n",
              "      <td>0.533946</td>\n",
              "      <td>0.685462</td>\n",
              "      <td>9.940082</td>\n",
              "    </tr>\n",
              "  </tbody>\n",
              "</table>\n",
              "<p>658680 rows × 18 columns</p>\n",
              "</div>"
            ],
            "text/plain": [
              "           1_air   1_smoke     2_air   2_smoke     3_air   3_smoke     4_air  \\\n",
              "0       0.569122  0.609471  0.800395  0.699188  0.684279  0.630038  0.669922   \n",
              "1       0.569857  0.611158  0.801574  0.699388  0.684936  0.630350  0.670254   \n",
              "2       0.570954  0.613711  0.803463  0.699730  0.685857  0.630799  0.670678   \n",
              "3       0.570954  0.613711  0.803463  0.699730  0.685857  0.630799  0.670678   \n",
              "4       0.570954  0.613711  0.803463  0.699730  0.685857  0.630799  0.670678   \n",
              "...          ...       ...       ...       ...       ...       ...       ...   \n",
              "658675  0.566478  0.533799  0.791947  0.693973  0.680574  0.624596  0.671485   \n",
              "658676  0.566478  0.533799  0.791947  0.693973  0.680574  0.624596  0.671485   \n",
              "658677  0.566478  0.533799  0.791947  0.693973  0.680574  0.624596  0.671485   \n",
              "658678  0.566589  0.534115  0.792122  0.694028  0.680669  0.624645  0.671519   \n",
              "658679  0.566478  0.533799  0.791947  0.693973  0.680574  0.624596  0.671485   \n",
              "\n",
              "         4_smoke     5_air   5_smoke     6_air   6_smoke     7_air   7_smoke  \\\n",
              "0       0.775570  0.564083  0.802996  0.606824  0.749697  0.718758  0.828618   \n",
              "1       0.775937  0.564037  0.803243  0.606819  0.749328  0.718645  0.828588   \n",
              "2       0.776403  0.563919  0.803630  0.606599  0.748725  0.718595  0.828686   \n",
              "3       0.776403  0.563919  0.803630  0.606599  0.748725  0.718595  0.828686   \n",
              "4       0.776403  0.563919  0.803630  0.606599  0.748725  0.718595  0.828686   \n",
              "...          ...       ...       ...       ...       ...       ...       ...   \n",
              "658675  0.767868  0.552424  0.784340  0.591582  0.750502  0.749110  0.847278   \n",
              "658676  0.767868  0.552424  0.784340  0.591582  0.750502  0.749110  0.847278   \n",
              "658677  0.767868  0.552424  0.784340  0.591582  0.750502  0.749110  0.847278   \n",
              "658678  0.767955  0.552467  0.784396  0.591717  0.750532  0.748928  0.847127   \n",
              "658679  0.767868  0.552424  0.784340  0.591582  0.750502  0.749110  0.847278   \n",
              "\n",
              "           8_air   8_smoke     9_air   9_smoke  \n",
              "0       0.695705  0.539366  0.728448  2.345747  \n",
              "1       0.696371  0.539730  0.731261  2.384383  \n",
              "2       0.697665  0.540400  0.735398  2.447307  \n",
              "3       0.697665  0.540400  0.735398  2.447307  \n",
              "4       0.697665  0.540400  0.735398  2.447307  \n",
              "...          ...       ...       ...       ...  \n",
              "658675  0.669565  0.533946  0.685462  9.940082  \n",
              "658676  0.669565  0.533946  0.685462  9.940082  \n",
              "658677  0.669565  0.533946  0.685462  9.940082  \n",
              "658678  0.669488  0.533974  0.685958  9.980490  \n",
              "658679  0.669565  0.533946  0.685462  9.940082  \n",
              "\n",
              "[658680 rows x 18 columns]"
            ]
          },
          "metadata": {},
          "execution_count": 198
        }
      ]
    },
    {
      "cell_type": "code",
      "metadata": {
        "colab": {
          "base_uri": "https://localhost:8080/",
          "height": 1000
        },
        "id": "HEl17MScaUMX",
        "outputId": "aa186ec3-8720-4a6c-f1dc-2507597952e1"
      },
      "source": [
        "for i in y_df.columns:\n",
        "  plt.plot(y[i])\n",
        "  plt.plot(y_df[i])\n",
        "  plt.title(i + ' line chart')\n",
        "  plt.xlabel('times')\n",
        "  plt.ylabel('change_time')\n",
        "  plt.legend(['real', 'predirct'], loc='lower right')\n",
        "  plt.show()"
      ],
      "execution_count": null,
      "outputs": [
        {
          "output_type": "display_data",
          "data": {
            "image/png": "[encoded data removed]",
            "text/plain": [
              "<Figure size 432x288 with 1 Axes>"
            ]
          },
          "metadata": {
            "needs_background": "light"
          }
        },
        {
          "output_type": "display_data",
          "data": {
            "image/png": "[encoded data removed]",
            "text/plain": [
              "<Figure size 432x288 with 1 Axes>"
            ]
          },
          "metadata": {
            "needs_background": "light"
          }
        },
        {
          "output_type": "display_data",
          "data": {
            "image/png": "[encoded data removed]",
            "text/plain": [
              "<Figure size 432x288 with 1 Axes>"
            ]
          },
          "metadata": {
            "needs_background": "light"
          }
        },
        {
          "output_type": "display_data",
          "data": {
            "image/png": "[encoded data removed]",
            "text/plain": [
              "<Figure size 432x288 with 1 Axes>"
            ]
          },
          "metadata": {
            "needs_background": "light"
          }
        },
        {
          "output_type": "display_data",
          "data": {
            "image/png": "[encoded data removed]",
            "text/plain": [
              "<Figure size 432x288 with 1 Axes>"
            ]
          },
          "metadata": {
            "needs_background": "light"
          }
        },
        {
          "output_type": "display_data",
          "data": {
            "image/png": "[encoded data removed]",
            "text/plain": [
              "<Figure size 432x288 with 1 Axes>"
            ]
          },
          "metadata": {
            "needs_background": "light"
          }
        },
        {
          "output_type": "display_data",
          "data": {
            "image/png": "[encoded data removed]",
            "text/plain": [
              "<Figure size 432x288 with 1 Axes>"
            ]
          },
          "metadata": {
            "needs_background": "light"
          }
        },
        {
          "output_type": "display_data",
          "data": {
            "image/png": "[encoded data removed]",
            "text/plain": [
              "<Figure size 432x288 with 1 Axes>"
            ]
          },
          "metadata": {
            "needs_background": "light"
          }
        },
        {
          "output_type": "display_data",
          "data": {
            "image/png": "[encoded data removed]",
            "text/plain": [
              "<Figure size 432x288 with 1 Axes>"
            ]
          },
          "metadata": {
            "needs_background": "light"
          }
        },
        {
          "output_type": "display_data",
          "data": {
            "image/png": "[encoded data removed]",
            "text/plain": [
              "<Figure size 432x288 with 1 Axes>"
            ]
          },
          "metadata": {
            "needs_background": "light"
          }
        },
        {
          "output_type": "display_data",
          "data": {
            "image/png": "[encoded data removed]",
            "text/plain": [
              "<Figure size 432x288 with 1 Axes>"
            ]
          },
          "metadata": {
            "needs_background": "light"
          }
        },
        {
          "output_type": "display_data",
          "data": {
            "image/png": "[encoded data removed]",
            "text/plain": [
              "<Figure size 432x288 with 1 Axes>"
            ]
          },
          "metadata": {
            "needs_background": "light"
          }
        },
        {
          "output_type": "display_data",
          "data": {
            "image/png": "[encoded data removed]",
            "text/plain": [
              "<Figure size 432x288 with 1 Axes>"
            ]
          },
          "metadata": {
            "needs_background": "light"
          }
        },
        {
          "output_type": "display_data",
          "data": {
            "image/png": "[encoded data removed]",
            "text/plain": [
              "<Figure size 432x288 with 1 Axes>"
            ]
          },
          "metadata": {
            "needs_background": "light"
          }
        },
        {
          "output_type": "display_data",
          "data": {
            "image/png": "[encoded data removed]",
            "text/plain": [
              "<Figure size 432x288 with 1 Axes>"
            ]
          },
          "metadata": {
            "needs_background": "light"
          }
        },
        {
          "output_type": "display_data",
          "data": {
            "image/png": "[encoded data removed]",
            "text/plain": [
              "<Figure size 432x288 with 1 Axes>"
            ]
          },
          "metadata": {
            "needs_background": "light"
          }
        },
        {
          "output_type": "display_data",
          "data": {
            "image/png": "[encoded data removed]",
            "text/plain": [
              "<Figure size 432x288 with 1 Axes>"
            ]
          },
          "metadata": {
            "needs_background": "light"
          }
        },
        {
          "output_type": "display_data",
          "data": {
            "image/png": "[encoded data removed]",
            "text/plain": [
              "<Figure size 432x288 with 1 Axes>"
            ]
          },
          "metadata": {
            "needs_background": "light"
          }
        }
      ]
    },
    {
      "cell_type": "markdown",
      "metadata": {
        "id": "wwIouQnRMMVx"
      },
      "source": [
        "#build up and down limitation"
      ]
    },
    {
      "cell_type": "code",
      "metadata": {
        "colab": {
          "base_uri": "https://localhost:8080/",
          "height": 402
        },
        "id": "HVNZtajJ01bQ",
        "outputId": "33f18aa2-3b52-447a-ea93-3536c2821e18"
      },
      "source": [
        "error1.describe()"
      ],
      "execution_count": null,
      "outputs": [
        {
          "output_type": "execute_result",
          "data": {
            "text/html": [
              "<div>\n",
              "<style scoped>\n",
              "    .dataframe tbody tr th:only-of-type {\n",
              "        vertical-align: middle;\n",
              "    }\n",
              "\n",
              "    .dataframe tbody tr th {\n",
              "        vertical-align: top;\n",
              "    }\n",
              "\n",
              "    .dataframe thead th {\n",
              "        text-align: right;\n",
              "    }\n",
              "</style>\n",
              "<table border=\"1\" class=\"dataframe\">\n",
              "  <thead>\n",
              "    <tr style=\"text-align: right;\">\n",
              "      <th></th>\n",
              "      <th>1_air</th>\n",
              "      <th>1_smoke</th>\n",
              "      <th>2_air</th>\n",
              "      <th>2_smoke</th>\n",
              "      <th>3_air</th>\n",
              "      <th>3_smoke</th>\n",
              "      <th>4_air</th>\n",
              "      <th>4_smoke</th>\n",
              "      <th>5_air</th>\n",
              "      <th>5_smoke</th>\n",
              "      <th>6_air</th>\n",
              "      <th>6_smoke</th>\n",
              "      <th>7_air</th>\n",
              "      <th>7_smoke</th>\n",
              "      <th>8_air</th>\n",
              "      <th>8_smoke</th>\n",
              "      <th>9_air</th>\n",
              "      <th>9_smoke</th>\n",
              "    </tr>\n",
              "  </thead>\n",
              "  <tbody>\n",
              "    <tr>\n",
              "      <th>count</th>\n",
              "      <td>6.459610e+05</td>\n",
              "      <td>6.459610e+05</td>\n",
              "      <td>6.459610e+05</td>\n",
              "      <td>6.459610e+05</td>\n",
              "      <td>6.459610e+05</td>\n",
              "      <td>6.459610e+05</td>\n",
              "      <td>6.459610e+05</td>\n",
              "      <td>6.459610e+05</td>\n",
              "      <td>6.459610e+05</td>\n",
              "      <td>6.459610e+05</td>\n",
              "      <td>6.459610e+05</td>\n",
              "      <td>6.459610e+05</td>\n",
              "      <td>6.459610e+05</td>\n",
              "      <td>6.459610e+05</td>\n",
              "      <td>6.459610e+05</td>\n",
              "      <td>6.459610e+05</td>\n",
              "      <td>6.459610e+05</td>\n",
              "      <td>6.459610e+05</td>\n",
              "    </tr>\n",
              "    <tr>\n",
              "      <th>mean</th>\n",
              "      <td>1.729606e-02</td>\n",
              "      <td>3.012487e-02</td>\n",
              "      <td>1.826342e-02</td>\n",
              "      <td>1.075627e-02</td>\n",
              "      <td>1.801089e-02</td>\n",
              "      <td>1.268619e-02</td>\n",
              "      <td>1.262548e-02</td>\n",
              "      <td>1.446068e-02</td>\n",
              "      <td>1.710546e-02</td>\n",
              "      <td>1.843739e-02</td>\n",
              "      <td>1.371203e-02</td>\n",
              "      <td>1.420736e-02</td>\n",
              "      <td>1.847806e-02</td>\n",
              "      <td>1.910062e-02</td>\n",
              "      <td>2.191996e-02</td>\n",
              "      <td>1.704071e-02</td>\n",
              "      <td>7.765614e-02</td>\n",
              "      <td>3.191006e-02</td>\n",
              "    </tr>\n",
              "    <tr>\n",
              "      <th>std</th>\n",
              "      <td>1.283942e-02</td>\n",
              "      <td>2.350118e-02</td>\n",
              "      <td>1.576532e-02</td>\n",
              "      <td>7.016082e-03</td>\n",
              "      <td>1.501996e-02</td>\n",
              "      <td>8.749935e-03</td>\n",
              "      <td>8.435258e-03</td>\n",
              "      <td>1.090153e-02</td>\n",
              "      <td>1.361602e-02</td>\n",
              "      <td>1.445078e-02</td>\n",
              "      <td>1.884651e-02</td>\n",
              "      <td>1.186688e-02</td>\n",
              "      <td>1.445839e-02</td>\n",
              "      <td>1.444551e-02</td>\n",
              "      <td>1.531478e-02</td>\n",
              "      <td>1.339409e-02</td>\n",
              "      <td>6.480293e-02</td>\n",
              "      <td>3.242970e-02</td>\n",
              "    </tr>\n",
              "    <tr>\n",
              "      <th>min</th>\n",
              "      <td>5.245209e-08</td>\n",
              "      <td>1.454353e-07</td>\n",
              "      <td>6.675720e-08</td>\n",
              "      <td>8.106232e-08</td>\n",
              "      <td>3.814697e-08</td>\n",
              "      <td>1.430511e-08</td>\n",
              "      <td>7.152557e-09</td>\n",
              "      <td>2.145767e-08</td>\n",
              "      <td>5.102158e-07</td>\n",
              "      <td>1.072884e-07</td>\n",
              "      <td>3.337860e-08</td>\n",
              "      <td>6.914139e-08</td>\n",
              "      <td>2.861023e-08</td>\n",
              "      <td>2.384186e-08</td>\n",
              "      <td>7.152557e-08</td>\n",
              "      <td>7.152557e-08</td>\n",
              "      <td>4.506111e-07</td>\n",
              "      <td>7.390976e-08</td>\n",
              "    </tr>\n",
              "    <tr>\n",
              "      <th>25%</th>\n",
              "      <td>8.554163e-03</td>\n",
              "      <td>1.415401e-02</td>\n",
              "      <td>6.984026e-03</td>\n",
              "      <td>5.138001e-03</td>\n",
              "      <td>6.840022e-03</td>\n",
              "      <td>7.648482e-03</td>\n",
              "      <td>6.074123e-03</td>\n",
              "      <td>7.159443e-03</td>\n",
              "      <td>7.740202e-03</td>\n",
              "      <td>6.887696e-03</td>\n",
              "      <td>1.694245e-03</td>\n",
              "      <td>5.823970e-03</td>\n",
              "      <td>9.677210e-03</td>\n",
              "      <td>8.320546e-03</td>\n",
              "      <td>1.029706e-02</td>\n",
              "      <td>7.370076e-03</td>\n",
              "      <td>2.739264e-02</td>\n",
              "      <td>1.095012e-02</td>\n",
              "    </tr>\n",
              "    <tr>\n",
              "      <th>50%</th>\n",
              "      <td>1.602178e-02</td>\n",
              "      <td>2.541815e-02</td>\n",
              "      <td>1.280734e-02</td>\n",
              "      <td>1.087222e-02</td>\n",
              "      <td>1.520360e-02</td>\n",
              "      <td>1.034805e-02</td>\n",
              "      <td>1.171132e-02</td>\n",
              "      <td>1.093225e-02</td>\n",
              "      <td>1.467521e-02</td>\n",
              "      <td>1.619223e-02</td>\n",
              "      <td>7.036314e-03</td>\n",
              "      <td>1.425386e-02</td>\n",
              "      <td>1.459052e-02</td>\n",
              "      <td>1.420799e-02</td>\n",
              "      <td>1.815104e-02</td>\n",
              "      <td>1.400980e-02</td>\n",
              "      <td>5.226378e-02</td>\n",
              "      <td>1.769280e-02</td>\n",
              "    </tr>\n",
              "    <tr>\n",
              "      <th>75%</th>\n",
              "      <td>2.299044e-02</td>\n",
              "      <td>3.844000e-02</td>\n",
              "      <td>2.628169e-02</td>\n",
              "      <td>1.526208e-02</td>\n",
              "      <td>2.449635e-02</td>\n",
              "      <td>1.706487e-02</td>\n",
              "      <td>1.749809e-02</td>\n",
              "      <td>2.019590e-02</td>\n",
              "      <td>2.284077e-02</td>\n",
              "      <td>2.471191e-02</td>\n",
              "      <td>1.779722e-02</td>\n",
              "      <td>1.888091e-02</td>\n",
              "      <td>2.422837e-02</td>\n",
              "      <td>2.990268e-02</td>\n",
              "      <td>2.980149e-02</td>\n",
              "      <td>2.308759e-02</td>\n",
              "      <td>1.423491e-01</td>\n",
              "      <td>4.157960e-02</td>\n",
              "    </tr>\n",
              "    <tr>\n",
              "      <th>max</th>\n",
              "      <td>1.227073e-01</td>\n",
              "      <td>1.781404e-01</td>\n",
              "      <td>1.706585e-01</td>\n",
              "      <td>1.380950e-01</td>\n",
              "      <td>1.673466e-01</td>\n",
              "      <td>1.547859e-01</td>\n",
              "      <td>1.390272e-01</td>\n",
              "      <td>7.356611e-02</td>\n",
              "      <td>1.514944e-01</td>\n",
              "      <td>1.855302e-01</td>\n",
              "      <td>1.360494e-01</td>\n",
              "      <td>1.845583e-01</td>\n",
              "      <td>1.915191e-01</td>\n",
              "      <td>1.973938e-01</td>\n",
              "      <td>1.838471e-01</td>\n",
              "      <td>1.308973e-01</td>\n",
              "      <td>6.891828e-01</td>\n",
              "      <td>2.243027e-01</td>\n",
              "    </tr>\n",
              "  </tbody>\n",
              "</table>\n",
              "</div>"
            ],
            "text/plain": [
              "              1_air       1_smoke         2_air       2_smoke         3_air  \\\n",
              "count  6.459610e+05  6.459610e+05  6.459610e+05  6.459610e+05  6.459610e+05   \n",
              "mean   1.729606e-02  3.012487e-02  1.826342e-02  1.075627e-02  1.801089e-02   \n",
              "std    1.283942e-02  2.350118e-02  1.576532e-02  7.016082e-03  1.501996e-02   \n",
              "min    5.245209e-08  1.454353e-07  6.675720e-08  8.106232e-08  3.814697e-08   \n",
              "25%    8.554163e-03  1.415401e-02  6.984026e-03  5.138001e-03  6.840022e-03   \n",
              "50%    1.602178e-02  2.541815e-02  1.280734e-02  1.087222e-02  1.520360e-02   \n",
              "75%    2.299044e-02  3.844000e-02  2.628169e-02  1.526208e-02  2.449635e-02   \n",
              "max    1.227073e-01  1.781404e-01  1.706585e-01  1.380950e-01  1.673466e-01   \n",
              "\n",
              "            3_smoke         4_air       4_smoke         5_air       5_smoke  \\\n",
              "count  6.459610e+05  6.459610e+05  6.459610e+05  6.459610e+05  6.459610e+05   \n",
              "mean   1.268619e-02  1.262548e-02  1.446068e-02  1.710546e-02  1.843739e-02   \n",
              "std    8.749935e-03  8.435258e-03  1.090153e-02  1.361602e-02  1.445078e-02   \n",
              "min    1.430511e-08  7.152557e-09  2.145767e-08  5.102158e-07  1.072884e-07   \n",
              "25%    7.648482e-03  6.074123e-03  7.159443e-03  7.740202e-03  6.887696e-03   \n",
              "50%    1.034805e-02  1.171132e-02  1.093225e-02  1.467521e-02  1.619223e-02   \n",
              "75%    1.706487e-02  1.749809e-02  2.019590e-02  2.284077e-02  2.471191e-02   \n",
              "max    1.547859e-01  1.390272e-01  7.356611e-02  1.514944e-01  1.855302e-01   \n",
              "\n",
              "              6_air       6_smoke         7_air       7_smoke         8_air  \\\n",
              "count  6.459610e+05  6.459610e+05  6.459610e+05  6.459610e+05  6.459610e+05   \n",
              "mean   1.371203e-02  1.420736e-02  1.847806e-02  1.910062e-02  2.191996e-02   \n",
              "std    1.884651e-02  1.186688e-02  1.445839e-02  1.444551e-02  1.531478e-02   \n",
              "min    3.337860e-08  6.914139e-08  2.861023e-08  2.384186e-08  7.152557e-08   \n",
              "25%    1.694245e-03  5.823970e-03  9.677210e-03  8.320546e-03  1.029706e-02   \n",
              "50%    7.036314e-03  1.425386e-02  1.459052e-02  1.420799e-02  1.815104e-02   \n",
              "75%    1.779722e-02  1.888091e-02  2.422837e-02  2.990268e-02  2.980149e-02   \n",
              "max    1.360494e-01  1.845583e-01  1.915191e-01  1.973938e-01  1.838471e-01   \n",
              "\n",
              "            8_smoke         9_air       9_smoke  \n",
              "count  6.459610e+05  6.459610e+05  6.459610e+05  \n",
              "mean   1.704071e-02  7.765614e-02  3.191006e-02  \n",
              "std    1.339409e-02  6.480293e-02  3.242970e-02  \n",
              "min    7.152557e-08  4.506111e-07  7.390976e-08  \n",
              "25%    7.370076e-03  2.739264e-02  1.095012e-02  \n",
              "50%    1.400980e-02  5.226378e-02  1.769280e-02  \n",
              "75%    2.308759e-02  1.423491e-01  4.157960e-02  \n",
              "max    1.308973e-01  6.891828e-01  2.243027e-01  "
            ]
          },
          "metadata": {},
          "execution_count": 373
        }
      ]
    },
    {
      "cell_type": "code",
      "metadata": {
        "colab": {
          "base_uri": "https://localhost:8080/"
        },
        "id": "_6y-lcSbXiVz",
        "outputId": "7b88a130-04b5-4c83-baec-65d491525c1a"
      },
      "source": [
        ""
      ],
      "execution_count": null,
      "outputs": [
        {
          "output_type": "execute_result",
          "data": {
            "text/plain": [
              "0         0.014812\n",
              "1         0.013200\n",
              "2         0.012924\n",
              "3         0.012924\n",
              "4         0.012924\n",
              "            ...   \n",
              "653654    0.008627\n",
              "653655    0.008627\n",
              "653656    0.008627\n",
              "653657    0.008663\n",
              "653658    0.008627\n",
              "Name: 1_air, Length: 645961, dtype: float64"
            ]
          },
          "metadata": {},
          "execution_count": 382
        }
      ]
    },
    {
      "cell_type": "code",
      "metadata": {
        "id": "mMBGTlnv2UCT"
      },
      "source": [
        "d4 = error1.describe()"
      ],
      "execution_count": null,
      "outputs": []
    },
    {
      "cell_type": "code",
      "metadata": {
        "colab": {
          "base_uri": "https://localhost:8080/"
        },
        "id": "3WJxu18p2xEY",
        "outputId": "f45b108e-4ad5-4ae4-f3ea-8b8b24f237cc"
      },
      "source": [
        "for i in error1.columns:\n",
        "  print(i,'warning value')\n",
        "  print(d4[i][1] + (d4[i][2]*3))\n",
        "  print('--------------------')"
      ],
      "execution_count": null,
      "outputs": [
        {
          "output_type": "stream",
          "text": [
            "1_air warning value\n",
            "0.055814314166295544\n",
            "--------------------\n",
            "1_smoke warning value\n",
            "0.10062842474716778\n",
            "--------------------\n",
            "2_air warning value\n",
            "0.06555937215359212\n",
            "--------------------\n",
            "2_smoke warning value\n",
            "0.03180451521212056\n",
            "--------------------\n",
            "3_air warning value\n",
            "0.0630707700764968\n",
            "--------------------\n",
            "3_smoke warning value\n",
            "0.038935993721461275\n",
            "--------------------\n",
            "4_air warning value\n",
            "0.037931256849179126\n",
            "--------------------\n",
            "4_smoke warning value\n",
            "0.047165282621650255\n",
            "--------------------\n",
            "5_air warning value\n",
            "0.0579535080858862\n",
            "--------------------\n",
            "5_smoke warning value\n",
            "0.0617897220154721\n",
            "--------------------\n",
            "6_air warning value\n",
            "0.07025156502527549\n",
            "--------------------\n",
            "6_smoke warning value\n",
            "0.04980799086436538\n",
            "--------------------\n",
            "7_air warning value\n",
            "0.06185323166864276\n",
            "--------------------\n",
            "7_smoke warning value\n",
            "0.0624371529149162\n",
            "--------------------\n",
            "8_air warning value\n",
            "0.0678642978239352\n",
            "--------------------\n",
            "8_smoke warning value\n",
            "0.057222973681918185\n",
            "--------------------\n",
            "9_air warning value\n",
            "0.272064918736749\n",
            "--------------------\n",
            "9_smoke warning value\n",
            "0.12919915642009128\n",
            "--------------------\n"
          ],
          "name": "stdout"
        }
      ]
    },
    {
      "cell_type": "code",
      "metadata": {
        "colab": {
          "base_uri": "https://localhost:8080/"
        },
        "id": "iGhQsDoVO4yj",
        "outputId": "dba3fd41-e1e3-4502-a68d-0f5d5998e805"
      },
      "source": [
        "for i in error1.columns:\n",
        "  print(i,'stop value')\n",
        "  print(d4[i][1] + (d4[i][2]*4))\n",
        "  print('--------------------')"
      ],
      "execution_count": null,
      "outputs": [
        {
          "output_type": "stream",
          "text": [
            "1_air stop value\n",
            "0.06865373091052654\n",
            "--------------------\n",
            "1_smoke stop value\n",
            "0.12412960933121443\n",
            "--------------------\n",
            "2_air stop value\n",
            "0.08132468796859844\n",
            "--------------------\n",
            "2_smoke stop value\n",
            "0.0388205973035723\n",
            "--------------------\n",
            "3_air stop value\n",
            "0.07809073063419125\n",
            "--------------------\n",
            "3_smoke stop value\n",
            "0.047685928980029775\n",
            "--------------------\n",
            "4_air stop value\n",
            "0.046366515294407495\n",
            "--------------------\n",
            "4_smoke stop value\n",
            "0.05806681644530538\n",
            "--------------------\n",
            "5_air stop value\n",
            "0.0715695240778568\n",
            "--------------------\n",
            "5_smoke stop value\n",
            "0.07624049997605276\n",
            "--------------------\n",
            "6_air stop value\n",
            "0.08909807542920568\n",
            "--------------------\n",
            "6_smoke stop value\n",
            "0.061674868649301065\n",
            "--------------------\n",
            "7_air stop value\n",
            "0.07631162343613063\n",
            "--------------------\n",
            "7_smoke stop value\n",
            "0.0768826640688666\n",
            "--------------------\n",
            "8_air stop value\n",
            "0.08317907786629998\n",
            "--------------------\n",
            "8_smoke stop value\n",
            "0.070617060456833\n",
            "--------------------\n",
            "9_air stop value\n",
            "0.33686784599831066\n",
            "--------------------\n",
            "9_smoke stop value\n",
            "0.1616288565453891\n",
            "--------------------\n"
          ],
          "name": "stdout"
        }
      ]
    }
  ]
}